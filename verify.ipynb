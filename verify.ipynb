{
 "cells": [
  {
   "cell_type": "code",
   "execution_count": 18,
   "id": "7ac60d4d",
   "metadata": {},
   "outputs": [
    {
     "data": {
      "text/html": [
       "<div><style>\n",
       ".dataframe > thead > tr,\n",
       ".dataframe > tbody > tr {\n",
       "  text-align: right;\n",
       "  white-space: pre-wrap;\n",
       "}\n",
       "</style>\n",
       "<small>shape: (200, 4)</small><table border=\"1\" class=\"dataframe\"><thead><tr><th>prompt</th><th>id</th><th>labels</th><th>acc</th></tr><tr><td>str</td><td>str</td><td>str</td><td>f64</td></tr></thead><tbody><tr><td>&quot;Solving the given programming …</td><td>&quot;Codeforces/1995C&quot;</td><td>&quot;{&quot;extra&quot;: {&quot;source&quot;: &quot;arnold_d…</td><td>0.0</td></tr><tr><td>&quot;Solving the given programming …</td><td>&quot;Codeforces/43D&quot;</td><td>&quot;{&quot;extra&quot;: {&quot;source&quot;: &quot;arnold_d…</td><td>0.0</td></tr><tr><td>&quot;Solving the given programming …</td><td>&quot;Codeforces/633F&quot;</td><td>&quot;{&quot;extra&quot;: {&quot;source&quot;: &quot;arnold_d…</td><td>0.0</td></tr><tr><td>&quot;Solving the given programming …</td><td>&quot;Codeforces/887E&quot;</td><td>&quot;{&quot;extra&quot;: {&quot;source&quot;: &quot;arnold_d…</td><td>0.0</td></tr><tr><td>&quot;Solving the given programming …</td><td>&quot;Codeforces/1311E&quot;</td><td>&quot;{&quot;extra&quot;: {&quot;source&quot;: &quot;arnold_d…</td><td>0.0</td></tr><tr><td>&hellip;</td><td>&hellip;</td><td>&hellip;</td><td>&hellip;</td></tr><tr><td>&quot;Solving the given programming …</td><td>&quot;Codeforces/306D&quot;</td><td>&quot;{&quot;extra&quot;: {&quot;source&quot;: &quot;arnold_d…</td><td>0.0</td></tr><tr><td>&quot;Solving the given programming …</td><td>&quot;Codeforces/273E&quot;</td><td>&quot;{&quot;extra&quot;: {&quot;source&quot;: &quot;arnold_d…</td><td>0.0</td></tr><tr><td>&quot;Solving the given programming …</td><td>&quot;Codeforces/323B&quot;</td><td>&quot;{&quot;extra&quot;: {&quot;source&quot;: &quot;arnold_d…</td><td>0.0</td></tr><tr><td>&quot;Solving the given programming …</td><td>&quot;Codeforces/1012D&quot;</td><td>&quot;{&quot;extra&quot;: {&quot;source&quot;: &quot;arnold_d…</td><td>0.0</td></tr><tr><td>&quot;Solving the given programming …</td><td>&quot;Codeforces/1526D&quot;</td><td>&quot;{&quot;extra&quot;: {&quot;source&quot;: &quot;arnold_d…</td><td>0.125</td></tr></tbody></table></div>"
      ],
      "text/plain": [
       "shape: (200, 4)\n",
       "┌─────────────────────────────────┬──────────────────┬─────────────────────────────────┬───────┐\n",
       "│ prompt                          ┆ id               ┆ labels                          ┆ acc   │\n",
       "│ ---                             ┆ ---              ┆ ---                             ┆ ---   │\n",
       "│ str                             ┆ str              ┆ str                             ┆ f64   │\n",
       "╞═════════════════════════════════╪══════════════════╪═════════════════════════════════╪═══════╡\n",
       "│ Solving the given programming … ┆ Codeforces/1995C ┆ {\"extra\": {\"source\": \"arnold_d… ┆ 0.0   │\n",
       "│ Solving the given programming … ┆ Codeforces/43D   ┆ {\"extra\": {\"source\": \"arnold_d… ┆ 0.0   │\n",
       "│ Solving the given programming … ┆ Codeforces/633F  ┆ {\"extra\": {\"source\": \"arnold_d… ┆ 0.0   │\n",
       "│ Solving the given programming … ┆ Codeforces/887E  ┆ {\"extra\": {\"source\": \"arnold_d… ┆ 0.0   │\n",
       "│ Solving the given programming … ┆ Codeforces/1311E ┆ {\"extra\": {\"source\": \"arnold_d… ┆ 0.0   │\n",
       "│ …                               ┆ …                ┆ …                               ┆ …     │\n",
       "│ Solving the given programming … ┆ Codeforces/306D  ┆ {\"extra\": {\"source\": \"arnold_d… ┆ 0.0   │\n",
       "│ Solving the given programming … ┆ Codeforces/273E  ┆ {\"extra\": {\"source\": \"arnold_d… ┆ 0.0   │\n",
       "│ Solving the given programming … ┆ Codeforces/323B  ┆ {\"extra\": {\"source\": \"arnold_d… ┆ 0.0   │\n",
       "│ Solving the given programming … ┆ Codeforces/1012D ┆ {\"extra\": {\"source\": \"arnold_d… ┆ 0.0   │\n",
       "│ Solving the given programming … ┆ Codeforces/1526D ┆ {\"extra\": {\"source\": \"arnold_d… ┆ 0.125 │\n",
       "└─────────────────────────────────┴──────────────────┴─────────────────────────────────┴───────┘"
      ]
     },
     "execution_count": 18,
     "metadata": {},
     "output_type": "execute_result"
    }
   ],
   "source": [
    "import polars as pl\n",
    "df = pl.read_ndjson(\"data/0625_reinject.annotation.jsonl\")\n",
    "df"
   ]
  },
  {
   "cell_type": "code",
   "execution_count": 17,
   "id": "a9bf28f0",
   "metadata": {},
   "outputs": [
    {
     "data": {
      "text/plain": [
       "200"
      ]
     },
     "execution_count": 17,
     "metadata": {},
     "output_type": "execute_result"
    }
   ],
   "source": [
    "abandoned_list = list(df[\"id\"])\n",
    "len(abandoned_list)"
   ]
  },
  {
   "cell_type": "code",
   "execution_count": null,
   "id": "bc642ac3",
   "metadata": {},
   "outputs": [
    {
     "data": {
      "text/plain": [
       "620"
      ]
     },
     "execution_count": 15,
     "metadata": {},
     "output_type": "execute_result"
    }
   ],
   "source": [
    "import json\n",
    "\n",
    "prompts = json.load(open(\"data/250703_rlmf_abandoned_labels_620.json\"))"
   ]
  },
  {
   "cell_type": "code",
   "execution_count": 19,
   "id": "7317aaf2",
   "metadata": {},
   "outputs": [
    {
     "data": {
      "text/plain": [
       "620"
      ]
     },
     "execution_count": 19,
     "metadata": {},
     "output_type": "execute_result"
    }
   ],
   "source": [
    "len(prompts)"
   ]
  },
  {
   "cell_type": "code",
   "execution_count": 22,
   "id": "a4f0c40b",
   "metadata": {},
   "outputs": [],
   "source": [
    "al = list(filter(lambda x: x[\"question_id\"] not in abandoned_list, prompts))\n",
    "len(al)\n",
    "\n",
    "json.dump(al, open(\"data/250703_rlmf_abandoned_labels_620_filtered.json\", \"w\"))"
   ]
  },
  {
   "cell_type": "code",
   "execution_count": 9,
   "id": "b0608c68",
   "metadata": {},
   "outputs": [
    {
     "data": {
      "text/html": [
       "<div><style>\n",
       ".dataframe > thead > tr,\n",
       ".dataframe > tbody > tr {\n",
       "  text-align: right;\n",
       "  white-space: pre-wrap;\n",
       "}\n",
       "</style>\n",
       "<small>shape: (200, 4)</small><table border=\"1\" class=\"dataframe\"><thead><tr><th>prompt</th><th>id</th><th>labels</th><th>acc</th></tr><tr><td>str</td><td>str</td><td>str</td><td>f64</td></tr></thead><tbody><tr><td>&quot;Solving the given programming …</td><td>&quot;Codeforces/1995C&quot;</td><td>&quot;{&quot;extra&quot;: {&quot;source&quot;: &quot;arnold_d…</td><td>0.0</td></tr><tr><td>&quot;Solving the given programming …</td><td>&quot;Codeforces/43D&quot;</td><td>&quot;{&quot;extra&quot;: {&quot;source&quot;: &quot;arnold_d…</td><td>0.0</td></tr><tr><td>&quot;Solving the given programming …</td><td>&quot;Codeforces/633F&quot;</td><td>&quot;{&quot;extra&quot;: {&quot;source&quot;: &quot;arnold_d…</td><td>0.0</td></tr><tr><td>&quot;Solving the given programming …</td><td>&quot;Codeforces/887E&quot;</td><td>&quot;{&quot;extra&quot;: {&quot;source&quot;: &quot;arnold_d…</td><td>0.0</td></tr><tr><td>&quot;Solving the given programming …</td><td>&quot;Codeforces/1311E&quot;</td><td>&quot;{&quot;extra&quot;: {&quot;source&quot;: &quot;arnold_d…</td><td>0.0</td></tr><tr><td>&hellip;</td><td>&hellip;</td><td>&hellip;</td><td>&hellip;</td></tr><tr><td>&quot;Solving the given programming …</td><td>&quot;Codeforces/306D&quot;</td><td>&quot;{&quot;extra&quot;: {&quot;source&quot;: &quot;arnold_d…</td><td>0.0</td></tr><tr><td>&quot;Solving the given programming …</td><td>&quot;Codeforces/273E&quot;</td><td>&quot;{&quot;extra&quot;: {&quot;source&quot;: &quot;arnold_d…</td><td>0.0</td></tr><tr><td>&quot;Solving the given programming …</td><td>&quot;Codeforces/323B&quot;</td><td>&quot;{&quot;extra&quot;: {&quot;source&quot;: &quot;arnold_d…</td><td>0.0</td></tr><tr><td>&quot;Solving the given programming …</td><td>&quot;Codeforces/1012D&quot;</td><td>&quot;{&quot;extra&quot;: {&quot;source&quot;: &quot;arnold_d…</td><td>0.0</td></tr><tr><td>&quot;Solving the given programming …</td><td>&quot;Codeforces/1526D&quot;</td><td>&quot;{&quot;extra&quot;: {&quot;source&quot;: &quot;arnold_d…</td><td>0.125</td></tr></tbody></table></div>"
      ],
      "text/plain": [
       "shape: (200, 4)\n",
       "┌─────────────────────────────────┬──────────────────┬─────────────────────────────────┬───────┐\n",
       "│ prompt                          ┆ id               ┆ labels                          ┆ acc   │\n",
       "│ ---                             ┆ ---              ┆ ---                             ┆ ---   │\n",
       "│ str                             ┆ str              ┆ str                             ┆ f64   │\n",
       "╞═════════════════════════════════╪══════════════════╪═════════════════════════════════╪═══════╡\n",
       "│ Solving the given programming … ┆ Codeforces/1995C ┆ {\"extra\": {\"source\": \"arnold_d… ┆ 0.0   │\n",
       "│ Solving the given programming … ┆ Codeforces/43D   ┆ {\"extra\": {\"source\": \"arnold_d… ┆ 0.0   │\n",
       "│ Solving the given programming … ┆ Codeforces/633F  ┆ {\"extra\": {\"source\": \"arnold_d… ┆ 0.0   │\n",
       "│ Solving the given programming … ┆ Codeforces/887E  ┆ {\"extra\": {\"source\": \"arnold_d… ┆ 0.0   │\n",
       "│ Solving the given programming … ┆ Codeforces/1311E ┆ {\"extra\": {\"source\": \"arnold_d… ┆ 0.0   │\n",
       "│ …                               ┆ …                ┆ …                               ┆ …     │\n",
       "│ Solving the given programming … ┆ Codeforces/306D  ┆ {\"extra\": {\"source\": \"arnold_d… ┆ 0.0   │\n",
       "│ Solving the given programming … ┆ Codeforces/273E  ┆ {\"extra\": {\"source\": \"arnold_d… ┆ 0.0   │\n",
       "│ Solving the given programming … ┆ Codeforces/323B  ┆ {\"extra\": {\"source\": \"arnold_d… ┆ 0.0   │\n",
       "│ Solving the given programming … ┆ Codeforces/1012D ┆ {\"extra\": {\"source\": \"arnold_d… ┆ 0.0   │\n",
       "│ Solving the given programming … ┆ Codeforces/1526D ┆ {\"extra\": {\"source\": \"arnold_d… ┆ 0.125 │\n",
       "└─────────────────────────────────┴──────────────────┴─────────────────────────────────┴───────┘"
      ]
     },
     "execution_count": 9,
     "metadata": {},
     "output_type": "execute_result"
    }
   ],
   "source": [
    "# filter to check id is not in prompts\n",
    "df.filter(~pl.col(\"id\").is_in(prompts))"
   ]
  },
  {
   "cell_type": "code",
   "execution_count": null,
   "id": "f1dda7ee",
   "metadata": {},
   "outputs": [],
   "source": []
  }
 ],
 "metadata": {
  "kernelspec": {
   "display_name": ".venv",
   "language": "python",
   "name": "python3"
  },
  "language_info": {
   "codemirror_mode": {
    "name": "ipython",
    "version": 3
   },
   "file_extension": ".py",
   "mimetype": "text/x-python",
   "name": "python",
   "nbconvert_exporter": "python",
   "pygments_lexer": "ipython3",
   "version": "3.10.17"
  }
 },
 "nbformat": 4,
 "nbformat_minor": 5
}
