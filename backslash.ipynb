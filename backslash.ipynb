{
 "cells": [
  {
   "cell_type": "code",
   "execution_count": 2,
   "id": "60f0073b",
   "metadata": {},
   "outputs": [
    {
     "data": {
      "text/html": [
       "<div><style>\n",
       ".dataframe > thead > tr,\n",
       ".dataframe > tbody > tr {\n",
       "  text-align: right;\n",
       "  white-space: pre-wrap;\n",
       "}\n",
       "</style>\n",
       "<small>shape: (5, 26)</small><table border=\"1\" class=\"dataframe\"><thead><tr><th>task id</th><th>trainer id</th><th>model name</th><th>user prompt</th><th>system prompt</th><th>intervene_system_prompt</th><th>intervene prompt</th><th>ground_truth_answer</th><th>abandon_prompt</th><th>abandon_prompt_reason</th><th>abandon_prompt_explanation</th><th>initial_reasoning</th><th>response</th><th>final_answer</th><th>temperature</th><th>total_tokens</th><th>intervention rounds</th><th>CoT quality</th><th>Model performance classification</th><th>remarks</th><th>question_id</th><th>level</th><th>codeforces_submission_id</th><th>programming_language</th><th>ACC</th><th>total_latency (ms)</th></tr><tr><td>i64</td><td>i64</td><td>str</td><td>str</td><td>str</td><td>str</td><td>str</td><td>str</td><td>str</td><td>null</td><td>null</td><td>str</td><td>str</td><td>str</td><td>i64</td><td>i64</td><td>i64</td><td>str</td><td>str</td><td>str</td><td>str</td><td>str</td><td>i64</td><td>str</td><td>f64</td><td>i64</td></tr></thead><tbody><tr><td>55690</td><td>553</td><td>&quot;ep-20250531134931-xwct7&quot;</td><td>&quot;Solving the given programming …</td><td>&quot;You are an expert problem solv…</td><td>&quot;You are an expert problem solv…</td><td>&quot;You are an expert problem solv…</td><td>&quot;None&quot;</td><td>&quot;No&quot;</td><td>null</td><td>null</td><td>&quot;\\\\&quot;\\\\\\\\nGot it, let&#x27;s try to s…</td><td>&quot;\\\\&quot;\\\\\\\\nGot it, let&#x27;s try to s…</td><td>&quot;To solve this problem, we need…</td><td>1</td><td>1255</td><td>9</td><td>&quot;Minor Flaws&quot;</td><td>&quot;Model response is incorrect bu…</td><td>&quot;{&#x27;remarks&#x27;: [{&#x27;intervene_index…</td><td>&quot;Codeforces/1190C&quot;</td><td>null</td><td>326245939</td><td>&quot;C++&quot;</td><td>null</td><td>-1</td></tr><tr><td>55845</td><td>75</td><td>&quot;ep-20250531134931-xwct7&quot;</td><td>&quot;Solving the given programming …</td><td>&quot;You are an expert problem solv…</td><td>&quot;You are an expert problem solv…</td><td>&quot;You are an expert problem solv…</td><td>&quot;#include&lt;bits/stdc++.h&gt;\\nusing…</td><td>&quot;No&quot;</td><td>null</td><td>null</td><td>&quot;\\\\&quot;\\\\\\\\nGot it, let&#x27;s try to s…</td><td>&quot;\\\\&quot;\\\\\\\\nGot it, let&#x27;s try to s…</td><td>&quot;To solve this problem, we need…</td><td>1</td><td>1025</td><td>5</td><td>&quot;Good&quot;</td><td>&quot;Model response is incorrect bu…</td><td>&quot;{&#x27;remarks&#x27;: [{&#x27;intervene_index…</td><td>&quot;Codeforces/1975F&quot;</td><td>null</td><td>326159400</td><td>&quot;C++&quot;</td><td>0.0</td><td>-1</td></tr><tr><td>60212</td><td>400</td><td>&quot;ep-20250531134931-xwct7&quot;</td><td>&quot;Solving the given programming …</td><td>&quot;You are an expert problem solv…</td><td>&quot;You are an expert problem solv…</td><td>&quot;You are an expert problem solv…</td><td>&quot;None&quot;</td><td>&quot;No&quot;</td><td>null</td><td>null</td><td>&quot;Got it, let&#x27;s fix the reasonin…</td><td>&quot;Got it, let&#x27;s fix the reasonin…</td><td>&quot;To solve this problem, we need…</td><td>1</td><td>876</td><td>1</td><td>&quot;Minor Flaws&quot;</td><td>&quot;Model response is incorrect bu…</td><td>&quot;{&#x27;remarks&#x27;: [{&#x27;intervene_index…</td><td>&quot;Codeforces/1753B&quot;</td><td>null</td><td>326160891</td><td>&quot;C++&quot;</td><td>0.125</td><td>9339693</td></tr><tr><td>66441</td><td>321</td><td>&quot;ep-20250531134931-xwct7&quot;</td><td>&quot;Solving the given programming …</td><td>&quot;You are an expert problem solv…</td><td>&quot;You are an expert problem solv…</td><td>&quot;You are an expert problem solv…</td><td>&quot;None&quot;</td><td>&quot;No&quot;</td><td>null</td><td>null</td><td>&quot;\\\\nGot it, let&#x27;s try to solve …</td><td>&quot;Got it, let&#x27;s try to solve thi…</td><td>&quot;To solve this problem, we need…</td><td>1</td><td>1363</td><td>29</td><td>&quot;Good&quot;</td><td>&quot;Model response is incorrect bu…</td><td>&quot;{&#x27;remarks&#x27;: [{&#x27;intervene_index…</td><td>&quot;Codeforces/543E&quot;</td><td>&quot;0&quot;</td><td>326297397</td><td>&quot;C++&quot;</td><td>0.0</td><td>-1</td></tr><tr><td>66572</td><td>400</td><td>&quot;ep-20250531134931-xwct7&quot;</td><td>&quot;Solving the given programming …</td><td>&quot;You are an expert problem solv…</td><td>&quot;You are an expert problem solv…</td><td>&quot;You are an expert problem solv…</td><td>&quot;None&quot;</td><td>&quot;No&quot;</td><td>null</td><td>null</td><td>&quot;\\\\&quot;\\\\\\\\\\\\&quot;\\\\\\\\\\\\\\\\nGot it, let…</td><td>&quot;\\\\&quot;\\\\\\\\\\\\&quot;\\\\\\\\\\\\\\\\nGot it, let…</td><td>&quot;To solve this problem, we need…</td><td>1</td><td>1813</td><td>2</td><td>&quot;Minor Flaws&quot;</td><td>&quot;Model response is incorrect bu…</td><td>&quot;{&#x27;remarks&#x27;: [{&#x27;intervene_index…</td><td>&quot;Codeforces/610E&quot;</td><td>null</td><td>326157971</td><td>&quot;C++&quot;</td><td>0.0625</td><td>1158924</td></tr></tbody></table></div>"
      ],
      "text/plain": [
       "shape: (5, 26)\n",
       "┌─────────┬────────────┬────────────┬────────────┬───┬────────────┬───────────┬────────┬───────────┐\n",
       "│ task id ┆ trainer id ┆ model name ┆ user       ┆ … ┆ codeforces ┆ programmi ┆ ACC    ┆ total_lat │\n",
       "│ ---     ┆ ---        ┆ ---        ┆ prompt     ┆   ┆ _submissio ┆ ng_langua ┆ ---    ┆ ency (ms) │\n",
       "│ i64     ┆ i64        ┆ str        ┆ ---        ┆   ┆ n_id       ┆ ge        ┆ f64    ┆ ---       │\n",
       "│         ┆            ┆            ┆ str        ┆   ┆ ---        ┆ ---       ┆        ┆ i64       │\n",
       "│         ┆            ┆            ┆            ┆   ┆ i64        ┆ str       ┆        ┆           │\n",
       "╞═════════╪════════════╪════════════╪════════════╪═══╪════════════╪═══════════╪════════╪═══════════╡\n",
       "│ 55690   ┆ 553        ┆ ep-2025053 ┆ Solving    ┆ … ┆ 326245939  ┆ C++       ┆ null   ┆ -1        │\n",
       "│         ┆            ┆ 1134931-xw ┆ the given  ┆   ┆            ┆           ┆        ┆           │\n",
       "│         ┆            ┆ ct7        ┆ programmin ┆   ┆            ┆           ┆        ┆           │\n",
       "│         ┆            ┆            ┆ g …        ┆   ┆            ┆           ┆        ┆           │\n",
       "│ 55845   ┆ 75         ┆ ep-2025053 ┆ Solving    ┆ … ┆ 326159400  ┆ C++       ┆ 0.0    ┆ -1        │\n",
       "│         ┆            ┆ 1134931-xw ┆ the given  ┆   ┆            ┆           ┆        ┆           │\n",
       "│         ┆            ┆ ct7        ┆ programmin ┆   ┆            ┆           ┆        ┆           │\n",
       "│         ┆            ┆            ┆ g …        ┆   ┆            ┆           ┆        ┆           │\n",
       "│ 60212   ┆ 400        ┆ ep-2025053 ┆ Solving    ┆ … ┆ 326160891  ┆ C++       ┆ 0.125  ┆ 9339693   │\n",
       "│         ┆            ┆ 1134931-xw ┆ the given  ┆   ┆            ┆           ┆        ┆           │\n",
       "│         ┆            ┆ ct7        ┆ programmin ┆   ┆            ┆           ┆        ┆           │\n",
       "│         ┆            ┆            ┆ g …        ┆   ┆            ┆           ┆        ┆           │\n",
       "│ 66441   ┆ 321        ┆ ep-2025053 ┆ Solving    ┆ … ┆ 326297397  ┆ C++       ┆ 0.0    ┆ -1        │\n",
       "│         ┆            ┆ 1134931-xw ┆ the given  ┆   ┆            ┆           ┆        ┆           │\n",
       "│         ┆            ┆ ct7        ┆ programmin ┆   ┆            ┆           ┆        ┆           │\n",
       "│         ┆            ┆            ┆ g …        ┆   ┆            ┆           ┆        ┆           │\n",
       "│ 66572   ┆ 400        ┆ ep-2025053 ┆ Solving    ┆ … ┆ 326157971  ┆ C++       ┆ 0.0625 ┆ 1158924   │\n",
       "│         ┆            ┆ 1134931-xw ┆ the given  ┆   ┆            ┆           ┆        ┆           │\n",
       "│         ┆            ┆ ct7        ┆ programmin ┆   ┆            ┆           ┆        ┆           │\n",
       "│         ┆            ┆            ┆ g …        ┆   ┆            ┆           ┆        ┆           │\n",
       "└─────────┴────────────┴────────────┴────────────┴───┴────────────┴───────────┴────────┴───────────┘"
      ]
     },
     "execution_count": 2,
     "metadata": {},
     "output_type": "execute_result"
    }
   ],
   "source": [
    "import polars as pl\n",
    "\n",
    "df = pl.read_json(\"data/ALL/RLMF 27062025_26_V1_66.json\")\n",
    "df.head()"
   ]
  },
  {
   "cell_type": "code",
   "execution_count": 3,
   "id": "72f77755",
   "metadata": {},
   "outputs": [
    {
     "data": {
      "text/html": [
       "<div><style>\n",
       ".dataframe > thead > tr,\n",
       ".dataframe > tbody > tr {\n",
       "  text-align: right;\n",
       "  white-space: pre-wrap;\n",
       "}\n",
       "</style>\n",
       "<small>shape: (62, 26)</small><table border=\"1\" class=\"dataframe\"><thead><tr><th>task id</th><th>trainer id</th><th>model name</th><th>user prompt</th><th>system prompt</th><th>intervene_system_prompt</th><th>intervene prompt</th><th>ground_truth_answer</th><th>abandon_prompt</th><th>abandon_prompt_reason</th><th>abandon_prompt_explanation</th><th>initial_reasoning</th><th>response</th><th>final_answer</th><th>temperature</th><th>total_tokens</th><th>intervention rounds</th><th>CoT quality</th><th>Model performance classification</th><th>remarks</th><th>question_id</th><th>level</th><th>codeforces_submission_id</th><th>programming_language</th><th>ACC</th><th>total_latency (ms)</th></tr><tr><td>i64</td><td>i64</td><td>str</td><td>str</td><td>str</td><td>str</td><td>str</td><td>str</td><td>str</td><td>null</td><td>null</td><td>str</td><td>str</td><td>str</td><td>i64</td><td>i64</td><td>i64</td><td>str</td><td>str</td><td>str</td><td>str</td><td>str</td><td>i64</td><td>str</td><td>f64</td><td>i64</td></tr></thead><tbody><tr><td>55690</td><td>553</td><td>&quot;ep-20250531134931-xwct7&quot;</td><td>&quot;Solving the given programming …</td><td>&quot;You are an expert problem solv…</td><td>&quot;You are an expert problem solv…</td><td>&quot;You are an expert problem solv…</td><td>&quot;None&quot;</td><td>&quot;No&quot;</td><td>null</td><td>null</td><td>&quot;\\\\&quot;\\\\\\\\nGot it, let&#x27;s try to s…</td><td>&quot;\\\\&quot;\\\\\\\\nGot it, let&#x27;s try to s…</td><td>&quot;To solve this problem, we need…</td><td>1</td><td>1255</td><td>9</td><td>&quot;Minor Flaws&quot;</td><td>&quot;Model response is incorrect bu…</td><td>&quot;{&#x27;remarks&#x27;: [{&#x27;intervene_index…</td><td>&quot;Codeforces/1190C&quot;</td><td>null</td><td>326245939</td><td>&quot;C++&quot;</td><td>null</td><td>-1</td></tr><tr><td>55845</td><td>75</td><td>&quot;ep-20250531134931-xwct7&quot;</td><td>&quot;Solving the given programming …</td><td>&quot;You are an expert problem solv…</td><td>&quot;You are an expert problem solv…</td><td>&quot;You are an expert problem solv…</td><td>&quot;#include&lt;bits/stdc++.h&gt;\\nusing…</td><td>&quot;No&quot;</td><td>null</td><td>null</td><td>&quot;\\\\&quot;\\\\\\\\nGot it, let&#x27;s try to s…</td><td>&quot;\\\\&quot;\\\\\\\\nGot it, let&#x27;s try to s…</td><td>&quot;To solve this problem, we need…</td><td>1</td><td>1025</td><td>5</td><td>&quot;Good&quot;</td><td>&quot;Model response is incorrect bu…</td><td>&quot;{&#x27;remarks&#x27;: [{&#x27;intervene_index…</td><td>&quot;Codeforces/1975F&quot;</td><td>null</td><td>326159400</td><td>&quot;C++&quot;</td><td>0.0</td><td>-1</td></tr><tr><td>60212</td><td>400</td><td>&quot;ep-20250531134931-xwct7&quot;</td><td>&quot;Solving the given programming …</td><td>&quot;You are an expert problem solv…</td><td>&quot;You are an expert problem solv…</td><td>&quot;You are an expert problem solv…</td><td>&quot;None&quot;</td><td>&quot;No&quot;</td><td>null</td><td>null</td><td>&quot;Got it, let&#x27;s fix the reasonin…</td><td>&quot;Got it, let&#x27;s fix the reasonin…</td><td>&quot;To solve this problem, we need…</td><td>1</td><td>876</td><td>1</td><td>&quot;Minor Flaws&quot;</td><td>&quot;Model response is incorrect bu…</td><td>&quot;{&#x27;remarks&#x27;: [{&#x27;intervene_index…</td><td>&quot;Codeforces/1753B&quot;</td><td>null</td><td>326160891</td><td>&quot;C++&quot;</td><td>0.125</td><td>9339693</td></tr><tr><td>66441</td><td>321</td><td>&quot;ep-20250531134931-xwct7&quot;</td><td>&quot;Solving the given programming …</td><td>&quot;You are an expert problem solv…</td><td>&quot;You are an expert problem solv…</td><td>&quot;You are an expert problem solv…</td><td>&quot;None&quot;</td><td>&quot;No&quot;</td><td>null</td><td>null</td><td>&quot;\\\\nGot it, let&#x27;s try to solve …</td><td>&quot;Got it, let&#x27;s try to solve thi…</td><td>&quot;To solve this problem, we need…</td><td>1</td><td>1363</td><td>29</td><td>&quot;Good&quot;</td><td>&quot;Model response is incorrect bu…</td><td>&quot;{&#x27;remarks&#x27;: [{&#x27;intervene_index…</td><td>&quot;Codeforces/543E&quot;</td><td>&quot;0&quot;</td><td>326297397</td><td>&quot;C++&quot;</td><td>0.0</td><td>-1</td></tr><tr><td>66572</td><td>400</td><td>&quot;ep-20250531134931-xwct7&quot;</td><td>&quot;Solving the given programming …</td><td>&quot;You are an expert problem solv…</td><td>&quot;You are an expert problem solv…</td><td>&quot;You are an expert problem solv…</td><td>&quot;None&quot;</td><td>&quot;No&quot;</td><td>null</td><td>null</td><td>&quot;\\\\&quot;\\\\\\\\\\\\&quot;\\\\\\\\\\\\\\\\nGot it, let…</td><td>&quot;\\\\&quot;\\\\\\\\\\\\&quot;\\\\\\\\\\\\\\\\nGot it, let…</td><td>&quot;To solve this problem, we need…</td><td>1</td><td>1813</td><td>2</td><td>&quot;Minor Flaws&quot;</td><td>&quot;Model response is incorrect bu…</td><td>&quot;{&#x27;remarks&#x27;: [{&#x27;intervene_index…</td><td>&quot;Codeforces/610E&quot;</td><td>null</td><td>326157971</td><td>&quot;C++&quot;</td><td>0.0625</td><td>1158924</td></tr><tr><td>&hellip;</td><td>&hellip;</td><td>&hellip;</td><td>&hellip;</td><td>&hellip;</td><td>&hellip;</td><td>&hellip;</td><td>&hellip;</td><td>&hellip;</td><td>&hellip;</td><td>&hellip;</td><td>&hellip;</td><td>&hellip;</td><td>&hellip;</td><td>&hellip;</td><td>&hellip;</td><td>&hellip;</td><td>&hellip;</td><td>&hellip;</td><td>&hellip;</td><td>&hellip;</td><td>&hellip;</td><td>&hellip;</td><td>&hellip;</td><td>&hellip;</td><td>&hellip;</td></tr><tr><td>70611</td><td>75</td><td>&quot;ep-20250531134931-xwct7&quot;</td><td>&quot;Solving the given programming …</td><td>&quot;You are an expert problem solv…</td><td>&quot;You are an expert problem solv…</td><td>&quot;You are an expert problem solv…</td><td>&quot;#include &lt;bits/stdc++.h&gt;\\nusin…</td><td>&quot;No&quot;</td><td>null</td><td>null</td><td>&quot;\\\\&quot;Got it, let&#x27;s try to solve …</td><td>&quot;\\\\&quot;Got it, let&#x27;s try to solve …</td><td>&quot;To solve this problem, we need…</td><td>1</td><td>1397</td><td>2</td><td>&quot;Good&quot;</td><td>&quot;Model response is incorrect bu…</td><td>&quot;{&#x27;remarks&#x27;: [{&#x27;intervene_index…</td><td>&quot;Codeforces/8D&quot;</td><td>null</td><td>326265720</td><td>&quot;C++&quot;</td><td>0.0</td><td>-1</td></tr><tr><td>70613</td><td>157</td><td>&quot;ep-20250531134931-xwct7&quot;</td><td>&quot;Solving the given programming …</td><td>&quot;You are an expert problem solv…</td><td>&quot;You are an expert problem solv…</td><td>&quot;You are an expert problem solv…</td><td>&quot;None&quot;</td><td>&quot;No&quot;</td><td>null</td><td>null</td><td>&quot;\\\\&quot;Got it, let&#x27;s try to solve …</td><td>&quot;\\\\&quot;Got it, let&#x27;s try to solve …</td><td>&quot;To solve this problem, we need…</td><td>1</td><td>1300</td><td>1</td><td>&quot;Good&quot;</td><td>&quot;Model response is incorrect bu…</td><td>&quot;{&#x27;remarks&#x27;: [{&#x27;intervene_index…</td><td>&quot;Codeforces/351C&quot;</td><td>null</td><td>326280958</td><td>&quot;C++&quot;</td><td>0.125</td><td>-1</td></tr><tr><td>70620</td><td>160</td><td>&quot;ep-20250531134931-xwct7&quot;</td><td>&quot;Solving the given programming …</td><td>&quot;You are an expert problem solv…</td><td>&quot;You are an expert problem solv…</td><td>&quot;You are an expert problem solv…</td><td>&quot;None&quot;</td><td>&quot;No&quot;</td><td>null</td><td>null</td><td>&quot;\\\\&quot;Got it, let&#x27;s try to solve …</td><td>&quot;\\\\&quot;Got it, let&#x27;s try to solve …</td><td>&quot;To solve this problem, we need…</td><td>1</td><td>1782</td><td>2</td><td>&quot;Good&quot;</td><td>&quot;Model response is incorrect bu…</td><td>&quot;{&#x27;remarks&#x27;: [{&#x27;intervene_index…</td><td>&quot;Codeforces/660F&quot;</td><td>null</td><td>326270962</td><td>&quot;C++&quot;</td><td>0.125</td><td>-1</td></tr><tr><td>70622</td><td>199</td><td>&quot;ep-20250531134931-xwct7&quot;</td><td>&quot;Solving the given programming …</td><td>&quot;You are an expert problem solv…</td><td>&quot;You are an expert problem solv…</td><td>&quot;You are an expert problem solv…</td><td>&quot;None&quot;</td><td>&quot;No&quot;</td><td>null</td><td>null</td><td>&quot;\\\\&quot;\\\\\\\\\\\\&quot;\\\\\\\\\\\\\\\\nGot it, let…</td><td>&quot;\\\\&quot;\\\\\\\\\\\\&quot;\\\\\\\\\\\\\\\\nGot it, let…</td><td>&quot;To solve this problem, we need…</td><td>1</td><td>1138</td><td>2</td><td>&quot;Good&quot;</td><td>&quot;Model response is incorrect bu…</td><td>&quot;{&#x27;remarks&#x27;: [{&#x27;intervene_index…</td><td>&quot;Codeforces/1997F&quot;</td><td>null</td><td>326280780</td><td>&quot;C++&quot;</td><td>0.0625</td><td>-1</td></tr><tr><td>70628</td><td>141</td><td>&quot;ep-20250531134931-xwct7&quot;</td><td>&quot;Solving the given programming …</td><td>&quot;You are an expert problem solv…</td><td>&quot;You are an expert problem solv…</td><td>&quot;You are an expert problem solv…</td><td>&quot;None&quot;</td><td>&quot;No&quot;</td><td>null</td><td>null</td><td>&quot;\\\\&quot;\\\\\\\\nGot it, let&#x27;s try to s…</td><td>&quot;\\\\&quot;\\\\\\\\nGot it, let&#x27;s try to s…</td><td>&quot;To solve this problem, we need…</td><td>1</td><td>864</td><td>6</td><td>&quot;Good&quot;</td><td>&quot;Model response is incorrect bu…</td><td>&quot;{&#x27;remarks&#x27;: [{&#x27;intervene_index…</td><td>&quot;Codeforces/1172A&quot;</td><td>null</td><td>326228764</td><td>&quot;C++&quot;</td><td>0.125</td><td>-1</td></tr></tbody></table></div>"
      ],
      "text/plain": [
       "shape: (62, 26)\n",
       "┌─────────┬────────────┬────────────┬────────────┬───┬────────────┬───────────┬────────┬───────────┐\n",
       "│ task id ┆ trainer id ┆ model name ┆ user       ┆ … ┆ codeforces ┆ programmi ┆ ACC    ┆ total_lat │\n",
       "│ ---     ┆ ---        ┆ ---        ┆ prompt     ┆   ┆ _submissio ┆ ng_langua ┆ ---    ┆ ency (ms) │\n",
       "│ i64     ┆ i64        ┆ str        ┆ ---        ┆   ┆ n_id       ┆ ge        ┆ f64    ┆ ---       │\n",
       "│         ┆            ┆            ┆ str        ┆   ┆ ---        ┆ ---       ┆        ┆ i64       │\n",
       "│         ┆            ┆            ┆            ┆   ┆ i64        ┆ str       ┆        ┆           │\n",
       "╞═════════╪════════════╪════════════╪════════════╪═══╪════════════╪═══════════╪════════╪═══════════╡\n",
       "│ 55690   ┆ 553        ┆ ep-2025053 ┆ Solving    ┆ … ┆ 326245939  ┆ C++       ┆ null   ┆ -1        │\n",
       "│         ┆            ┆ 1134931-xw ┆ the given  ┆   ┆            ┆           ┆        ┆           │\n",
       "│         ┆            ┆ ct7        ┆ programmin ┆   ┆            ┆           ┆        ┆           │\n",
       "│         ┆            ┆            ┆ g …        ┆   ┆            ┆           ┆        ┆           │\n",
       "│ 55845   ┆ 75         ┆ ep-2025053 ┆ Solving    ┆ … ┆ 326159400  ┆ C++       ┆ 0.0    ┆ -1        │\n",
       "│         ┆            ┆ 1134931-xw ┆ the given  ┆   ┆            ┆           ┆        ┆           │\n",
       "│         ┆            ┆ ct7        ┆ programmin ┆   ┆            ┆           ┆        ┆           │\n",
       "│         ┆            ┆            ┆ g …        ┆   ┆            ┆           ┆        ┆           │\n",
       "│ 60212   ┆ 400        ┆ ep-2025053 ┆ Solving    ┆ … ┆ 326160891  ┆ C++       ┆ 0.125  ┆ 9339693   │\n",
       "│         ┆            ┆ 1134931-xw ┆ the given  ┆   ┆            ┆           ┆        ┆           │\n",
       "│         ┆            ┆ ct7        ┆ programmin ┆   ┆            ┆           ┆        ┆           │\n",
       "│         ┆            ┆            ┆ g …        ┆   ┆            ┆           ┆        ┆           │\n",
       "│ 66441   ┆ 321        ┆ ep-2025053 ┆ Solving    ┆ … ┆ 326297397  ┆ C++       ┆ 0.0    ┆ -1        │\n",
       "│         ┆            ┆ 1134931-xw ┆ the given  ┆   ┆            ┆           ┆        ┆           │\n",
       "│         ┆            ┆ ct7        ┆ programmin ┆   ┆            ┆           ┆        ┆           │\n",
       "│         ┆            ┆            ┆ g …        ┆   ┆            ┆           ┆        ┆           │\n",
       "│ 66572   ┆ 400        ┆ ep-2025053 ┆ Solving    ┆ … ┆ 326157971  ┆ C++       ┆ 0.0625 ┆ 1158924   │\n",
       "│         ┆            ┆ 1134931-xw ┆ the given  ┆   ┆            ┆           ┆        ┆           │\n",
       "│         ┆            ┆ ct7        ┆ programmin ┆   ┆            ┆           ┆        ┆           │\n",
       "│         ┆            ┆            ┆ g …        ┆   ┆            ┆           ┆        ┆           │\n",
       "│ …       ┆ …          ┆ …          ┆ …          ┆ … ┆ …          ┆ …         ┆ …      ┆ …         │\n",
       "│ 70611   ┆ 75         ┆ ep-2025053 ┆ Solving    ┆ … ┆ 326265720  ┆ C++       ┆ 0.0    ┆ -1        │\n",
       "│         ┆            ┆ 1134931-xw ┆ the given  ┆   ┆            ┆           ┆        ┆           │\n",
       "│         ┆            ┆ ct7        ┆ programmin ┆   ┆            ┆           ┆        ┆           │\n",
       "│         ┆            ┆            ┆ g …        ┆   ┆            ┆           ┆        ┆           │\n",
       "│ 70613   ┆ 157        ┆ ep-2025053 ┆ Solving    ┆ … ┆ 326280958  ┆ C++       ┆ 0.125  ┆ -1        │\n",
       "│         ┆            ┆ 1134931-xw ┆ the given  ┆   ┆            ┆           ┆        ┆           │\n",
       "│         ┆            ┆ ct7        ┆ programmin ┆   ┆            ┆           ┆        ┆           │\n",
       "│         ┆            ┆            ┆ g …        ┆   ┆            ┆           ┆        ┆           │\n",
       "│ 70620   ┆ 160        ┆ ep-2025053 ┆ Solving    ┆ … ┆ 326270962  ┆ C++       ┆ 0.125  ┆ -1        │\n",
       "│         ┆            ┆ 1134931-xw ┆ the given  ┆   ┆            ┆           ┆        ┆           │\n",
       "│         ┆            ┆ ct7        ┆ programmin ┆   ┆            ┆           ┆        ┆           │\n",
       "│         ┆            ┆            ┆ g …        ┆   ┆            ┆           ┆        ┆           │\n",
       "│ 70622   ┆ 199        ┆ ep-2025053 ┆ Solving    ┆ … ┆ 326280780  ┆ C++       ┆ 0.0625 ┆ -1        │\n",
       "│         ┆            ┆ 1134931-xw ┆ the given  ┆   ┆            ┆           ┆        ┆           │\n",
       "│         ┆            ┆ ct7        ┆ programmin ┆   ┆            ┆           ┆        ┆           │\n",
       "│         ┆            ┆            ┆ g …        ┆   ┆            ┆           ┆        ┆           │\n",
       "│ 70628   ┆ 141        ┆ ep-2025053 ┆ Solving    ┆ … ┆ 326228764  ┆ C++       ┆ 0.125  ┆ -1        │\n",
       "│         ┆            ┆ 1134931-xw ┆ the given  ┆   ┆            ┆           ┆        ┆           │\n",
       "│         ┆            ┆ ct7        ┆ programmin ┆   ┆            ┆           ┆        ┆           │\n",
       "│         ┆            ┆            ┆ g …        ┆   ┆            ┆           ┆        ┆           │\n",
       "└─────────┴────────────┴────────────┴────────────┴───┴────────────┴───────────┴────────┴───────────┘"
      ]
     },
     "execution_count": 3,
     "metadata": {},
     "output_type": "execute_result"
    }
   ],
   "source": [
    "df.filter(pl.col(\"response\").str.contains(r\"\\\\\\\\\\\\\\\\n\"))"
   ]
  },
  {
   "cell_type": "code",
   "execution_count": 4,
   "id": "80a1b0ad",
   "metadata": {},
   "outputs": [
    {
     "data": {
      "text/html": [
       "<div><style>\n",
       ".dataframe > thead > tr,\n",
       ".dataframe > tbody > tr {\n",
       "  text-align: right;\n",
       "  white-space: pre-wrap;\n",
       "}\n",
       "</style>\n",
       "<small>shape: (1_640, 27)</small><table border=\"1\" class=\"dataframe\"><thead><tr><th>task id</th><th>trainer id</th><th>model name</th><th>user prompt</th><th>system prompt</th><th>intervene_system_prompt</th><th>intervene prompt</th><th>ground_truth_answer</th><th>abandon_prompt</th><th>abandon_prompt_reason</th><th>abandon_prompt_explanation</th><th>initial_reasoning</th><th>response</th><th>final_answer</th><th>temperature</th><th>total_tokens</th><th>intervention rounds</th><th>CoT quality</th><th>Model performance classification</th><th>remarks</th><th>question_id</th><th>level</th><th>codeforces_submission_id</th><th>programming_language</th><th>ACC</th><th>total_latency (ms)</th><th>initial_response</th></tr><tr><td>str</td><td>i64</td><td>str</td><td>str</td><td>str</td><td>str</td><td>str</td><td>str</td><td>str</td><td>str</td><td>str</td><td>str</td><td>str</td><td>str</td><td>i64</td><td>i64</td><td>i64</td><td>str</td><td>str</td><td>str</td><td>str</td><td>str</td><td>str</td><td>str</td><td>str</td><td>i64</td><td>str</td></tr></thead><tbody><tr><td>&quot;69604&quot;</td><td>281</td><td>&quot;ep-20250531134931-xwct7&quot;</td><td>&quot;Solving the given programming …</td><td>&quot;You are an expert problem solv…</td><td>&quot;You are an expert problem solv…</td><td>&quot;You are an expert problem solv…</td><td>&quot;#include &lt;iostream&gt;\\n#include …</td><td>&quot;No&quot;</td><td>null</td><td>null</td><td>&quot;Got it, let&#x27;s start by correct…</td><td>&quot;Got it, let&#x27;s start by correct…</td><td>&quot;To solve this problem, we need…</td><td>1</td><td>1303</td><td>11</td><td>&quot;Good&quot;</td><td>&quot;Model response is incorrect bu…</td><td>&quot;{&#x27;remarks&#x27;: [{&#x27;intervene_index…</td><td>&quot;Codeforces/1713E&quot;</td><td>null</td><td>&quot;325591640&quot;</td><td>&quot;C++&quot;</td><td>&quot;0.0&quot;</td><td>-1</td><td>null</td></tr><tr><td>&quot;69773&quot;</td><td>518</td><td>&quot;ep-20250531134931-xwct7&quot;</td><td>&quot;Solving the given programming …</td><td>&quot;You are an expert problem solv…</td><td>&quot;You are an expert problem solv…</td><td>&quot;You are an expert problem solv…</td><td>&quot;None&quot;</td><td>&quot;No&quot;</td><td>null</td><td>null</td><td>&quot;\\\\nGot it, let&#x27;s try to solve …</td><td>&quot;Got it, let&#x27;s try to solve thi…</td><td>&quot;To solve this problem, we need…</td><td>1</td><td>1003</td><td>8</td><td>&quot;Minor Flaws&quot;</td><td>&quot;Model response is incorrect bu…</td><td>&quot;{&#x27;remarks&#x27;: [{&#x27;intervene_index…</td><td>&quot;Codeforces/1852C&quot;</td><td>&quot;0.0&quot;</td><td>&quot;325293803&quot;</td><td>&quot;C++&quot;</td><td>&quot;0.0&quot;</td><td>-1</td><td>null</td></tr><tr><td>&quot;55665&quot;</td><td>160</td><td>&quot;ep-20250418145052-bss5p&quot;</td><td>&quot;Solving the given programming …</td><td>&quot;You are an expert problem solv…</td><td>&quot;You are an expert problem solv…</td><td>&quot;None&quot;</td><td>&quot;None&quot;</td><td>&quot;No&quot;</td><td>null</td><td>null</td><td>&quot;Okay, let&#x27;s tackle this proble…</td><td>&quot;Okay, let&#x27;s tackle this proble…</td><td>&quot;To solve this problem, we need…</td><td>1</td><td>585</td><td>0</td><td>&quot;Good&quot;</td><td>&quot;Model response is correct with…</td><td>&quot;{&#x27;remarks&#x27;: []}&quot;</td><td>&quot;Codeforces/1374C&quot;</td><td>null</td><td>&quot;324071406&quot;</td><td>&quot;C++&quot;</td><td>&quot;0.0625&quot;</td><td>117053</td><td>null</td></tr><tr><td>&quot;55709&quot;</td><td>400</td><td>&quot;ep-20250531134931-xwct7&quot;</td><td>&quot;For a connected undirected wei…</td><td>&quot;You are an expert problem solv…</td><td>&quot;You are an expert problem solv…</td><td>&quot;You are an expert problem solv…</td><td>&quot;None&quot;</td><td>&quot;No&quot;</td><td>null</td><td>null</td><td>&quot;Um, let&#x27;s tackle this problem.…</td><td>&quot;Um, let&#x27;s tackle this problem.…</td><td>&quot;To address the efficiency and …</td><td>1</td><td>2091</td><td>13</td><td>&quot;Minor Flaws&quot;</td><td>&quot;Model response is incorrect bu…</td><td>&quot;{&#x27;remarks&#x27;: [{&#x27;intervene_index…</td><td>&quot;CF891C&quot;</td><td>&quot;6.0&quot;</td><td>&quot;324010622&quot;</td><td>&quot;C++&quot;</td><td>null</td><td>3527315</td><td>null</td></tr><tr><td>&quot;59839&quot;</td><td>396</td><td>&quot;ep-20250531134931-xwct7&quot;</td><td>&quot;Solving the given programming …</td><td>&quot;You are an expert problem solv…</td><td>&quot;You are an expert problem solv…</td><td>&quot;You are an expert problem solv…</td><td>&quot;```cpp\\n#include &lt;bits/stdc++.…</td><td>&quot;Yes&quot;</td><td>&quot;Exceeded local intervention co…</td><td>null</td><td>&quot;Okay, let&#x27;s try to figure out …</td><td>&quot;Okay, let&#x27;s try to figure out …</td><td>&quot;To solve this problem, we need…</td><td>1</td><td>584</td><td>6</td><td>&quot;Faulty&quot;</td><td>&quot;Model response is incorrect an…</td><td>&quot;{&#x27;remarks&#x27;: [{&#x27;intervene_index…</td><td>&quot;Codeforces/1043C&quot;</td><td>null</td><td>&quot;323860347&quot;</td><td>&quot;C++&quot;</td><td>&quot;0.0625&quot;</td><td>2230954</td><td>null</td></tr><tr><td>&hellip;</td><td>&hellip;</td><td>&hellip;</td><td>&hellip;</td><td>&hellip;</td><td>&hellip;</td><td>&hellip;</td><td>&hellip;</td><td>&hellip;</td><td>&hellip;</td><td>&hellip;</td><td>&hellip;</td><td>&hellip;</td><td>&hellip;</td><td>&hellip;</td><td>&hellip;</td><td>&hellip;</td><td>&hellip;</td><td>&hellip;</td><td>&hellip;</td><td>&hellip;</td><td>&hellip;</td><td>&hellip;</td><td>&hellip;</td><td>&hellip;</td><td>&hellip;</td><td>&hellip;</td></tr><tr><td>&quot;60197&quot;</td><td>null</td><td>&quot;ep-20250418145052-bss5p&quot;</td><td>&quot;Solving the given programming …</td><td>&quot;You are an expert problem solv…</td><td>&quot;You are an expert problem solv…</td><td>null</td><td>null</td><td>&quot;No&quot;</td><td>null</td><td>null</td><td>null</td><td>&quot;Okay, let&#x27;s try to figure out …</td><td>&quot;To solve this problem, we need…</td><td>1</td><td>631</td><td>0</td><td>&quot;Good&quot;</td><td>&quot;Model response is correct with…</td><td>&quot;{&#x27;remarks&#x27;: []}&quot;</td><td>&quot;Codeforces/399B&quot;</td><td>&quot;none&quot;</td><td>&quot;320788642&quot;</td><td>&quot;C++&quot;</td><td>&quot;0.0&quot;</td><td>162953</td><td>null</td></tr><tr><td>&quot;60218&quot;</td><td>null</td><td>&quot;ep-20250418145052-bss5p&quot;</td><td>&quot;Baby Ehab has a piece of Cut a…</td><td>&quot;You are an expert problem solv…</td><td>&quot;You are an expert problem solv…</td><td>null</td><td>&quot;```cpp\\n\\n#include &lt;bits/stdc+…</td><td>&quot;No&quot;</td><td>null</td><td>null</td><td>null</td><td>&quot;Okay, let&#x27;s try to figure out …</td><td>&quot;To solve this problem, we need…</td><td>1</td><td>1319</td><td>0</td><td>&quot;Good&quot;</td><td>&quot;Model response is correct with…</td><td>&quot;{&#x27;remarks&#x27;: []}&quot;</td><td>&quot;Codeforces/1514D&quot;</td><td>&quot;none&quot;</td><td>&quot;320833280&quot;</td><td>&quot;C++&quot;</td><td>&quot;0.0625&quot;</td><td>841841</td><td>null</td></tr><tr><td>&quot;60234&quot;</td><td>null</td><td>&quot;ep-20250418145052-bss5p&quot;</td><td>&quot;Solving the given programming …</td><td>&quot;You are an expert problem solv…</td><td>&quot;You are an expert problem solv…</td><td>null</td><td>null</td><td>&quot;No&quot;</td><td>null</td><td>null</td><td>null</td><td>&quot;Okay, let&#x27;s tackle this proble…</td><td>&quot;To solve this problem, we need…</td><td>1</td><td>647</td><td>0</td><td>&quot;Good&quot;</td><td>&quot;Model response is correct with…</td><td>&quot;{&#x27;remarks&#x27;: []}&quot;</td><td>&quot;Codeforces/805A&quot;</td><td>&quot;none&quot;</td><td>&quot;320941084&quot;</td><td>&quot;C++&quot;</td><td>&quot;0.0&quot;</td><td>216597</td><td>null</td></tr><tr><td>&quot;60239&quot;</td><td>null</td><td>&quot;ep-20250418145052-bss5p&quot;</td><td>&quot;Solving the given programming …</td><td>&quot;You are an expert problem solv…</td><td>&quot;You are an expert problem solv…</td><td>&quot;You are an expert problem solv…</td><td>null</td><td>&quot;No&quot;</td><td>null</td><td>null</td><td>null</td><td>&quot;Okay, let&#x27;s tackle this proble…</td><td>&quot;To solve this problem, we need…</td><td>1</td><td>734</td><td>1</td><td>&quot;Good&quot;</td><td>&quot;Model response is incorrect bu…</td><td>&quot;{&#x27;remarks&#x27;: [{&#x27;intervene_index…</td><td>&quot;Codeforces/1742C&quot;</td><td>&quot;none&quot;</td><td>&quot;320846805&quot;</td><td>&quot;C++&quot;</td><td>&quot;0.125&quot;</td><td>266119</td><td>null</td></tr><tr><td>&quot;60360&quot;</td><td>null</td><td>&quot;ep-20250418145052-bss5p&quot;</td><td>&quot;Vasya trains to compose crossw…</td><td>&quot;You are an expert problem solv…</td><td>&quot;You are an expert problem solv…</td><td>null</td><td>null</td><td>&quot;No&quot;</td><td>null</td><td>null</td><td>null</td><td>&quot;Okay, let&#x27;s tackle this proble…</td><td>&quot;To solve this problem, we need…</td><td>1</td><td>1685</td><td>0</td><td>&quot;Good&quot;</td><td>&quot;Model response is correct with…</td><td>&quot;{&#x27;remarks&#x27;: []}&quot;</td><td>&quot;CF47C&quot;</td><td>&quot;4.0&quot;</td><td>&quot;320569511&quot;</td><td>&quot;C++&quot;</td><td>&quot;none&quot;</td><td>2459039</td><td>null</td></tr></tbody></table></div>"
      ],
      "text/plain": [
       "shape: (1_640, 27)\n",
       "┌─────────┬────────────┬────────────┬────────────┬───┬────────────┬────────┬───────────┬───────────┐\n",
       "│ task id ┆ trainer id ┆ model name ┆ user       ┆ … ┆ programmin ┆ ACC    ┆ total_lat ┆ initial_r │\n",
       "│ ---     ┆ ---        ┆ ---        ┆ prompt     ┆   ┆ g_language ┆ ---    ┆ ency (ms) ┆ esponse   │\n",
       "│ str     ┆ i64        ┆ str        ┆ ---        ┆   ┆ ---        ┆ str    ┆ ---       ┆ ---       │\n",
       "│         ┆            ┆            ┆ str        ┆   ┆ str        ┆        ┆ i64       ┆ str       │\n",
       "╞═════════╪════════════╪════════════╪════════════╪═══╪════════════╪════════╪═══════════╪═══════════╡\n",
       "│ 69604   ┆ 281        ┆ ep-2025053 ┆ Solving    ┆ … ┆ C++        ┆ 0.0    ┆ -1        ┆ null      │\n",
       "│         ┆            ┆ 1134931-xw ┆ the given  ┆   ┆            ┆        ┆           ┆           │\n",
       "│         ┆            ┆ ct7        ┆ programmin ┆   ┆            ┆        ┆           ┆           │\n",
       "│         ┆            ┆            ┆ g …        ┆   ┆            ┆        ┆           ┆           │\n",
       "│ 69773   ┆ 518        ┆ ep-2025053 ┆ Solving    ┆ … ┆ C++        ┆ 0.0    ┆ -1        ┆ null      │\n",
       "│         ┆            ┆ 1134931-xw ┆ the given  ┆   ┆            ┆        ┆           ┆           │\n",
       "│         ┆            ┆ ct7        ┆ programmin ┆   ┆            ┆        ┆           ┆           │\n",
       "│         ┆            ┆            ┆ g …        ┆   ┆            ┆        ┆           ┆           │\n",
       "│ 55665   ┆ 160        ┆ ep-2025041 ┆ Solving    ┆ … ┆ C++        ┆ 0.0625 ┆ 117053    ┆ null      │\n",
       "│         ┆            ┆ 8145052-bs ┆ the given  ┆   ┆            ┆        ┆           ┆           │\n",
       "│         ┆            ┆ s5p        ┆ programmin ┆   ┆            ┆        ┆           ┆           │\n",
       "│         ┆            ┆            ┆ g …        ┆   ┆            ┆        ┆           ┆           │\n",
       "│ 55709   ┆ 400        ┆ ep-2025053 ┆ For a      ┆ … ┆ C++        ┆ null   ┆ 3527315   ┆ null      │\n",
       "│         ┆            ┆ 1134931-xw ┆ connected  ┆   ┆            ┆        ┆           ┆           │\n",
       "│         ┆            ┆ ct7        ┆ undirected ┆   ┆            ┆        ┆           ┆           │\n",
       "│         ┆            ┆            ┆ wei…       ┆   ┆            ┆        ┆           ┆           │\n",
       "│ 59839   ┆ 396        ┆ ep-2025053 ┆ Solving    ┆ … ┆ C++        ┆ 0.0625 ┆ 2230954   ┆ null      │\n",
       "│         ┆            ┆ 1134931-xw ┆ the given  ┆   ┆            ┆        ┆           ┆           │\n",
       "│         ┆            ┆ ct7        ┆ programmin ┆   ┆            ┆        ┆           ┆           │\n",
       "│         ┆            ┆            ┆ g …        ┆   ┆            ┆        ┆           ┆           │\n",
       "│ …       ┆ …          ┆ …          ┆ …          ┆ … ┆ …          ┆ …      ┆ …         ┆ …         │\n",
       "│ 60197   ┆ null       ┆ ep-2025041 ┆ Solving    ┆ … ┆ C++        ┆ 0.0    ┆ 162953    ┆ null      │\n",
       "│         ┆            ┆ 8145052-bs ┆ the given  ┆   ┆            ┆        ┆           ┆           │\n",
       "│         ┆            ┆ s5p        ┆ programmin ┆   ┆            ┆        ┆           ┆           │\n",
       "│         ┆            ┆            ┆ g …        ┆   ┆            ┆        ┆           ┆           │\n",
       "│ 60218   ┆ null       ┆ ep-2025041 ┆ Baby Ehab  ┆ … ┆ C++        ┆ 0.0625 ┆ 841841    ┆ null      │\n",
       "│         ┆            ┆ 8145052-bs ┆ has a      ┆   ┆            ┆        ┆           ┆           │\n",
       "│         ┆            ┆ s5p        ┆ piece of   ┆   ┆            ┆        ┆           ┆           │\n",
       "│         ┆            ┆            ┆ Cut a…     ┆   ┆            ┆        ┆           ┆           │\n",
       "│ 60234   ┆ null       ┆ ep-2025041 ┆ Solving    ┆ … ┆ C++        ┆ 0.0    ┆ 216597    ┆ null      │\n",
       "│         ┆            ┆ 8145052-bs ┆ the given  ┆   ┆            ┆        ┆           ┆           │\n",
       "│         ┆            ┆ s5p        ┆ programmin ┆   ┆            ┆        ┆           ┆           │\n",
       "│         ┆            ┆            ┆ g …        ┆   ┆            ┆        ┆           ┆           │\n",
       "│ 60239   ┆ null       ┆ ep-2025041 ┆ Solving    ┆ … ┆ C++        ┆ 0.125  ┆ 266119    ┆ null      │\n",
       "│         ┆            ┆ 8145052-bs ┆ the given  ┆   ┆            ┆        ┆           ┆           │\n",
       "│         ┆            ┆ s5p        ┆ programmin ┆   ┆            ┆        ┆           ┆           │\n",
       "│         ┆            ┆            ┆ g …        ┆   ┆            ┆        ┆           ┆           │\n",
       "│ 60360   ┆ null       ┆ ep-2025041 ┆ Vasya      ┆ … ┆ C++        ┆ none   ┆ 2459039   ┆ null      │\n",
       "│         ┆            ┆ 8145052-bs ┆ trains to  ┆   ┆            ┆        ┆           ┆           │\n",
       "│         ┆            ┆ s5p        ┆ compose    ┆   ┆            ┆        ┆           ┆           │\n",
       "│         ┆            ┆            ┆ crossw…    ┆   ┆            ┆        ┆           ┆           │\n",
       "└─────────┴────────────┴────────────┴────────────┴───┴────────────┴────────┴───────────┴───────────┘"
      ]
     },
     "execution_count": 4,
     "metadata": {},
     "output_type": "execute_result"
    }
   ],
   "source": [
    "import polars as pl\n",
    "import glob\n",
    "import os\n",
    "\n",
    "DATA_DIRECTORY = './data/ALL'\n",
    "\n",
    "json_files = glob.glob(os.path.join(DATA_DIRECTORY, '**', '*.json'), recursive=True)\n",
    "\n",
    "df_all = pl.concat([pl.read_json(file) for file in json_files], how=\"diagonal_relaxed\")\n",
    "df_all"
   ]
  },
  {
   "cell_type": "code",
   "execution_count": 5,
   "id": "ef772d7e",
   "metadata": {},
   "outputs": [
    {
     "data": {
      "text/html": [
       "<div><style>\n",
       ".dataframe > thead > tr,\n",
       ".dataframe > tbody > tr {\n",
       "  text-align: right;\n",
       "  white-space: pre-wrap;\n",
       "}\n",
       "</style>\n",
       "<small>shape: (299, 27)</small><table border=\"1\" class=\"dataframe\"><thead><tr><th>task id</th><th>trainer id</th><th>model name</th><th>user prompt</th><th>system prompt</th><th>intervene_system_prompt</th><th>intervene prompt</th><th>ground_truth_answer</th><th>abandon_prompt</th><th>abandon_prompt_reason</th><th>abandon_prompt_explanation</th><th>initial_reasoning</th><th>response</th><th>final_answer</th><th>temperature</th><th>total_tokens</th><th>intervention rounds</th><th>CoT quality</th><th>Model performance classification</th><th>remarks</th><th>question_id</th><th>level</th><th>codeforces_submission_id</th><th>programming_language</th><th>ACC</th><th>total_latency (ms)</th><th>initial_response</th></tr><tr><td>str</td><td>i64</td><td>str</td><td>str</td><td>str</td><td>str</td><td>str</td><td>str</td><td>str</td><td>str</td><td>str</td><td>str</td><td>str</td><td>str</td><td>i64</td><td>i64</td><td>i64</td><td>str</td><td>str</td><td>str</td><td>str</td><td>str</td><td>str</td><td>str</td><td>str</td><td>i64</td><td>str</td></tr></thead><tbody><tr><td>&quot;66742&quot;</td><td>321</td><td>&quot;ep-20250531134931-xwct7&quot;</td><td>&quot;Solving the given programming …</td><td>&quot;You are an expert problem solv…</td><td>&quot;You are an expert problem solv…</td><td>&quot;You are an expert problem solv…</td><td>&quot;#include &lt;iostream&gt;\\n#include …</td><td>&quot;Yes&quot;</td><td>&quot;Exceeded global intervention c…</td><td>null</td><td>&quot;Got it, let&#x27;s try to solve thi…</td><td>&quot;Got it, let&#x27;s try to solve thi…</td><td>&quot;To solve this problem, we need…</td><td>1</td><td>3592</td><td>15</td><td>&quot;Faulty&quot;</td><td>&quot;Model response is incorrect an…</td><td>&quot;{&#x27;remarks&#x27;: [{&#x27;intervene_index…</td><td>&quot;Codeforces/1097G&quot;</td><td>null</td><td>&quot;324150722&quot;</td><td>&quot;C++&quot;</td><td>&quot;0.0&quot;</td><td>2880311</td><td>null</td></tr><tr><td>&quot;66764&quot;</td><td>128</td><td>&quot;ep-20250531134931-xwct7&quot;</td><td>&quot;You like numbers, don&#x27;t you? N…</td><td>&quot;You are an expert problem solv…</td><td>&quot;You are an expert problem solv…</td><td>&quot;You are an expert problem solv…</td><td>&quot;#include &quot;bits/stdc++.h&quot;\\n\\nus…</td><td>&quot;Yes&quot;</td><td>&quot;Exceeded local intervention co…</td><td>null</td><td>&quot;\\\\nGot it, let&#x27;s try to solve …</td><td>&quot;\\\\nGot it, let&#x27;s try to solve …</td><td>&quot;To solve this problem, we need…</td><td>1</td><td>1699</td><td>6</td><td>&quot;Faulty&quot;</td><td>&quot;Model response is incorrect an…</td><td>&quot;{&#x27;remarks&#x27;: [{&#x27;intervene_index…</td><td>&quot;CF1521E&quot;</td><td>&quot;5.0&quot;</td><td>&quot;324225729&quot;</td><td>&quot;C++&quot;</td><td>null</td><td>-1</td><td>null</td></tr><tr><td>&quot;66784&quot;</td><td>160</td><td>&quot;ep-20250531134931-xwct7&quot;</td><td>&quot;Celebrating the new year, many…</td><td>&quot;You are an expert problem solv…</td><td>&quot;You are an expert problem solv…</td><td>&quot;You are an expert problem solv…</td><td>&quot;```cpp\\n#define _CRT_SECURE_NO…</td><td>&quot;Yes&quot;</td><td>&quot;Exceeded local intervention co…</td><td>null</td><td>&quot;Got it, let&#x27;s try to solve thi…</td><td>&quot;Got it, let&#x27;s try to solve thi…</td><td>&quot;To solve this problem, we need…</td><td>1</td><td>922</td><td>7</td><td>&quot;Faulty&quot;</td><td>&quot;Model response is incorrect an…</td><td>&quot;{&#x27;remarks&#x27;: [{&#x27;intervene_index…</td><td>&quot;CF500E&quot;</td><td>&quot;6.0&quot;</td><td>&quot;323998149&quot;</td><td>&quot;C++&quot;</td><td>null</td><td>7704198</td><td>null</td></tr><tr><td>&quot;69327&quot;</td><td>73</td><td>&quot;ep-20250531134931-xwct7&quot;</td><td>&quot;Given is a string \\\\\\\\(s\\\\\\\\) …</td><td>&quot;You are an expert problem solv…</td><td>&quot;You are an expert problem solv…</td><td>&quot;You are an expert problem solv…</td><td>&quot;None&quot;</td><td>&quot;No&quot;</td><td>null</td><td>null</td><td>&quot;\\\\nGot it, let&#x27;s try to solve …</td><td>&quot;\\\\nGot it, let&#x27;s try to solve …</td><td>&quot;To solve this problem, we need…</td><td>1</td><td>888</td><td>5</td><td>&quot;Minor Flaws&quot;</td><td>&quot;Model response is incorrect bu…</td><td>&quot;{&#x27;remarks&#x27;: [{&#x27;intervene_index…</td><td>&quot;Codeforces/1905C&quot;</td><td>&quot;0&quot;</td><td>&quot;324219658&quot;</td><td>&quot;C++&quot;</td><td>&quot;0.0&quot;</td><td>-1</td><td>null</td></tr><tr><td>&quot;69367&quot;</td><td>246</td><td>&quot;ep-20250531134931-xwct7&quot;</td><td>&quot;Solving the given programming …</td><td>&quot;You are an expert problem solv…</td><td>&quot;You are an expert problem solv…</td><td>&quot;You are an expert problem solv…</td><td>&quot;None&quot;</td><td>&quot;No&quot;</td><td>null</td><td>null</td><td>&quot;\\\\nGot it, let&#x27;s try to solve …</td><td>&quot;\\\\nGot it, let&#x27;s try to solve …</td><td>&quot;To solve this problem, we need…</td><td>1</td><td>806</td><td>6</td><td>&quot;Good&quot;</td><td>&quot;Model response is incorrect bu…</td><td>&quot;{&#x27;remarks&#x27;: [{&#x27;intervene_index…</td><td>&quot;Codeforces/1929C&quot;</td><td>&quot;0&quot;</td><td>&quot;324220288&quot;</td><td>&quot;C++&quot;</td><td>&quot;0.0&quot;</td><td>-1</td><td>null</td></tr><tr><td>&hellip;</td><td>&hellip;</td><td>&hellip;</td><td>&hellip;</td><td>&hellip;</td><td>&hellip;</td><td>&hellip;</td><td>&hellip;</td><td>&hellip;</td><td>&hellip;</td><td>&hellip;</td><td>&hellip;</td><td>&hellip;</td><td>&hellip;</td><td>&hellip;</td><td>&hellip;</td><td>&hellip;</td><td>&hellip;</td><td>&hellip;</td><td>&hellip;</td><td>&hellip;</td><td>&hellip;</td><td>&hellip;</td><td>&hellip;</td><td>&hellip;</td><td>&hellip;</td><td>&hellip;</td></tr><tr><td>&quot;69684&quot;</td><td>136</td><td>&quot;ep-20250531134931-xwct7&quot;</td><td>&quot;Solving the given programming …</td><td>&quot;You are an expert problem solv…</td><td>&quot;You are an expert problem solv…</td><td>&quot;You are an expert problem solv…</td><td>&quot;#include &lt;bits/stdc++.h&gt;\\nusin…</td><td>&quot;Yes&quot;</td><td>&quot;Exceeded local intervention co…</td><td>null</td><td>&quot;Okay, let&#x27;s tackle this proble…</td><td>&quot;&lt;abandon&gt;Okay, let&#x27;s tackle th…</td><td>&quot;To solve this problem, we need…</td><td>1</td><td>1153</td><td>10</td><td>&quot;Faulty&quot;</td><td>&quot;Model response is incorrect an…</td><td>&quot;{&#x27;remarks&#x27;: [{&#x27;intervene_index…</td><td>&quot;Codeforces/1019D&quot;</td><td>&quot;0&quot;</td><td>&quot;324760737&quot;</td><td>&quot;C++&quot;</td><td>&quot;0.0&quot;</td><td>-1</td><td>null</td></tr><tr><td>&quot;69712&quot;</td><td>385</td><td>&quot;ep-20250531134931-xwct7&quot;</td><td>&quot;Solving the given programming …</td><td>&quot;You are an expert problem solv…</td><td>&quot;You are an expert problem solv…</td><td>&quot;None&quot;</td><td>&quot;None&quot;</td><td>&quot;No&quot;</td><td>null</td><td>null</td><td>&quot;\\\\nGot it, let&#x27;s tackle this p…</td><td>&quot;\\\\nGot it, let&#x27;s tackle this p…</td><td>&quot;To solve this problem, we need…</td><td>1</td><td>1640</td><td>0</td><td>&quot;Good&quot;</td><td>&quot;Model response is correct with…</td><td>&quot;{&#x27;remarks&#x27;: []}&quot;</td><td>&quot;Codeforces/342E&quot;</td><td>&quot;0&quot;</td><td>&quot;324992128&quot;</td><td>&quot;C++&quot;</td><td>&quot;0.0&quot;</td><td>-1</td><td>null</td></tr><tr><td>&quot;69757&quot;</td><td>136</td><td>&quot;ep-20250531134931-xwct7&quot;</td><td>&quot;Solving the given programming …</td><td>&quot;You are an expert problem solv…</td><td>&quot;You are an expert problem solv…</td><td>&quot;You are an expert problem solv…</td><td>&quot;#include &lt;bits/stdc++.h&gt;\\nusin…</td><td>&quot;Yes&quot;</td><td>&quot;Exceeded local intervention co…</td><td>null</td><td>&quot;\\\\nGot it, let&#x27;s try to solve …</td><td>&quot;\\\\nGot it, let&#x27;s try to solve …</td><td>&quot;To solve this problem, we need…</td><td>1</td><td>1429</td><td>10</td><td>&quot;Minor Flaws&quot;</td><td>&quot;Model response is incorrect an…</td><td>&quot;{&#x27;remarks&#x27;: [{&#x27;intervene_index…</td><td>&quot;Codeforces/1784D&quot;</td><td>&quot;0&quot;</td><td>&quot;324985827&quot;</td><td>&quot;C++&quot;</td><td>&quot;0.0&quot;</td><td>-1</td><td>null</td></tr><tr><td>&quot;69847&quot;</td><td>505</td><td>&quot;ep-20250531134931-xwct7&quot;</td><td>&quot;Solving the given programming …</td><td>&quot;You are an expert problem solv…</td><td>&quot;You are an expert problem solv…</td><td>&quot;None&quot;</td><td>&quot;None&quot;</td><td>&quot;No&quot;</td><td>null</td><td>null</td><td>&quot;Got it, let&#x27;s tackle this prob…</td><td>&quot;Got it, let&#x27;s tackle this prob…</td><td>&quot;To solve this problem, we need…</td><td>1</td><td>762</td><td>0</td><td>&quot;Good&quot;</td><td>&quot;Model response is correct with…</td><td>&quot;{&#x27;remarks&#x27;: []}&quot;</td><td>&quot;Codeforces/312A&quot;</td><td>&quot;0&quot;</td><td>&quot;324993681&quot;</td><td>&quot;C++&quot;</td><td>&quot;0.0&quot;</td><td>-1</td><td>null</td></tr><tr><td>&quot;59821&quot;</td><td>null</td><td>&quot;ep-20250418145052-bss5p&quot;</td><td>&quot;Solving the given programming …</td><td>&quot;You are an expert problem solv…</td><td>&quot;You are an expert problem solv…</td><td>&quot;You are an expert problem solv…</td><td>null</td><td>&quot;No&quot;</td><td>null</td><td>null</td><td>null</td><td>&quot;Okay, let&#x27;s try to solve this …</td><td>&quot;To solve this problem, we need…</td><td>1</td><td>783</td><td>4</td><td>&quot;Good&quot;</td><td>&quot;Model response is incorrect bu…</td><td>&quot;{&#x27;remarks&#x27;: [{&#x27;intervene_index…</td><td>&quot;Codeforces/1902C&quot;</td><td>&quot;none&quot;</td><td>&quot;320805318&quot;</td><td>&quot;C++&quot;</td><td>&quot;0.1875&quot;</td><td>1976700</td><td>null</td></tr></tbody></table></div>"
      ],
      "text/plain": [
       "shape: (299, 27)\n",
       "┌─────────┬────────────┬────────────┬────────────┬───┬────────────┬────────┬───────────┬───────────┐\n",
       "│ task id ┆ trainer id ┆ model name ┆ user       ┆ … ┆ programmin ┆ ACC    ┆ total_lat ┆ initial_r │\n",
       "│ ---     ┆ ---        ┆ ---        ┆ prompt     ┆   ┆ g_language ┆ ---    ┆ ency (ms) ┆ esponse   │\n",
       "│ str     ┆ i64        ┆ str        ┆ ---        ┆   ┆ ---        ┆ str    ┆ ---       ┆ ---       │\n",
       "│         ┆            ┆            ┆ str        ┆   ┆ str        ┆        ┆ i64       ┆ str       │\n",
       "╞═════════╪════════════╪════════════╪════════════╪═══╪════════════╪════════╪═══════════╪═══════════╡\n",
       "│ 66742   ┆ 321        ┆ ep-2025053 ┆ Solving    ┆ … ┆ C++        ┆ 0.0    ┆ 2880311   ┆ null      │\n",
       "│         ┆            ┆ 1134931-xw ┆ the given  ┆   ┆            ┆        ┆           ┆           │\n",
       "│         ┆            ┆ ct7        ┆ programmin ┆   ┆            ┆        ┆           ┆           │\n",
       "│         ┆            ┆            ┆ g …        ┆   ┆            ┆        ┆           ┆           │\n",
       "│ 66764   ┆ 128        ┆ ep-2025053 ┆ You like   ┆ … ┆ C++        ┆ null   ┆ -1        ┆ null      │\n",
       "│         ┆            ┆ 1134931-xw ┆ numbers,   ┆   ┆            ┆        ┆           ┆           │\n",
       "│         ┆            ┆ ct7        ┆ don't you? ┆   ┆            ┆        ┆           ┆           │\n",
       "│         ┆            ┆            ┆ N…         ┆   ┆            ┆        ┆           ┆           │\n",
       "│ 66784   ┆ 160        ┆ ep-2025053 ┆ Celebratin ┆ … ┆ C++        ┆ null   ┆ 7704198   ┆ null      │\n",
       "│         ┆            ┆ 1134931-xw ┆ g the new  ┆   ┆            ┆        ┆           ┆           │\n",
       "│         ┆            ┆ ct7        ┆ year,      ┆   ┆            ┆        ┆           ┆           │\n",
       "│         ┆            ┆            ┆ many…      ┆   ┆            ┆        ┆           ┆           │\n",
       "│ 69327   ┆ 73         ┆ ep-2025053 ┆ Given is a ┆ … ┆ C++        ┆ 0.0    ┆ -1        ┆ null      │\n",
       "│         ┆            ┆ 1134931-xw ┆ string \\\\\\ ┆   ┆            ┆        ┆           ┆           │\n",
       "│         ┆            ┆ ct7        ┆ \\(s\\\\\\\\) … ┆   ┆            ┆        ┆           ┆           │\n",
       "│ 69367   ┆ 246        ┆ ep-2025053 ┆ Solving    ┆ … ┆ C++        ┆ 0.0    ┆ -1        ┆ null      │\n",
       "│         ┆            ┆ 1134931-xw ┆ the given  ┆   ┆            ┆        ┆           ┆           │\n",
       "│         ┆            ┆ ct7        ┆ programmin ┆   ┆            ┆        ┆           ┆           │\n",
       "│         ┆            ┆            ┆ g …        ┆   ┆            ┆        ┆           ┆           │\n",
       "│ …       ┆ …          ┆ …          ┆ …          ┆ … ┆ …          ┆ …      ┆ …         ┆ …         │\n",
       "│ 69684   ┆ 136        ┆ ep-2025053 ┆ Solving    ┆ … ┆ C++        ┆ 0.0    ┆ -1        ┆ null      │\n",
       "│         ┆            ┆ 1134931-xw ┆ the given  ┆   ┆            ┆        ┆           ┆           │\n",
       "│         ┆            ┆ ct7        ┆ programmin ┆   ┆            ┆        ┆           ┆           │\n",
       "│         ┆            ┆            ┆ g …        ┆   ┆            ┆        ┆           ┆           │\n",
       "│ 69712   ┆ 385        ┆ ep-2025053 ┆ Solving    ┆ … ┆ C++        ┆ 0.0    ┆ -1        ┆ null      │\n",
       "│         ┆            ┆ 1134931-xw ┆ the given  ┆   ┆            ┆        ┆           ┆           │\n",
       "│         ┆            ┆ ct7        ┆ programmin ┆   ┆            ┆        ┆           ┆           │\n",
       "│         ┆            ┆            ┆ g …        ┆   ┆            ┆        ┆           ┆           │\n",
       "│ 69757   ┆ 136        ┆ ep-2025053 ┆ Solving    ┆ … ┆ C++        ┆ 0.0    ┆ -1        ┆ null      │\n",
       "│         ┆            ┆ 1134931-xw ┆ the given  ┆   ┆            ┆        ┆           ┆           │\n",
       "│         ┆            ┆ ct7        ┆ programmin ┆   ┆            ┆        ┆           ┆           │\n",
       "│         ┆            ┆            ┆ g …        ┆   ┆            ┆        ┆           ┆           │\n",
       "│ 69847   ┆ 505        ┆ ep-2025053 ┆ Solving    ┆ … ┆ C++        ┆ 0.0    ┆ -1        ┆ null      │\n",
       "│         ┆            ┆ 1134931-xw ┆ the given  ┆   ┆            ┆        ┆           ┆           │\n",
       "│         ┆            ┆ ct7        ┆ programmin ┆   ┆            ┆        ┆           ┆           │\n",
       "│         ┆            ┆            ┆ g …        ┆   ┆            ┆        ┆           ┆           │\n",
       "│ 59821   ┆ null       ┆ ep-2025041 ┆ Solving    ┆ … ┆ C++        ┆ 0.1875 ┆ 1976700   ┆ null      │\n",
       "│         ┆            ┆ 8145052-bs ┆ the given  ┆   ┆            ┆        ┆           ┆           │\n",
       "│         ┆            ┆ s5p        ┆ programmin ┆   ┆            ┆        ┆           ┆           │\n",
       "│         ┆            ┆            ┆ g …        ┆   ┆            ┆        ┆           ┆           │\n",
       "└─────────┴────────────┴────────────┴────────────┴───┴────────────┴────────┴───────────┴───────────┘"
      ]
     },
     "execution_count": 5,
     "metadata": {},
     "output_type": "execute_result"
    }
   ],
   "source": [
    "df_backslash = df_all.filter(pl.col(\"response\").str.contains(r\"\\\\\\\\\\\\\\\\n\"))\n",
    "df_backslash"
   ]
  },
  {
   "cell_type": "code",
   "execution_count": 39,
   "id": "b7ec9b64",
   "metadata": {},
   "outputs": [
    {
     "data": {
      "text/html": [
       "<div><style>\n",
       ".dataframe > thead > tr,\n",
       ".dataframe > tbody > tr {\n",
       "  text-align: right;\n",
       "  white-space: pre-wrap;\n",
       "}\n",
       "</style>\n",
       "<small>shape: (443, 27)</small><table border=\"1\" class=\"dataframe\"><thead><tr><th>task id</th><th>trainer id</th><th>model name</th><th>user prompt</th><th>system prompt</th><th>intervene_system_prompt</th><th>intervene prompt</th><th>ground_truth_answer</th><th>abandon_prompt</th><th>abandon_prompt_reason</th><th>abandon_prompt_explanation</th><th>initial_reasoning</th><th>response</th><th>final_answer</th><th>temperature</th><th>total_tokens</th><th>intervention rounds</th><th>CoT quality</th><th>Model performance classification</th><th>remarks</th><th>question_id</th><th>level</th><th>codeforces_submission_id</th><th>programming_language</th><th>ACC</th><th>total_latency (ms)</th><th>initial_response</th></tr><tr><td>str</td><td>i64</td><td>str</td><td>str</td><td>str</td><td>str</td><td>str</td><td>str</td><td>str</td><td>str</td><td>str</td><td>str</td><td>str</td><td>str</td><td>i64</td><td>i64</td><td>i64</td><td>str</td><td>str</td><td>str</td><td>str</td><td>str</td><td>str</td><td>str</td><td>str</td><td>i64</td><td>str</td></tr></thead><tbody><tr><td>&quot;59966&quot;</td><td>75</td><td>&quot;ep-20250531134931-xwct7&quot;</td><td>&quot;Solving the given programming …</td><td>&quot;You are an expert problem solv…</td><td>&quot;You are an expert problem solv…</td><td>&quot;You are an expert problem solv…</td><td>&quot;#include&lt;bits/stdc++.h&gt;\\n#defi…</td><td>&quot;Yes&quot;</td><td>&quot;Exceeded local intervention co…</td><td>null</td><td>&quot;\\\\nGot it, let&#x27;s try to solve …</td><td>&quot;\\\\nGot it, let&#x27;s try to solve …</td><td>&quot;To solve this problem, we need…</td><td>1</td><td>895</td><td>6</td><td>&quot;Faulty&quot;</td><td>&quot;Model response is incorrect an…</td><td>&quot;{&#x27;remarks&#x27;: [{&#x27;intervene_index…</td><td>&quot;Codeforces/257D&quot;</td><td>null</td><td>&quot;324207606&quot;</td><td>&quot;C++&quot;</td><td>&quot;0.125&quot;</td><td>-1</td><td>null</td></tr><tr><td>&quot;66666&quot;</td><td>388</td><td>&quot;ep-20250312111804-p4w5h&quot;</td><td>&quot;Solving the given programming …</td><td>&quot;You are an expert problem solv…</td><td>&quot;You are an expert problem solv…</td><td>&quot;You are an expert problem solv…</td><td>&quot;#include &lt;bits/stdc++.h&gt;\\nusin…</td><td>&quot;Yes&quot;</td><td>&quot;Exceeded local intervention co…</td><td>null</td><td>&quot;Got it, let&#x27;s see.\\n\\nThe prob…</td><td>&quot;Got it, let&#x27;s see.\\nThe proble…</td><td>&quot;To solve this problem, we need…</td><td>1</td><td>1120</td><td>11</td><td>&quot;Faulty&quot;</td><td>&quot;Model response is incorrect an…</td><td>&quot;{&#x27;remarks&#x27;: [{&#x27;intervene_index…</td><td>&quot;Codeforces/888G&quot;</td><td>null</td><td>&quot;323936037&quot;</td><td>&quot;C++&quot;</td><td>&quot;0.0&quot;</td><td>505854</td><td>null</td></tr><tr><td>&quot;66716&quot;</td><td>149</td><td>&quot;ep-20250531134931-xwct7&quot;</td><td>&quot;Solving the given programming …</td><td>&quot;You are an expert problem solv…</td><td>&quot;You are an expert problem solv…</td><td>&quot;You are an expert problem solv…</td><td>&quot;#include &lt;bits/stdc++.h&gt;\\nusin…</td><td>&quot;Yes&quot;</td><td>&quot;Exceeded local intervention co…</td><td>null</td><td>&quot;Um, let&#x27;s see.\\n\\nThe problem …</td><td>&quot;Um, let&#x27;s see.\\nThe problem is…</td><td>&quot;To solve this problem, we need…</td><td>1</td><td>792</td><td>11</td><td>&quot;Faulty&quot;</td><td>&quot;Model response is incorrect an…</td><td>&quot;{&#x27;remarks&#x27;: [{&#x27;intervene_index…</td><td>&quot;Codeforces/455E&quot;</td><td>null</td><td>&quot;323923095&quot;</td><td>&quot;C++&quot;</td><td>&quot;0.0&quot;</td><td>1110771</td><td>null</td></tr><tr><td>&quot;66723&quot;</td><td>244</td><td>&quot;ep-20250312111804-p4w5h&quot;</td><td>&quot;Solving the given programming …</td><td>&quot;You are an expert problem solv…</td><td>&quot;You are an expert problem solv…</td><td>&quot;You are an expert problem solv…</td><td>&quot;```cpp\\n#include &lt;bits/stdc++.…</td><td>&quot;Yes&quot;</td><td>&quot;Exceeded local intervention co…</td><td>null</td><td>&quot;Um, let&#x27;s see.\\n\\nThe problem …</td><td>&quot;Um, let&#x27;s see.\\nThe problem is…</td><td>&quot;To solve this problem, we need…</td><td>1</td><td>979</td><td>7</td><td>&quot;Faulty&quot;</td><td>&quot;Model response is incorrect an…</td><td>&quot;{&#x27;remarks&#x27;: [{&#x27;intervene_index…</td><td>&quot;Codeforces/1584G&quot;</td><td>null</td><td>&quot;324004087&quot;</td><td>&quot;C++&quot;</td><td>&quot;0.0625&quot;</td><td>462173</td><td>null</td></tr><tr><td>&quot;66742&quot;</td><td>321</td><td>&quot;ep-20250531134931-xwct7&quot;</td><td>&quot;Solving the given programming …</td><td>&quot;You are an expert problem solv…</td><td>&quot;You are an expert problem solv…</td><td>&quot;You are an expert problem solv…</td><td>&quot;#include &lt;iostream&gt;\\n#include …</td><td>&quot;Yes&quot;</td><td>&quot;Exceeded global intervention c…</td><td>null</td><td>&quot;Got it, let&#x27;s try to solve thi…</td><td>&quot;Got it, let&#x27;s try to solve thi…</td><td>&quot;To solve this problem, we need…</td><td>1</td><td>3592</td><td>15</td><td>&quot;Faulty&quot;</td><td>&quot;Model response is incorrect an…</td><td>&quot;{&#x27;remarks&#x27;: [{&#x27;intervene_index…</td><td>&quot;Codeforces/1097G&quot;</td><td>null</td><td>&quot;324150722&quot;</td><td>&quot;C++&quot;</td><td>&quot;0.0&quot;</td><td>2880311</td><td>null</td></tr><tr><td>&hellip;</td><td>&hellip;</td><td>&hellip;</td><td>&hellip;</td><td>&hellip;</td><td>&hellip;</td><td>&hellip;</td><td>&hellip;</td><td>&hellip;</td><td>&hellip;</td><td>&hellip;</td><td>&hellip;</td><td>&hellip;</td><td>&hellip;</td><td>&hellip;</td><td>&hellip;</td><td>&hellip;</td><td>&hellip;</td><td>&hellip;</td><td>&hellip;</td><td>&hellip;</td><td>&hellip;</td><td>&hellip;</td><td>&hellip;</td><td>&hellip;</td><td>&hellip;</td><td>&hellip;</td></tr><tr><td>&quot;69847&quot;</td><td>505</td><td>&quot;ep-20250531134931-xwct7&quot;</td><td>&quot;Solving the given programming …</td><td>&quot;You are an expert problem solv…</td><td>&quot;You are an expert problem solv…</td><td>&quot;None&quot;</td><td>&quot;None&quot;</td><td>&quot;No&quot;</td><td>null</td><td>null</td><td>&quot;Got it, let&#x27;s tackle this prob…</td><td>&quot;Got it, let&#x27;s tackle this prob…</td><td>&quot;To solve this problem, we need…</td><td>1</td><td>762</td><td>0</td><td>&quot;Good&quot;</td><td>&quot;Model response is correct with…</td><td>&quot;{&#x27;remarks&#x27;: []}&quot;</td><td>&quot;Codeforces/312A&quot;</td><td>&quot;0&quot;</td><td>&quot;324993681&quot;</td><td>&quot;C++&quot;</td><td>&quot;0.0&quot;</td><td>-1</td><td>null</td></tr><tr><td>&quot;55651&quot;</td><td>null</td><td>&quot;ep-20250418145052-bss5p&quot;</td><td>&quot;Jeff&#x27;s friends know full well …</td><td>&quot;You are an expert problem solv…</td><td>&quot;You are an expert problem solv…</td><td>&quot;You are an expert problem solv…</td><td>&quot;#include&lt;iostream&gt;\\nusing name…</td><td>&quot;Yes&quot;</td><td>&quot;Exceeded global intervention c…</td><td>null</td><td>null</td><td>&quot;Okay, let&#x27;s tackle this proble…</td><td>&quot;To solve this problem, we need…</td><td>1</td><td>1062</td><td>21</td><td>&quot;Faulty&quot;</td><td>&quot;Model response is incorrect an…</td><td>&quot;{&#x27;remarks&#x27;: [{&#x27;intervene_index…</td><td>&quot;CF351E&quot;</td><td>&quot;6.0&quot;</td><td>&quot;320752231&quot;</td><td>&quot;C++&quot;</td><td>&quot;none&quot;</td><td>7359840</td><td>null</td></tr><tr><td>&quot;55774&quot;</td><td>null</td><td>&quot;ep-20250418145052-bss5p&quot;</td><td>&quot;You are given a rectangular gr…</td><td>&quot;You are an expert problem solv…</td><td>&quot;You are an expert problem solv…</td><td>&quot;You are an expert problem solv…</td><td>&quot;#include &lt;iostream&gt;\\n#include …</td><td>&quot;Yes&quot;</td><td>&quot;Exceeded local intervention co…</td><td>null</td><td>null</td><td>&quot;Okay, let&#x27;s tackle this proble…</td><td>&quot;To solve this problem, we need…</td><td>1</td><td>1018</td><td>6</td><td>&quot;Faulty&quot;</td><td>&quot;Model response is incorrect an…</td><td>&quot;{&#x27;remarks&#x27;: [{&#x27;intervene_index…</td><td>&quot;Codeforces/452B&quot;</td><td>&quot;4.0&quot;</td><td>&quot;324025966&quot;</td><td>&quot;C++&quot;</td><td>&quot;0.0&quot;</td><td>2572513</td><td>null</td></tr><tr><td>&quot;55844&quot;</td><td>null</td><td>&quot;ep-20250418145052-bss5p&quot;</td><td>&quot;Solving the given programming …</td><td>&quot;You are an expert problem solv…</td><td>&quot;You are an expert problem solv…</td><td>&quot;You are an expert problem solv…</td><td>null</td><td>&quot;No&quot;</td><td>null</td><td>null</td><td>null</td><td>&quot;Okay, let&#x27;s tackle this proble…</td><td>&quot;To solve this problem, we need…</td><td>1</td><td>1010</td><td>1</td><td>&quot;Good&quot;</td><td>&quot;Model response is incorrect bu…</td><td>&quot;{&#x27;remarks&#x27;: [{&#x27;intervene_index…</td><td>&quot;Codeforces/354C&quot;</td><td>&quot;none&quot;</td><td>&quot;320627983&quot;</td><td>&quot;C++&quot;</td><td>&quot;0.125&quot;</td><td>1721088</td><td>null</td></tr><tr><td>&quot;59821&quot;</td><td>null</td><td>&quot;ep-20250418145052-bss5p&quot;</td><td>&quot;Solving the given programming …</td><td>&quot;You are an expert problem solv…</td><td>&quot;You are an expert problem solv…</td><td>&quot;You are an expert problem solv…</td><td>null</td><td>&quot;No&quot;</td><td>null</td><td>null</td><td>null</td><td>&quot;Okay, let&#x27;s try to solve this …</td><td>&quot;To solve this problem, we need…</td><td>1</td><td>783</td><td>4</td><td>&quot;Good&quot;</td><td>&quot;Model response is incorrect bu…</td><td>&quot;{&#x27;remarks&#x27;: [{&#x27;intervene_index…</td><td>&quot;Codeforces/1902C&quot;</td><td>&quot;none&quot;</td><td>&quot;320805318&quot;</td><td>&quot;C++&quot;</td><td>&quot;0.1875&quot;</td><td>1976700</td><td>null</td></tr></tbody></table></div>"
      ],
      "text/plain": [
       "shape: (443, 27)\n",
       "┌─────────┬────────────┬────────────┬────────────┬───┬────────────┬────────┬───────────┬───────────┐\n",
       "│ task id ┆ trainer id ┆ model name ┆ user       ┆ … ┆ programmin ┆ ACC    ┆ total_lat ┆ initial_r │\n",
       "│ ---     ┆ ---        ┆ ---        ┆ prompt     ┆   ┆ g_language ┆ ---    ┆ ency (ms) ┆ esponse   │\n",
       "│ str     ┆ i64        ┆ str        ┆ ---        ┆   ┆ ---        ┆ str    ┆ ---       ┆ ---       │\n",
       "│         ┆            ┆            ┆ str        ┆   ┆ str        ┆        ┆ i64       ┆ str       │\n",
       "╞═════════╪════════════╪════════════╪════════════╪═══╪════════════╪════════╪═══════════╪═══════════╡\n",
       "│ 59966   ┆ 75         ┆ ep-2025053 ┆ Solving    ┆ … ┆ C++        ┆ 0.125  ┆ -1        ┆ null      │\n",
       "│         ┆            ┆ 1134931-xw ┆ the given  ┆   ┆            ┆        ┆           ┆           │\n",
       "│         ┆            ┆ ct7        ┆ programmin ┆   ┆            ┆        ┆           ┆           │\n",
       "│         ┆            ┆            ┆ g …        ┆   ┆            ┆        ┆           ┆           │\n",
       "│ 66666   ┆ 388        ┆ ep-2025031 ┆ Solving    ┆ … ┆ C++        ┆ 0.0    ┆ 505854    ┆ null      │\n",
       "│         ┆            ┆ 2111804-p4 ┆ the given  ┆   ┆            ┆        ┆           ┆           │\n",
       "│         ┆            ┆ w5h        ┆ programmin ┆   ┆            ┆        ┆           ┆           │\n",
       "│         ┆            ┆            ┆ g …        ┆   ┆            ┆        ┆           ┆           │\n",
       "│ 66716   ┆ 149        ┆ ep-2025053 ┆ Solving    ┆ … ┆ C++        ┆ 0.0    ┆ 1110771   ┆ null      │\n",
       "│         ┆            ┆ 1134931-xw ┆ the given  ┆   ┆            ┆        ┆           ┆           │\n",
       "│         ┆            ┆ ct7        ┆ programmin ┆   ┆            ┆        ┆           ┆           │\n",
       "│         ┆            ┆            ┆ g …        ┆   ┆            ┆        ┆           ┆           │\n",
       "│ 66723   ┆ 244        ┆ ep-2025031 ┆ Solving    ┆ … ┆ C++        ┆ 0.0625 ┆ 462173    ┆ null      │\n",
       "│         ┆            ┆ 2111804-p4 ┆ the given  ┆   ┆            ┆        ┆           ┆           │\n",
       "│         ┆            ┆ w5h        ┆ programmin ┆   ┆            ┆        ┆           ┆           │\n",
       "│         ┆            ┆            ┆ g …        ┆   ┆            ┆        ┆           ┆           │\n",
       "│ 66742   ┆ 321        ┆ ep-2025053 ┆ Solving    ┆ … ┆ C++        ┆ 0.0    ┆ 2880311   ┆ null      │\n",
       "│         ┆            ┆ 1134931-xw ┆ the given  ┆   ┆            ┆        ┆           ┆           │\n",
       "│         ┆            ┆ ct7        ┆ programmin ┆   ┆            ┆        ┆           ┆           │\n",
       "│         ┆            ┆            ┆ g …        ┆   ┆            ┆        ┆           ┆           │\n",
       "│ …       ┆ …          ┆ …          ┆ …          ┆ … ┆ …          ┆ …      ┆ …         ┆ …         │\n",
       "│ 69847   ┆ 505        ┆ ep-2025053 ┆ Solving    ┆ … ┆ C++        ┆ 0.0    ┆ -1        ┆ null      │\n",
       "│         ┆            ┆ 1134931-xw ┆ the given  ┆   ┆            ┆        ┆           ┆           │\n",
       "│         ┆            ┆ ct7        ┆ programmin ┆   ┆            ┆        ┆           ┆           │\n",
       "│         ┆            ┆            ┆ g …        ┆   ┆            ┆        ┆           ┆           │\n",
       "│ 55651   ┆ null       ┆ ep-2025041 ┆ Jeff's     ┆ … ┆ C++        ┆ none   ┆ 7359840   ┆ null      │\n",
       "│         ┆            ┆ 8145052-bs ┆ friends    ┆   ┆            ┆        ┆           ┆           │\n",
       "│         ┆            ┆ s5p        ┆ know full  ┆   ┆            ┆        ┆           ┆           │\n",
       "│         ┆            ┆            ┆ well …     ┆   ┆            ┆        ┆           ┆           │\n",
       "│ 55774   ┆ null       ┆ ep-2025041 ┆ You are    ┆ … ┆ C++        ┆ 0.0    ┆ 2572513   ┆ null      │\n",
       "│         ┆            ┆ 8145052-bs ┆ given a    ┆   ┆            ┆        ┆           ┆           │\n",
       "│         ┆            ┆ s5p        ┆ rectangula ┆   ┆            ┆        ┆           ┆           │\n",
       "│         ┆            ┆            ┆ r gr…      ┆   ┆            ┆        ┆           ┆           │\n",
       "│ 55844   ┆ null       ┆ ep-2025041 ┆ Solving    ┆ … ┆ C++        ┆ 0.125  ┆ 1721088   ┆ null      │\n",
       "│         ┆            ┆ 8145052-bs ┆ the given  ┆   ┆            ┆        ┆           ┆           │\n",
       "│         ┆            ┆ s5p        ┆ programmin ┆   ┆            ┆        ┆           ┆           │\n",
       "│         ┆            ┆            ┆ g …        ┆   ┆            ┆        ┆           ┆           │\n",
       "│ 59821   ┆ null       ┆ ep-2025041 ┆ Solving    ┆ … ┆ C++        ┆ 0.1875 ┆ 1976700   ┆ null      │\n",
       "│         ┆            ┆ 8145052-bs ┆ the given  ┆   ┆            ┆        ┆           ┆           │\n",
       "│         ┆            ┆ s5p        ┆ programmin ┆   ┆            ┆        ┆           ┆           │\n",
       "│         ┆            ┆            ┆ g …        ┆   ┆            ┆        ┆           ┆           │\n",
       "└─────────┴────────────┴────────────┴────────────┴───┴────────────┴────────┴───────────┴───────────┘"
      ]
     },
     "execution_count": 39,
     "metadata": {},
     "output_type": "execute_result"
    }
   ],
   "source": [
    "df_8 = df_all.filter(pl.col(\"response\").str.contains(r\"\\\\\\\\\\\\\\\\\"))\n",
    "df_8.write_ndjson(\"data/backslash_responses.jsonl\")\n",
    "df_8"
   ]
  },
  {
   "cell_type": "code",
   "execution_count": null,
   "id": "2df4ed7a",
   "metadata": {},
   "outputs": [],
   "source": []
  },
  {
   "cell_type": "code",
   "execution_count": 13,
   "id": "dad1ac40",
   "metadata": {},
   "outputs": [],
   "source": [
    "df_backslash.write_ndjson(\"data/backslash_response.jsonl\")"
   ]
  },
  {
   "cell_type": "code",
   "execution_count": 6,
   "id": "d8a31467",
   "metadata": {},
   "outputs": [
    {
     "data": {
      "text/html": [
       "<div><style>\n",
       ".dataframe > thead > tr,\n",
       ".dataframe > tbody > tr {\n",
       "  text-align: right;\n",
       "  white-space: pre-wrap;\n",
       "}\n",
       "</style>\n",
       "<small>shape: (292, 27)</small><table border=\"1\" class=\"dataframe\"><thead><tr><th>task id</th><th>trainer id</th><th>model name</th><th>user prompt</th><th>system prompt</th><th>intervene_system_prompt</th><th>intervene prompt</th><th>ground_truth_answer</th><th>abandon_prompt</th><th>abandon_prompt_reason</th><th>abandon_prompt_explanation</th><th>initial_reasoning</th><th>response</th><th>final_answer</th><th>temperature</th><th>total_tokens</th><th>intervention rounds</th><th>CoT quality</th><th>Model performance classification</th><th>remarks</th><th>question_id</th><th>level</th><th>codeforces_submission_id</th><th>programming_language</th><th>ACC</th><th>total_latency (ms)</th><th>initial_response</th></tr><tr><td>str</td><td>i64</td><td>str</td><td>str</td><td>str</td><td>str</td><td>str</td><td>str</td><td>str</td><td>str</td><td>str</td><td>str</td><td>str</td><td>str</td><td>i64</td><td>i64</td><td>i64</td><td>str</td><td>str</td><td>str</td><td>str</td><td>str</td><td>str</td><td>str</td><td>str</td><td>i64</td><td>str</td></tr></thead><tbody><tr><td>&quot;66742&quot;</td><td>321</td><td>&quot;ep-20250531134931-xwct7&quot;</td><td>&quot;Solving the given programming …</td><td>&quot;You are an expert problem solv…</td><td>&quot;You are an expert problem solv…</td><td>&quot;You are an expert problem solv…</td><td>&quot;#include &lt;iostream&gt;\\n#include …</td><td>&quot;Yes&quot;</td><td>&quot;Exceeded global intervention c…</td><td>null</td><td>&quot;Got it, let&#x27;s try to solve thi…</td><td>&quot;Got it, let&#x27;s try to solve thi…</td><td>&quot;To solve this problem, we need…</td><td>1</td><td>3592</td><td>15</td><td>&quot;Faulty&quot;</td><td>&quot;Model response is incorrect an…</td><td>&quot;{&#x27;remarks&#x27;: [{&#x27;intervene_index…</td><td>&quot;Codeforces/1097G&quot;</td><td>null</td><td>&quot;324150722&quot;</td><td>&quot;C++&quot;</td><td>&quot;0.0&quot;</td><td>2880311</td><td>null</td></tr><tr><td>&quot;66764&quot;</td><td>128</td><td>&quot;ep-20250531134931-xwct7&quot;</td><td>&quot;You like numbers, don&#x27;t you? N…</td><td>&quot;You are an expert problem solv…</td><td>&quot;You are an expert problem solv…</td><td>&quot;You are an expert problem solv…</td><td>&quot;#include &quot;bits/stdc++.h&quot;\\n\\nus…</td><td>&quot;Yes&quot;</td><td>&quot;Exceeded local intervention co…</td><td>null</td><td>&quot;\\\\nGot it, let&#x27;s try to solve …</td><td>&quot;\\\\nGot it, let&#x27;s try to solve …</td><td>&quot;To solve this problem, we need…</td><td>1</td><td>1699</td><td>6</td><td>&quot;Faulty&quot;</td><td>&quot;Model response is incorrect an…</td><td>&quot;{&#x27;remarks&#x27;: [{&#x27;intervene_index…</td><td>&quot;CF1521E&quot;</td><td>&quot;5.0&quot;</td><td>&quot;324225729&quot;</td><td>&quot;C++&quot;</td><td>null</td><td>-1</td><td>null</td></tr><tr><td>&quot;66784&quot;</td><td>160</td><td>&quot;ep-20250531134931-xwct7&quot;</td><td>&quot;Celebrating the new year, many…</td><td>&quot;You are an expert problem solv…</td><td>&quot;You are an expert problem solv…</td><td>&quot;You are an expert problem solv…</td><td>&quot;```cpp\\n#define _CRT_SECURE_NO…</td><td>&quot;Yes&quot;</td><td>&quot;Exceeded local intervention co…</td><td>null</td><td>&quot;Got it, let&#x27;s try to solve thi…</td><td>&quot;Got it, let&#x27;s try to solve thi…</td><td>&quot;To solve this problem, we need…</td><td>1</td><td>922</td><td>7</td><td>&quot;Faulty&quot;</td><td>&quot;Model response is incorrect an…</td><td>&quot;{&#x27;remarks&#x27;: [{&#x27;intervene_index…</td><td>&quot;CF500E&quot;</td><td>&quot;6.0&quot;</td><td>&quot;323998149&quot;</td><td>&quot;C++&quot;</td><td>null</td><td>7704198</td><td>null</td></tr><tr><td>&quot;69327&quot;</td><td>73</td><td>&quot;ep-20250531134931-xwct7&quot;</td><td>&quot;Given is a string \\\\\\\\(s\\\\\\\\) …</td><td>&quot;You are an expert problem solv…</td><td>&quot;You are an expert problem solv…</td><td>&quot;You are an expert problem solv…</td><td>&quot;None&quot;</td><td>&quot;No&quot;</td><td>null</td><td>null</td><td>&quot;\\\\nGot it, let&#x27;s try to solve …</td><td>&quot;\\\\nGot it, let&#x27;s try to solve …</td><td>&quot;To solve this problem, we need…</td><td>1</td><td>888</td><td>5</td><td>&quot;Minor Flaws&quot;</td><td>&quot;Model response is incorrect bu…</td><td>&quot;{&#x27;remarks&#x27;: [{&#x27;intervene_index…</td><td>&quot;Codeforces/1905C&quot;</td><td>&quot;0&quot;</td><td>&quot;324219658&quot;</td><td>&quot;C++&quot;</td><td>&quot;0.0&quot;</td><td>-1</td><td>null</td></tr><tr><td>&quot;69367&quot;</td><td>246</td><td>&quot;ep-20250531134931-xwct7&quot;</td><td>&quot;Solving the given programming …</td><td>&quot;You are an expert problem solv…</td><td>&quot;You are an expert problem solv…</td><td>&quot;You are an expert problem solv…</td><td>&quot;None&quot;</td><td>&quot;No&quot;</td><td>null</td><td>null</td><td>&quot;\\\\nGot it, let&#x27;s try to solve …</td><td>&quot;\\\\nGot it, let&#x27;s try to solve …</td><td>&quot;To solve this problem, we need…</td><td>1</td><td>806</td><td>6</td><td>&quot;Good&quot;</td><td>&quot;Model response is incorrect bu…</td><td>&quot;{&#x27;remarks&#x27;: [{&#x27;intervene_index…</td><td>&quot;Codeforces/1929C&quot;</td><td>&quot;0&quot;</td><td>&quot;324220288&quot;</td><td>&quot;C++&quot;</td><td>&quot;0.0&quot;</td><td>-1</td><td>null</td></tr><tr><td>&hellip;</td><td>&hellip;</td><td>&hellip;</td><td>&hellip;</td><td>&hellip;</td><td>&hellip;</td><td>&hellip;</td><td>&hellip;</td><td>&hellip;</td><td>&hellip;</td><td>&hellip;</td><td>&hellip;</td><td>&hellip;</td><td>&hellip;</td><td>&hellip;</td><td>&hellip;</td><td>&hellip;</td><td>&hellip;</td><td>&hellip;</td><td>&hellip;</td><td>&hellip;</td><td>&hellip;</td><td>&hellip;</td><td>&hellip;</td><td>&hellip;</td><td>&hellip;</td><td>&hellip;</td></tr><tr><td>&quot;69669&quot;</td><td>282</td><td>&quot;ep-20250531134931-xwct7&quot;</td><td>&quot;Solving the given programming …</td><td>&quot;You are an expert problem solv…</td><td>&quot;You are an expert problem solv…</td><td>&quot;You are an expert problem solv…</td><td>&quot;None&quot;</td><td>&quot;No&quot;</td><td>null</td><td>null</td><td>&quot;\\\\nGot it, let&#x27;s try to solve …</td><td>&quot;\\\\nGot it, let&#x27;s try to solve …</td><td>&quot;To address the core issue of d…</td><td>1</td><td>1785</td><td>1</td><td>&quot;Good&quot;</td><td>&quot;Model response is incorrect bu…</td><td>&quot;{&#x27;remarks&#x27;: [{&#x27;intervene_index…</td><td>&quot;Codeforces/163E&quot;</td><td>null</td><td>&quot;324941857&quot;</td><td>&quot;C++&quot;</td><td>&quot;0.125&quot;</td><td>-1</td><td>null</td></tr><tr><td>&quot;69684&quot;</td><td>136</td><td>&quot;ep-20250531134931-xwct7&quot;</td><td>&quot;Solving the given programming …</td><td>&quot;You are an expert problem solv…</td><td>&quot;You are an expert problem solv…</td><td>&quot;You are an expert problem solv…</td><td>&quot;#include &lt;bits/stdc++.h&gt;\\nusin…</td><td>&quot;Yes&quot;</td><td>&quot;Exceeded local intervention co…</td><td>null</td><td>&quot;Okay, let&#x27;s tackle this proble…</td><td>&quot;&lt;abandon&gt;Okay, let&#x27;s tackle th…</td><td>&quot;To solve this problem, we need…</td><td>1</td><td>1153</td><td>10</td><td>&quot;Faulty&quot;</td><td>&quot;Model response is incorrect an…</td><td>&quot;{&#x27;remarks&#x27;: [{&#x27;intervene_index…</td><td>&quot;Codeforces/1019D&quot;</td><td>&quot;0&quot;</td><td>&quot;324760737&quot;</td><td>&quot;C++&quot;</td><td>&quot;0.0&quot;</td><td>-1</td><td>null</td></tr><tr><td>&quot;69712&quot;</td><td>385</td><td>&quot;ep-20250531134931-xwct7&quot;</td><td>&quot;Solving the given programming …</td><td>&quot;You are an expert problem solv…</td><td>&quot;You are an expert problem solv…</td><td>&quot;None&quot;</td><td>&quot;None&quot;</td><td>&quot;No&quot;</td><td>null</td><td>null</td><td>&quot;\\\\nGot it, let&#x27;s tackle this p…</td><td>&quot;\\\\nGot it, let&#x27;s tackle this p…</td><td>&quot;To solve this problem, we need…</td><td>1</td><td>1640</td><td>0</td><td>&quot;Good&quot;</td><td>&quot;Model response is correct with…</td><td>&quot;{&#x27;remarks&#x27;: []}&quot;</td><td>&quot;Codeforces/342E&quot;</td><td>&quot;0&quot;</td><td>&quot;324992128&quot;</td><td>&quot;C++&quot;</td><td>&quot;0.0&quot;</td><td>-1</td><td>null</td></tr><tr><td>&quot;69757&quot;</td><td>136</td><td>&quot;ep-20250531134931-xwct7&quot;</td><td>&quot;Solving the given programming …</td><td>&quot;You are an expert problem solv…</td><td>&quot;You are an expert problem solv…</td><td>&quot;You are an expert problem solv…</td><td>&quot;#include &lt;bits/stdc++.h&gt;\\nusin…</td><td>&quot;Yes&quot;</td><td>&quot;Exceeded local intervention co…</td><td>null</td><td>&quot;\\\\nGot it, let&#x27;s try to solve …</td><td>&quot;\\\\nGot it, let&#x27;s try to solve …</td><td>&quot;To solve this problem, we need…</td><td>1</td><td>1429</td><td>10</td><td>&quot;Minor Flaws&quot;</td><td>&quot;Model response is incorrect an…</td><td>&quot;{&#x27;remarks&#x27;: [{&#x27;intervene_index…</td><td>&quot;Codeforces/1784D&quot;</td><td>&quot;0&quot;</td><td>&quot;324985827&quot;</td><td>&quot;C++&quot;</td><td>&quot;0.0&quot;</td><td>-1</td><td>null</td></tr><tr><td>&quot;69847&quot;</td><td>505</td><td>&quot;ep-20250531134931-xwct7&quot;</td><td>&quot;Solving the given programming …</td><td>&quot;You are an expert problem solv…</td><td>&quot;You are an expert problem solv…</td><td>&quot;None&quot;</td><td>&quot;None&quot;</td><td>&quot;No&quot;</td><td>null</td><td>null</td><td>&quot;Got it, let&#x27;s tackle this prob…</td><td>&quot;Got it, let&#x27;s tackle this prob…</td><td>&quot;To solve this problem, we need…</td><td>1</td><td>762</td><td>0</td><td>&quot;Good&quot;</td><td>&quot;Model response is correct with…</td><td>&quot;{&#x27;remarks&#x27;: []}&quot;</td><td>&quot;Codeforces/312A&quot;</td><td>&quot;0&quot;</td><td>&quot;324993681&quot;</td><td>&quot;C++&quot;</td><td>&quot;0.0&quot;</td><td>-1</td><td>null</td></tr></tbody></table></div>"
      ],
      "text/plain": [
       "shape: (292, 27)\n",
       "┌─────────┬────────────┬────────────┬────────────┬───┬────────────┬───────┬────────────┬───────────┐\n",
       "│ task id ┆ trainer id ┆ model name ┆ user       ┆ … ┆ programmin ┆ ACC   ┆ total_late ┆ initial_r │\n",
       "│ ---     ┆ ---        ┆ ---        ┆ prompt     ┆   ┆ g_language ┆ ---   ┆ ncy (ms)   ┆ esponse   │\n",
       "│ str     ┆ i64        ┆ str        ┆ ---        ┆   ┆ ---        ┆ str   ┆ ---        ┆ ---       │\n",
       "│         ┆            ┆            ┆ str        ┆   ┆ str        ┆       ┆ i64        ┆ str       │\n",
       "╞═════════╪════════════╪════════════╪════════════╪═══╪════════════╪═══════╪════════════╪═══════════╡\n",
       "│ 66742   ┆ 321        ┆ ep-2025053 ┆ Solving    ┆ … ┆ C++        ┆ 0.0   ┆ 2880311    ┆ null      │\n",
       "│         ┆            ┆ 1134931-xw ┆ the given  ┆   ┆            ┆       ┆            ┆           │\n",
       "│         ┆            ┆ ct7        ┆ programmin ┆   ┆            ┆       ┆            ┆           │\n",
       "│         ┆            ┆            ┆ g …        ┆   ┆            ┆       ┆            ┆           │\n",
       "│ 66764   ┆ 128        ┆ ep-2025053 ┆ You like   ┆ … ┆ C++        ┆ null  ┆ -1         ┆ null      │\n",
       "│         ┆            ┆ 1134931-xw ┆ numbers,   ┆   ┆            ┆       ┆            ┆           │\n",
       "│         ┆            ┆ ct7        ┆ don't you? ┆   ┆            ┆       ┆            ┆           │\n",
       "│         ┆            ┆            ┆ N…         ┆   ┆            ┆       ┆            ┆           │\n",
       "│ 66784   ┆ 160        ┆ ep-2025053 ┆ Celebratin ┆ … ┆ C++        ┆ null  ┆ 7704198    ┆ null      │\n",
       "│         ┆            ┆ 1134931-xw ┆ g the new  ┆   ┆            ┆       ┆            ┆           │\n",
       "│         ┆            ┆ ct7        ┆ year,      ┆   ┆            ┆       ┆            ┆           │\n",
       "│         ┆            ┆            ┆ many…      ┆   ┆            ┆       ┆            ┆           │\n",
       "│ 69327   ┆ 73         ┆ ep-2025053 ┆ Given is a ┆ … ┆ C++        ┆ 0.0   ┆ -1         ┆ null      │\n",
       "│         ┆            ┆ 1134931-xw ┆ string \\\\\\ ┆   ┆            ┆       ┆            ┆           │\n",
       "│         ┆            ┆ ct7        ┆ \\(s\\\\\\\\) … ┆   ┆            ┆       ┆            ┆           │\n",
       "│ 69367   ┆ 246        ┆ ep-2025053 ┆ Solving    ┆ … ┆ C++        ┆ 0.0   ┆ -1         ┆ null      │\n",
       "│         ┆            ┆ 1134931-xw ┆ the given  ┆   ┆            ┆       ┆            ┆           │\n",
       "│         ┆            ┆ ct7        ┆ programmin ┆   ┆            ┆       ┆            ┆           │\n",
       "│         ┆            ┆            ┆ g …        ┆   ┆            ┆       ┆            ┆           │\n",
       "│ …       ┆ …          ┆ …          ┆ …          ┆ … ┆ …          ┆ …     ┆ …          ┆ …         │\n",
       "│ 69669   ┆ 282        ┆ ep-2025053 ┆ Solving    ┆ … ┆ C++        ┆ 0.125 ┆ -1         ┆ null      │\n",
       "│         ┆            ┆ 1134931-xw ┆ the given  ┆   ┆            ┆       ┆            ┆           │\n",
       "│         ┆            ┆ ct7        ┆ programmin ┆   ┆            ┆       ┆            ┆           │\n",
       "│         ┆            ┆            ┆ g …        ┆   ┆            ┆       ┆            ┆           │\n",
       "│ 69684   ┆ 136        ┆ ep-2025053 ┆ Solving    ┆ … ┆ C++        ┆ 0.0   ┆ -1         ┆ null      │\n",
       "│         ┆            ┆ 1134931-xw ┆ the given  ┆   ┆            ┆       ┆            ┆           │\n",
       "│         ┆            ┆ ct7        ┆ programmin ┆   ┆            ┆       ┆            ┆           │\n",
       "│         ┆            ┆            ┆ g …        ┆   ┆            ┆       ┆            ┆           │\n",
       "│ 69712   ┆ 385        ┆ ep-2025053 ┆ Solving    ┆ … ┆ C++        ┆ 0.0   ┆ -1         ┆ null      │\n",
       "│         ┆            ┆ 1134931-xw ┆ the given  ┆   ┆            ┆       ┆            ┆           │\n",
       "│         ┆            ┆ ct7        ┆ programmin ┆   ┆            ┆       ┆            ┆           │\n",
       "│         ┆            ┆            ┆ g …        ┆   ┆            ┆       ┆            ┆           │\n",
       "│ 69757   ┆ 136        ┆ ep-2025053 ┆ Solving    ┆ … ┆ C++        ┆ 0.0   ┆ -1         ┆ null      │\n",
       "│         ┆            ┆ 1134931-xw ┆ the given  ┆   ┆            ┆       ┆            ┆           │\n",
       "│         ┆            ┆ ct7        ┆ programmin ┆   ┆            ┆       ┆            ┆           │\n",
       "│         ┆            ┆            ┆ g …        ┆   ┆            ┆       ┆            ┆           │\n",
       "│ 69847   ┆ 505        ┆ ep-2025053 ┆ Solving    ┆ … ┆ C++        ┆ 0.0   ┆ -1         ┆ null      │\n",
       "│         ┆            ┆ 1134931-xw ┆ the given  ┆   ┆            ┆       ┆            ┆           │\n",
       "│         ┆            ┆ ct7        ┆ programmin ┆   ┆            ┆       ┆            ┆           │\n",
       "│         ┆            ┆            ┆ g …        ┆   ┆            ┆       ┆            ┆           │\n",
       "└─────────┴────────────┴────────────┴────────────┴───┴────────────┴───────┴────────────┴───────────┘"
      ]
     },
     "execution_count": 6,
     "metadata": {},
     "output_type": "execute_result"
    }
   ],
   "source": [
    "df_all.filter(pl.col(\"response\").str.contains(r\"\\\\\\\\\\\\\\\\n\") & pl.col(\"model name\").str.contains(\"ep-20250531134931-xwct7\"))"
   ]
  },
  {
   "cell_type": "code",
   "execution_count": 7,
   "id": "2008d1ac",
   "metadata": {},
   "outputs": [
    {
     "data": {
      "text/html": [
       "<div><style>\n",
       ".dataframe > thead > tr,\n",
       ".dataframe > tbody > tr {\n",
       "  text-align: right;\n",
       "  white-space: pre-wrap;\n",
       "}\n",
       "</style>\n",
       "<small>shape: (7, 27)</small><table border=\"1\" class=\"dataframe\"><thead><tr><th>task id</th><th>trainer id</th><th>model name</th><th>user prompt</th><th>system prompt</th><th>intervene_system_prompt</th><th>intervene prompt</th><th>ground_truth_answer</th><th>abandon_prompt</th><th>abandon_prompt_reason</th><th>abandon_prompt_explanation</th><th>initial_reasoning</th><th>response</th><th>final_answer</th><th>temperature</th><th>total_tokens</th><th>intervention rounds</th><th>CoT quality</th><th>Model performance classification</th><th>remarks</th><th>question_id</th><th>level</th><th>codeforces_submission_id</th><th>programming_language</th><th>ACC</th><th>total_latency (ms)</th><th>initial_response</th></tr><tr><td>str</td><td>i64</td><td>str</td><td>str</td><td>str</td><td>str</td><td>str</td><td>str</td><td>str</td><td>str</td><td>str</td><td>str</td><td>str</td><td>str</td><td>i64</td><td>i64</td><td>i64</td><td>str</td><td>str</td><td>str</td><td>str</td><td>str</td><td>str</td><td>str</td><td>str</td><td>i64</td><td>str</td></tr></thead><tbody><tr><td>&quot;66793&quot;</td><td>505</td><td>&quot;ep-20250312111804-p4w5h&quot;</td><td>&quot;Solving the given programming …</td><td>&quot;You are an expert problem solv…</td><td>&quot;You are an expert problem solv…</td><td>&quot;You are an expert problem solv…</td><td>&quot;#include &lt;bits/stdc++.h&gt;\\nusin…</td><td>&quot;Yes&quot;</td><td>&quot;Exceeded local intervention co…</td><td>null</td><td>&quot;Um, let&#x27;s try to solve this pr…</td><td>&quot;Um, let&#x27;s try to solve this pr…</td><td>&quot;To solve this problem, we need…</td><td>1</td><td>1243</td><td>8</td><td>&quot;Faulty&quot;</td><td>&quot;Model response is incorrect an…</td><td>&quot;{&#x27;remarks&#x27;: [{&#x27;intervene_index…</td><td>&quot;Codeforces/493E&quot;</td><td>null</td><td>&quot;323695451.0&quot;</td><td>&quot;C++&quot;</td><td>&quot;0.1875&quot;</td><td>2752663</td><td>null</td></tr><tr><td>&quot;66688&quot;</td><td>376</td><td>&quot;ep-20250312111804-p4w5h&quot;</td><td>&quot;Solving the given programming …</td><td>&quot;You are an expert problem solv…</td><td>&quot;You are an expert problem solv…</td><td>&quot;You are an expert problem solv…</td><td>&quot;#include &lt;bits/stdc++.h&gt;\\nusin…</td><td>&quot;Yes&quot;</td><td>&quot;Exceeded local intervention co…</td><td>null</td><td>&quot;Got it, let&#x27;s try to solve thi…</td><td>&quot;Got it, let&#x27;s try to solve thi…</td><td>&quot;To solve this problem, we need…</td><td>1</td><td>846</td><td>7</td><td>&quot;Faulty&quot;</td><td>&quot;Model response is incorrect an…</td><td>&quot;{&#x27;remarks&#x27;: [{&#x27;intervene_index…</td><td>&quot;Codeforces/1172A&quot;</td><td>null</td><td>&quot;323754492&quot;</td><td>&quot;C++&quot;</td><td>&quot;0.125&quot;</td><td>1093797</td><td>null</td></tr><tr><td>&quot;66553&quot;</td><td>305</td><td>&quot;ep-20250312111804-p4w5h&quot;</td><td>&quot;Solving the given programming …</td><td>&quot;You are an expert problem solv…</td><td>&quot;You are an expert problem solv…</td><td>&quot;You are an expert problem solv…</td><td>&quot;#include &lt;bits/stdc++.h&gt;\\n\\nus…</td><td>&quot;Yes&quot;</td><td>&quot;Exceeded global intervention c…</td><td>null</td><td>&quot;\\\\nGot it, let&#x27;s try to solve …</td><td>&quot;\\\\nGot it, let&#x27;s try to solve …</td><td>&quot;To solve this problem, we need…</td><td>1</td><td>1539</td><td>15</td><td>&quot;Faulty&quot;</td><td>&quot;Model response is incorrect an…</td><td>&quot;{&#x27;remarks&#x27;: [{&#x27;intervene_index…</td><td>&quot;Codeforces/543C&quot;</td><td>null</td><td>&quot;323101276&quot;</td><td>&quot;C++&quot;</td><td>&quot;0.0&quot;</td><td>3221493</td><td>null</td></tr><tr><td>&quot;66309&quot;</td><td>279</td><td>&quot;ep-20250418145052-bss5p&quot;</td><td>&quot;Solving the given programming …</td><td>&quot;You are an expert problem solv…</td><td>&quot;You are an expert problem solv…</td><td>&quot;You are an expert problem solv…</td><td>&quot;```cpp\\n#include &lt;algorithm&gt;\\n…</td><td>&quot;Yes&quot;</td><td>&quot;Exceeded global intervention c…</td><td>null</td><td>&quot;Okay, let&#x27;s try to figure out …</td><td>&quot;Okay, let&#x27;s try to figure out …</td><td>&quot;To solve this problem, we need…</td><td>1</td><td>983</td><td>15</td><td>&quot;Faulty&quot;</td><td>&quot;Model response is incorrect an…</td><td>&quot;{&#x27;remarks&#x27;: [{&#x27;intervene_index…</td><td>&quot;Codeforces/755D&quot;</td><td>null</td><td>&quot;323554421&quot;</td><td>&quot;C++&quot;</td><td>&quot;0.125&quot;</td><td>-1</td><td>null</td></tr><tr><td>&quot;60097&quot;</td><td>73</td><td>&quot;ep-20250418145052-bss5p&quot;</td><td>&quot;Pavel cooks barbecue. There ar…</td><td>&quot;You are an expert problem solv…</td><td>&quot;You are an expert problem solv…</td><td>&quot;You are an expert problem solv…</td><td>null</td><td>&quot;No&quot;</td><td>null</td><td>null</td><td>null</td><td>&quot;Okay, let&#x27;s try to figure out …</td><td>&quot;To solve this problem, we need…</td><td>1</td><td>656</td><td>4</td><td>&quot;Minor Flaws&quot;</td><td>&quot;Model response is incorrect bu…</td><td>&quot;{&#x27;remarks&#x27;: [{&#x27;intervene_index…</td><td>&quot;Codeforces/756A&quot;</td><td>&quot;none&quot;</td><td>&quot;320922811&quot;</td><td>&quot;C++&quot;</td><td>&quot;0.1875&quot;</td><td>533656</td><td>&quot;To solve this problem, we need…</td></tr><tr><td>&quot;66318&quot;</td><td>283</td><td>&quot;ep-20250418145052-bss5p&quot;</td><td>&quot;Solving the given programming …</td><td>&quot;You are an expert problem solv…</td><td>&quot;You are an expert problem solv…</td><td>&quot;You are an expert problem solv…</td><td>null</td><td>&quot;No&quot;</td><td>null</td><td>null</td><td>null</td><td>&quot;Okay, let&#x27;s try to figure out …</td><td>&quot;To solve this problem, we need…</td><td>1</td><td>821</td><td>2</td><td>&quot;Good&quot;</td><td>&quot;Model response is incorrect bu…</td><td>&quot;{&#x27;remarks&#x27;: [{&#x27;intervene_index…</td><td>&quot;Codeforces/1730C&quot;</td><td>&quot;none&quot;</td><td>&quot;321754124&quot;</td><td>&quot;C++&quot;</td><td>&quot;0.0625&quot;</td><td>-1</td><td>&quot;To solve this problem, we need…</td></tr><tr><td>&quot;59821&quot;</td><td>null</td><td>&quot;ep-20250418145052-bss5p&quot;</td><td>&quot;Solving the given programming …</td><td>&quot;You are an expert problem solv…</td><td>&quot;You are an expert problem solv…</td><td>&quot;You are an expert problem solv…</td><td>null</td><td>&quot;No&quot;</td><td>null</td><td>null</td><td>null</td><td>&quot;Okay, let&#x27;s try to solve this …</td><td>&quot;To solve this problem, we need…</td><td>1</td><td>783</td><td>4</td><td>&quot;Good&quot;</td><td>&quot;Model response is incorrect bu…</td><td>&quot;{&#x27;remarks&#x27;: [{&#x27;intervene_index…</td><td>&quot;Codeforces/1902C&quot;</td><td>&quot;none&quot;</td><td>&quot;320805318&quot;</td><td>&quot;C++&quot;</td><td>&quot;0.1875&quot;</td><td>1976700</td><td>null</td></tr></tbody></table></div>"
      ],
      "text/plain": [
       "shape: (7, 27)\n",
       "┌─────────┬────────────┬────────────┬────────────┬───┬────────────┬────────┬───────────┬───────────┐\n",
       "│ task id ┆ trainer id ┆ model name ┆ user       ┆ … ┆ programmin ┆ ACC    ┆ total_lat ┆ initial_r │\n",
       "│ ---     ┆ ---        ┆ ---        ┆ prompt     ┆   ┆ g_language ┆ ---    ┆ ency (ms) ┆ esponse   │\n",
       "│ str     ┆ i64        ┆ str        ┆ ---        ┆   ┆ ---        ┆ str    ┆ ---       ┆ ---       │\n",
       "│         ┆            ┆            ┆ str        ┆   ┆ str        ┆        ┆ i64       ┆ str       │\n",
       "╞═════════╪════════════╪════════════╪════════════╪═══╪════════════╪════════╪═══════════╪═══════════╡\n",
       "│ 66793   ┆ 505        ┆ ep-2025031 ┆ Solving    ┆ … ┆ C++        ┆ 0.1875 ┆ 2752663   ┆ null      │\n",
       "│         ┆            ┆ 2111804-p4 ┆ the given  ┆   ┆            ┆        ┆           ┆           │\n",
       "│         ┆            ┆ w5h        ┆ programmin ┆   ┆            ┆        ┆           ┆           │\n",
       "│         ┆            ┆            ┆ g …        ┆   ┆            ┆        ┆           ┆           │\n",
       "│ 66688   ┆ 376        ┆ ep-2025031 ┆ Solving    ┆ … ┆ C++        ┆ 0.125  ┆ 1093797   ┆ null      │\n",
       "│         ┆            ┆ 2111804-p4 ┆ the given  ┆   ┆            ┆        ┆           ┆           │\n",
       "│         ┆            ┆ w5h        ┆ programmin ┆   ┆            ┆        ┆           ┆           │\n",
       "│         ┆            ┆            ┆ g …        ┆   ┆            ┆        ┆           ┆           │\n",
       "│ 66553   ┆ 305        ┆ ep-2025031 ┆ Solving    ┆ … ┆ C++        ┆ 0.0    ┆ 3221493   ┆ null      │\n",
       "│         ┆            ┆ 2111804-p4 ┆ the given  ┆   ┆            ┆        ┆           ┆           │\n",
       "│         ┆            ┆ w5h        ┆ programmin ┆   ┆            ┆        ┆           ┆           │\n",
       "│         ┆            ┆            ┆ g …        ┆   ┆            ┆        ┆           ┆           │\n",
       "│ 66309   ┆ 279        ┆ ep-2025041 ┆ Solving    ┆ … ┆ C++        ┆ 0.125  ┆ -1        ┆ null      │\n",
       "│         ┆            ┆ 8145052-bs ┆ the given  ┆   ┆            ┆        ┆           ┆           │\n",
       "│         ┆            ┆ s5p        ┆ programmin ┆   ┆            ┆        ┆           ┆           │\n",
       "│         ┆            ┆            ┆ g …        ┆   ┆            ┆        ┆           ┆           │\n",
       "│ 60097   ┆ 73         ┆ ep-2025041 ┆ Pavel      ┆ … ┆ C++        ┆ 0.1875 ┆ 533656    ┆ To solve  │\n",
       "│         ┆            ┆ 8145052-bs ┆ cooks      ┆   ┆            ┆        ┆           ┆ this      │\n",
       "│         ┆            ┆ s5p        ┆ barbecue.  ┆   ┆            ┆        ┆           ┆ problem,  │\n",
       "│         ┆            ┆            ┆ There ar…  ┆   ┆            ┆        ┆           ┆ we need…  │\n",
       "│ 66318   ┆ 283        ┆ ep-2025041 ┆ Solving    ┆ … ┆ C++        ┆ 0.0625 ┆ -1        ┆ To solve  │\n",
       "│         ┆            ┆ 8145052-bs ┆ the given  ┆   ┆            ┆        ┆           ┆ this      │\n",
       "│         ┆            ┆ s5p        ┆ programmin ┆   ┆            ┆        ┆           ┆ problem,  │\n",
       "│         ┆            ┆            ┆ g …        ┆   ┆            ┆        ┆           ┆ we need…  │\n",
       "│ 59821   ┆ null       ┆ ep-2025041 ┆ Solving    ┆ … ┆ C++        ┆ 0.1875 ┆ 1976700   ┆ null      │\n",
       "│         ┆            ┆ 8145052-bs ┆ the given  ┆   ┆            ┆        ┆           ┆           │\n",
       "│         ┆            ┆ s5p        ┆ programmin ┆   ┆            ┆        ┆           ┆           │\n",
       "│         ┆            ┆            ┆ g …        ┆   ┆            ┆        ┆           ┆           │\n",
       "└─────────┴────────────┴────────────┴────────────┴───┴────────────┴────────┴───────────┴───────────┘"
      ]
     },
     "execution_count": 7,
     "metadata": {},
     "output_type": "execute_result"
    }
   ],
   "source": [
    "df_all.filter(pl.col(\"response\").str.contains(r\"\\\\\\\\\\\\\\\\n\") & ~pl.col(\"model name\").str.contains(\"ep-20250531134931-xwct7\"))"
   ]
  },
  {
   "cell_type": "code",
   "execution_count": 8,
   "id": "ee5ade3a",
   "metadata": {},
   "outputs": [],
   "source": [
    "df_old = df_all.filter(pl.col(\"response\").str.contains(r\"\\\\\\\\\\\\\\\\n\") & pl.col(\"model name\").str.contains(\"ep-20250418145052-bss5p\"))\n",
    "df_old.write_ndjson(\"data/backslash_old.ndjson\")"
   ]
  },
  {
   "cell_type": "code",
   "execution_count": 9,
   "id": "bc0cda26",
   "metadata": {},
   "outputs": [
    {
     "data": {
      "text/html": [
       "<div><style>\n",
       ".dataframe > thead > tr,\n",
       ".dataframe > tbody > tr {\n",
       "  text-align: right;\n",
       "  white-space: pre-wrap;\n",
       "}\n",
       "</style>\n",
       "<small>shape: (1_336, 27)</small><table border=\"1\" class=\"dataframe\"><thead><tr><th>task id</th><th>trainer id</th><th>model name</th><th>user prompt</th><th>system prompt</th><th>intervene_system_prompt</th><th>intervene prompt</th><th>ground_truth_answer</th><th>abandon_prompt</th><th>abandon_prompt_reason</th><th>abandon_prompt_explanation</th><th>initial_reasoning</th><th>response</th><th>final_answer</th><th>temperature</th><th>total_tokens</th><th>intervention rounds</th><th>CoT quality</th><th>Model performance classification</th><th>remarks</th><th>question_id</th><th>level</th><th>codeforces_submission_id</th><th>programming_language</th><th>ACC</th><th>total_latency (ms)</th><th>initial_response</th></tr><tr><td>str</td><td>i64</td><td>str</td><td>str</td><td>str</td><td>str</td><td>str</td><td>str</td><td>str</td><td>str</td><td>str</td><td>str</td><td>str</td><td>str</td><td>i64</td><td>i64</td><td>i64</td><td>str</td><td>str</td><td>str</td><td>str</td><td>str</td><td>str</td><td>str</td><td>str</td><td>i64</td><td>str</td></tr></thead><tbody><tr><td>&quot;69604&quot;</td><td>281</td><td>&quot;ep-20250531134931-xwct7&quot;</td><td>&quot;Solving the given programming …</td><td>&quot;You are an expert problem solv…</td><td>&quot;You are an expert problem solv…</td><td>&quot;You are an expert problem solv…</td><td>&quot;#include &lt;iostream&gt;\\n#include …</td><td>&quot;No&quot;</td><td>null</td><td>null</td><td>&quot;Got it, let&#x27;s start by correct…</td><td>&quot;Got it, let&#x27;s start by correct…</td><td>&quot;To solve this problem, we need…</td><td>1</td><td>1303</td><td>11</td><td>&quot;Good&quot;</td><td>&quot;Model response is incorrect bu…</td><td>&quot;{&#x27;remarks&#x27;: [{&#x27;intervene_index…</td><td>&quot;Codeforces/1713E&quot;</td><td>null</td><td>&quot;325591640&quot;</td><td>&quot;C++&quot;</td><td>&quot;0.0&quot;</td><td>-1</td><td>null</td></tr><tr><td>&quot;69773&quot;</td><td>518</td><td>&quot;ep-20250531134931-xwct7&quot;</td><td>&quot;Solving the given programming …</td><td>&quot;You are an expert problem solv…</td><td>&quot;You are an expert problem solv…</td><td>&quot;You are an expert problem solv…</td><td>&quot;None&quot;</td><td>&quot;No&quot;</td><td>null</td><td>null</td><td>&quot;\\\\nGot it, let&#x27;s try to solve …</td><td>&quot;Got it, let&#x27;s try to solve thi…</td><td>&quot;To solve this problem, we need…</td><td>1</td><td>1003</td><td>8</td><td>&quot;Minor Flaws&quot;</td><td>&quot;Model response is incorrect bu…</td><td>&quot;{&#x27;remarks&#x27;: [{&#x27;intervene_index…</td><td>&quot;Codeforces/1852C&quot;</td><td>&quot;0.0&quot;</td><td>&quot;325293803&quot;</td><td>&quot;C++&quot;</td><td>&quot;0.0&quot;</td><td>-1</td><td>null</td></tr><tr><td>&quot;55665&quot;</td><td>160</td><td>&quot;ep-20250418145052-bss5p&quot;</td><td>&quot;Solving the given programming …</td><td>&quot;You are an expert problem solv…</td><td>&quot;You are an expert problem solv…</td><td>&quot;None&quot;</td><td>&quot;None&quot;</td><td>&quot;No&quot;</td><td>null</td><td>null</td><td>&quot;Okay, let&#x27;s tackle this proble…</td><td>&quot;Okay, let&#x27;s tackle this proble…</td><td>&quot;To solve this problem, we need…</td><td>1</td><td>585</td><td>0</td><td>&quot;Good&quot;</td><td>&quot;Model response is correct with…</td><td>&quot;{&#x27;remarks&#x27;: []}&quot;</td><td>&quot;Codeforces/1374C&quot;</td><td>null</td><td>&quot;324071406&quot;</td><td>&quot;C++&quot;</td><td>&quot;0.0625&quot;</td><td>117053</td><td>null</td></tr><tr><td>&quot;55709&quot;</td><td>400</td><td>&quot;ep-20250531134931-xwct7&quot;</td><td>&quot;For a connected undirected wei…</td><td>&quot;You are an expert problem solv…</td><td>&quot;You are an expert problem solv…</td><td>&quot;You are an expert problem solv…</td><td>&quot;None&quot;</td><td>&quot;No&quot;</td><td>null</td><td>null</td><td>&quot;Um, let&#x27;s tackle this problem.…</td><td>&quot;Um, let&#x27;s tackle this problem.…</td><td>&quot;To address the efficiency and …</td><td>1</td><td>2091</td><td>13</td><td>&quot;Minor Flaws&quot;</td><td>&quot;Model response is incorrect bu…</td><td>&quot;{&#x27;remarks&#x27;: [{&#x27;intervene_index…</td><td>&quot;CF891C&quot;</td><td>&quot;6.0&quot;</td><td>&quot;324010622&quot;</td><td>&quot;C++&quot;</td><td>null</td><td>3527315</td><td>null</td></tr><tr><td>&quot;59839&quot;</td><td>396</td><td>&quot;ep-20250531134931-xwct7&quot;</td><td>&quot;Solving the given programming …</td><td>&quot;You are an expert problem solv…</td><td>&quot;You are an expert problem solv…</td><td>&quot;You are an expert problem solv…</td><td>&quot;```cpp\\n#include &lt;bits/stdc++.…</td><td>&quot;Yes&quot;</td><td>&quot;Exceeded local intervention co…</td><td>null</td><td>&quot;Okay, let&#x27;s try to figure out …</td><td>&quot;Okay, let&#x27;s try to figure out …</td><td>&quot;To solve this problem, we need…</td><td>1</td><td>584</td><td>6</td><td>&quot;Faulty&quot;</td><td>&quot;Model response is incorrect an…</td><td>&quot;{&#x27;remarks&#x27;: [{&#x27;intervene_index…</td><td>&quot;Codeforces/1043C&quot;</td><td>null</td><td>&quot;323860347&quot;</td><td>&quot;C++&quot;</td><td>&quot;0.0625&quot;</td><td>2230954</td><td>null</td></tr><tr><td>&hellip;</td><td>&hellip;</td><td>&hellip;</td><td>&hellip;</td><td>&hellip;</td><td>&hellip;</td><td>&hellip;</td><td>&hellip;</td><td>&hellip;</td><td>&hellip;</td><td>&hellip;</td><td>&hellip;</td><td>&hellip;</td><td>&hellip;</td><td>&hellip;</td><td>&hellip;</td><td>&hellip;</td><td>&hellip;</td><td>&hellip;</td><td>&hellip;</td><td>&hellip;</td><td>&hellip;</td><td>&hellip;</td><td>&hellip;</td><td>&hellip;</td><td>&hellip;</td><td>&hellip;</td></tr><tr><td>&quot;60181&quot;</td><td>null</td><td>&quot;ep-20250418145052-bss5p&quot;</td><td>&quot;Solving the given programming …</td><td>&quot;You are an expert problem solv…</td><td>&quot;You are an expert problem solv…</td><td>&quot;You are an expert problem solv…</td><td>null</td><td>&quot;No&quot;</td><td>null</td><td>null</td><td>null</td><td>&quot;&lt;abandon&gt;Okay, let&#x27;s tackle th…</td><td>&quot;To solve this problem, we need…</td><td>1</td><td>675</td><td>6</td><td>&quot;Good&quot;</td><td>&quot;Model response is incorrect bu…</td><td>&quot;{&#x27;remarks&#x27;: [{&#x27;intervene_index…</td><td>&quot;Codeforces/1616B&quot;</td><td>&quot;none&quot;</td><td>&quot;320743183&quot;</td><td>&quot;C++&quot;</td><td>&quot;0.125&quot;</td><td>7504410</td><td>null</td></tr><tr><td>&quot;60197&quot;</td><td>null</td><td>&quot;ep-20250418145052-bss5p&quot;</td><td>&quot;Solving the given programming …</td><td>&quot;You are an expert problem solv…</td><td>&quot;You are an expert problem solv…</td><td>null</td><td>null</td><td>&quot;No&quot;</td><td>null</td><td>null</td><td>null</td><td>&quot;Okay, let&#x27;s try to figure out …</td><td>&quot;To solve this problem, we need…</td><td>1</td><td>631</td><td>0</td><td>&quot;Good&quot;</td><td>&quot;Model response is correct with…</td><td>&quot;{&#x27;remarks&#x27;: []}&quot;</td><td>&quot;Codeforces/399B&quot;</td><td>&quot;none&quot;</td><td>&quot;320788642&quot;</td><td>&quot;C++&quot;</td><td>&quot;0.0&quot;</td><td>162953</td><td>null</td></tr><tr><td>&quot;60218&quot;</td><td>null</td><td>&quot;ep-20250418145052-bss5p&quot;</td><td>&quot;Baby Ehab has a piece of Cut a…</td><td>&quot;You are an expert problem solv…</td><td>&quot;You are an expert problem solv…</td><td>null</td><td>&quot;```cpp\\n\\n#include &lt;bits/stdc+…</td><td>&quot;No&quot;</td><td>null</td><td>null</td><td>null</td><td>&quot;Okay, let&#x27;s try to figure out …</td><td>&quot;To solve this problem, we need…</td><td>1</td><td>1319</td><td>0</td><td>&quot;Good&quot;</td><td>&quot;Model response is correct with…</td><td>&quot;{&#x27;remarks&#x27;: []}&quot;</td><td>&quot;Codeforces/1514D&quot;</td><td>&quot;none&quot;</td><td>&quot;320833280&quot;</td><td>&quot;C++&quot;</td><td>&quot;0.0625&quot;</td><td>841841</td><td>null</td></tr><tr><td>&quot;60234&quot;</td><td>null</td><td>&quot;ep-20250418145052-bss5p&quot;</td><td>&quot;Solving the given programming …</td><td>&quot;You are an expert problem solv…</td><td>&quot;You are an expert problem solv…</td><td>null</td><td>null</td><td>&quot;No&quot;</td><td>null</td><td>null</td><td>null</td><td>&quot;Okay, let&#x27;s tackle this proble…</td><td>&quot;To solve this problem, we need…</td><td>1</td><td>647</td><td>0</td><td>&quot;Good&quot;</td><td>&quot;Model response is correct with…</td><td>&quot;{&#x27;remarks&#x27;: []}&quot;</td><td>&quot;Codeforces/805A&quot;</td><td>&quot;none&quot;</td><td>&quot;320941084&quot;</td><td>&quot;C++&quot;</td><td>&quot;0.0&quot;</td><td>216597</td><td>null</td></tr><tr><td>&quot;60239&quot;</td><td>null</td><td>&quot;ep-20250418145052-bss5p&quot;</td><td>&quot;Solving the given programming …</td><td>&quot;You are an expert problem solv…</td><td>&quot;You are an expert problem solv…</td><td>&quot;You are an expert problem solv…</td><td>null</td><td>&quot;No&quot;</td><td>null</td><td>null</td><td>null</td><td>&quot;Okay, let&#x27;s tackle this proble…</td><td>&quot;To solve this problem, we need…</td><td>1</td><td>734</td><td>1</td><td>&quot;Good&quot;</td><td>&quot;Model response is incorrect bu…</td><td>&quot;{&#x27;remarks&#x27;: [{&#x27;intervene_index…</td><td>&quot;Codeforces/1742C&quot;</td><td>&quot;none&quot;</td><td>&quot;320846805&quot;</td><td>&quot;C++&quot;</td><td>&quot;0.125&quot;</td><td>266119</td><td>null</td></tr></tbody></table></div>"
      ],
      "text/plain": [
       "shape: (1_336, 27)\n",
       "┌─────────┬────────────┬────────────┬────────────┬───┬────────────┬────────┬───────────┬───────────┐\n",
       "│ task id ┆ trainer id ┆ model name ┆ user       ┆ … ┆ programmin ┆ ACC    ┆ total_lat ┆ initial_r │\n",
       "│ ---     ┆ ---        ┆ ---        ┆ prompt     ┆   ┆ g_language ┆ ---    ┆ ency (ms) ┆ esponse   │\n",
       "│ str     ┆ i64        ┆ str        ┆ ---        ┆   ┆ ---        ┆ str    ┆ ---       ┆ ---       │\n",
       "│         ┆            ┆            ┆ str        ┆   ┆ str        ┆        ┆ i64       ┆ str       │\n",
       "╞═════════╪════════════╪════════════╪════════════╪═══╪════════════╪════════╪═══════════╪═══════════╡\n",
       "│ 69604   ┆ 281        ┆ ep-2025053 ┆ Solving    ┆ … ┆ C++        ┆ 0.0    ┆ -1        ┆ null      │\n",
       "│         ┆            ┆ 1134931-xw ┆ the given  ┆   ┆            ┆        ┆           ┆           │\n",
       "│         ┆            ┆ ct7        ┆ programmin ┆   ┆            ┆        ┆           ┆           │\n",
       "│         ┆            ┆            ┆ g …        ┆   ┆            ┆        ┆           ┆           │\n",
       "│ 69773   ┆ 518        ┆ ep-2025053 ┆ Solving    ┆ … ┆ C++        ┆ 0.0    ┆ -1        ┆ null      │\n",
       "│         ┆            ┆ 1134931-xw ┆ the given  ┆   ┆            ┆        ┆           ┆           │\n",
       "│         ┆            ┆ ct7        ┆ programmin ┆   ┆            ┆        ┆           ┆           │\n",
       "│         ┆            ┆            ┆ g …        ┆   ┆            ┆        ┆           ┆           │\n",
       "│ 55665   ┆ 160        ┆ ep-2025041 ┆ Solving    ┆ … ┆ C++        ┆ 0.0625 ┆ 117053    ┆ null      │\n",
       "│         ┆            ┆ 8145052-bs ┆ the given  ┆   ┆            ┆        ┆           ┆           │\n",
       "│         ┆            ┆ s5p        ┆ programmin ┆   ┆            ┆        ┆           ┆           │\n",
       "│         ┆            ┆            ┆ g …        ┆   ┆            ┆        ┆           ┆           │\n",
       "│ 55709   ┆ 400        ┆ ep-2025053 ┆ For a      ┆ … ┆ C++        ┆ null   ┆ 3527315   ┆ null      │\n",
       "│         ┆            ┆ 1134931-xw ┆ connected  ┆   ┆            ┆        ┆           ┆           │\n",
       "│         ┆            ┆ ct7        ┆ undirected ┆   ┆            ┆        ┆           ┆           │\n",
       "│         ┆            ┆            ┆ wei…       ┆   ┆            ┆        ┆           ┆           │\n",
       "│ 59839   ┆ 396        ┆ ep-2025053 ┆ Solving    ┆ … ┆ C++        ┆ 0.0625 ┆ 2230954   ┆ null      │\n",
       "│         ┆            ┆ 1134931-xw ┆ the given  ┆   ┆            ┆        ┆           ┆           │\n",
       "│         ┆            ┆ ct7        ┆ programmin ┆   ┆            ┆        ┆           ┆           │\n",
       "│         ┆            ┆            ┆ g …        ┆   ┆            ┆        ┆           ┆           │\n",
       "│ …       ┆ …          ┆ …          ┆ …          ┆ … ┆ …          ┆ …      ┆ …         ┆ …         │\n",
       "│ 60181   ┆ null       ┆ ep-2025041 ┆ Solving    ┆ … ┆ C++        ┆ 0.125  ┆ 7504410   ┆ null      │\n",
       "│         ┆            ┆ 8145052-bs ┆ the given  ┆   ┆            ┆        ┆           ┆           │\n",
       "│         ┆            ┆ s5p        ┆ programmin ┆   ┆            ┆        ┆           ┆           │\n",
       "│         ┆            ┆            ┆ g …        ┆   ┆            ┆        ┆           ┆           │\n",
       "│ 60197   ┆ null       ┆ ep-2025041 ┆ Solving    ┆ … ┆ C++        ┆ 0.0    ┆ 162953    ┆ null      │\n",
       "│         ┆            ┆ 8145052-bs ┆ the given  ┆   ┆            ┆        ┆           ┆           │\n",
       "│         ┆            ┆ s5p        ┆ programmin ┆   ┆            ┆        ┆           ┆           │\n",
       "│         ┆            ┆            ┆ g …        ┆   ┆            ┆        ┆           ┆           │\n",
       "│ 60218   ┆ null       ┆ ep-2025041 ┆ Baby Ehab  ┆ … ┆ C++        ┆ 0.0625 ┆ 841841    ┆ null      │\n",
       "│         ┆            ┆ 8145052-bs ┆ has a      ┆   ┆            ┆        ┆           ┆           │\n",
       "│         ┆            ┆ s5p        ┆ piece of   ┆   ┆            ┆        ┆           ┆           │\n",
       "│         ┆            ┆            ┆ Cut a…     ┆   ┆            ┆        ┆           ┆           │\n",
       "│ 60234   ┆ null       ┆ ep-2025041 ┆ Solving    ┆ … ┆ C++        ┆ 0.0    ┆ 216597    ┆ null      │\n",
       "│         ┆            ┆ 8145052-bs ┆ the given  ┆   ┆            ┆        ┆           ┆           │\n",
       "│         ┆            ┆ s5p        ┆ programmin ┆   ┆            ┆        ┆           ┆           │\n",
       "│         ┆            ┆            ┆ g …        ┆   ┆            ┆        ┆           ┆           │\n",
       "│ 60239   ┆ null       ┆ ep-2025041 ┆ Solving    ┆ … ┆ C++        ┆ 0.125  ┆ 266119    ┆ null      │\n",
       "│         ┆            ┆ 8145052-bs ┆ the given  ┆   ┆            ┆        ┆           ┆           │\n",
       "│         ┆            ┆ s5p        ┆ programmin ┆   ┆            ┆        ┆           ┆           │\n",
       "│         ┆            ┆            ┆ g …        ┆   ┆            ┆        ┆           ┆           │\n",
       "└─────────┴────────────┴────────────┴────────────┴───┴────────────┴────────┴───────────┴───────────┘"
      ]
     },
     "execution_count": 9,
     "metadata": {},
     "output_type": "execute_result"
    }
   ],
   "source": [
    "df_prompt_bs = df_all.filter(pl.col(\"user prompt\").str.contains(r\"\\\\\\\\\\\\\\\\\"))\n",
    "df_prompt_bs"
   ]
  },
  {
   "cell_type": "code",
   "execution_count": 10,
   "id": "25fa597f",
   "metadata": {},
   "outputs": [
    {
     "data": {
      "text/plain": [
       "'Solving the given programming contest with a C++ solution.\\\\n\\\\n Problem Description\\\\nYou are given a square matrix \\\\\\\\\\\\\\\\(A\\\\\\\\\\\\\\\\) of size \\\\\\\\\\\\\\\\(n \\\\\\\\times n\\\\\\\\\\\\\\\\) whose elements are integers. We will denote the element on the intersection of the \\\\\\\\\\\\\\\\(i\\\\\\\\\\\\\\\\)-th row and the \\\\\\\\\\\\\\\\(j\\\\\\\\\\\\\\\\)-th column as \\\\\\\\\\\\\\\\(A_{i,j}\\\\\\\\\\\\\\\\).\\\\n\\\\nYou can perform operations on the matrix. In each operation, you can choose an integer \\\\\\\\\\\\\\\\(k\\\\\\\\\\\\\\\\), then for each index \\\\\\\\\\\\\\\\(i\\\\\\\\\\\\\\\\) (\\\\\\\\\\\\\\\\(1 \\\\\\\\leq i \\\\\\\\leq n\\\\\\\\\\\\\\\\)), swap \\\\\\\\\\\\\\\\(A_{i, k}\\\\\\\\\\\\\\\\) with \\\\\\\\\\\\\\\\(A_{k, i}\\\\\\\\\\\\\\\\). Note that cell \\\\\\\\\\\\\\\\(A_{k, k}\\\\\\\\\\\\\\\\) remains unchanged.\\\\n\\\\nFor example, for \\\\\\\\\\\\\\\\(n = 4\\\\\\\\\\\\\\\\) and \\\\\\\\\\\\\\\\(k = 3\\\\\\\\\\\\\\\\), this matrix will be transformed like this:\\\\n\\\\n\\\\\\\\begin{center}\\\\n  \\\\\\\\includegraphics[scale=0.6]{grid.png} \\\\\\\\\\\\\\\\\\\\n  \\\\\\\\small{The operation \\\\\\\\\\\\\\\\(k = 3\\\\\\\\\\\\\\\\) swaps the blue row with the green column.}\\\\n\\\\\\\\end{center}\\\\n\\\\nYou can perform this operation any number of times. Find the lexicographically smallest matrix\\\\\\\\\\\\\\\\(^\\\\\\\\dagger\\\\\\\\\\\\\\\\) you can obtain after performing arbitrary number of operations.\\\\n\\\\n\\\\\\\\\\\\\\\\({}^\\\\\\\\dagger\\\\\\\\\\\\\\\\) For two matrices \\\\\\\\\\\\\\\\(A\\\\\\\\\\\\\\\\) and \\\\\\\\\\\\\\\\(B\\\\\\\\\\\\\\\\) of size \\\\\\\\\\\\\\\\(n \\\\\\\\times n\\\\\\\\\\\\\\\\), let \\\\\\\\\\\\\\\\(a_{(i-1) \\\\\\\\cdot n + j} = A_{i,j}\\\\\\\\\\\\\\\\) and \\\\\\\\\\\\\\\\(b_{(i-1) \\\\\\\\cdot n + j} = B_{i,j}\\\\\\\\\\\\\\\\). Then, the matrix \\\\\\\\\\\\\\\\(A\\\\\\\\\\\\\\\\) is lexicographically smaller than the matrix \\\\\\\\\\\\\\\\(B\\\\\\\\\\\\\\\\) when there exists an index \\\\\\\\\\\\\\\\(i\\\\\\\\\\\\\\\\) (\\\\\\\\\\\\\\\\(1 \\\\\\\\leq i \\\\\\\\leq n^2\\\\\\\\\\\\\\\\)) such that \\\\\\\\\\\\\\\\(a_i < b_i\\\\\\\\\\\\\\\\) and for all indices \\\\\\\\\\\\\\\\(j\\\\\\\\\\\\\\\\) such that \\\\\\\\\\\\\\\\(1 \\\\\\\\leq j < i\\\\\\\\\\\\\\\\), \\\\\\\\\\\\\\\\(a_j = b_j\\\\\\\\\\\\\\\\).\\\\n\\\\n Input Format\\\\nThe first line contains a single integer \\\\\\\\\\\\\\\\(t\\\\\\\\\\\\\\\\) (\\\\\\\\\\\\\\\\(1 \\\\\\\\leq t \\\\\\\\leq 10^5\\\\\\\\\\\\\\\\)) --- the number of test cases.\\\\n\\\\nThe first line of each test case contains a single integer \\\\\\\\\\\\\\\\(n\\\\\\\\\\\\\\\\) (\\\\\\\\\\\\\\\\(1 \\\\\\\\leq n \\\\\\\\leq 1000\\\\\\\\\\\\\\\\)) --- the size of the matrix.\\\\n\\\\nThe \\\\\\\\\\\\\\\\(i\\\\\\\\\\\\\\\\)-th line of the next \\\\\\\\\\\\\\\\(n\\\\\\\\\\\\\\\\) lines contains \\\\\\\\\\\\\\\\(n\\\\\\\\\\\\\\\\) integers \\\\\\\\\\\\\\\\(A_{i, 1}, A_{i, 2}, \\\\\\\\dots, A_{i, n}\\\\\\\\\\\\\\\\) (\\\\\\\\\\\\\\\\(1 \\\\\\\\le A_{i, j} \\\\\\\\le 10^9\\\\\\\\\\\\\\\\)) --- description of the matrix \\\\\\\\\\\\\\\\(A\\\\\\\\\\\\\\\\).\\\\n\\\\nIt is guaranteed that the sum of \\\\\\\\\\\\\\\\(n^2\\\\\\\\\\\\\\\\) over all test cases does not exceed \\\\\\\\\\\\\\\\(10^6\\\\\\\\\\\\\\\\).\\\\n\\\\n\\\\n Output Format\\\\nFor each test case, print \\\\\\\\\\\\\\\\(n\\\\\\\\\\\\\\\\) lines with \\\\\\\\\\\\\\\\(n\\\\\\\\\\\\\\\\) integers each --- the lexicographically smallest matrix.\\\\n\\\\n Sample Input\\\\n2\\\\n3\\\\n2 1 2\\\\n2 1 2\\\\n1 1 2\\\\n4\\\\n3 3 1 2\\\\n1 1 3 1\\\\n3 2 3 2\\\\n2 3 3 1\\\\n\\\\n Sample Output\\\\n2 1 1\\\\n2 1 1\\\\n2 2 2\\\\n3 1 1 2\\\\n3 1 2 1\\\\n3 3 3 3\\\\n2 3 2 1\\\\n\\\\n\\\\n Notes\\\\nNote that in every picture below the matrix is transformed in such a way that the blue rows are swapped with the green columns.\\\\n\\\\nIn the first test case, we can perform \\\\\\\\\\\\\\\\(1\\\\\\\\\\\\\\\\) operation for \\\\\\\\\\\\\\\\(k = 3\\\\\\\\\\\\\\\\). The matrix will be transformed as below:\\\\n\\\\\\\\begin{center}\\\\n  \\\\\\\\includegraphics[scale=0.6]{ex1.png}\\\\n\\\\\\\\end{center}\\\\nIn the second test case, we can perform \\\\\\\\\\\\\\\\(2\\\\\\\\\\\\\\\\) operations for \\\\\\\\\\\\\\\\(k = 1\\\\\\\\\\\\\\\\) and \\\\\\\\\\\\\\\\(k = 3\\\\\\\\\\\\\\\\):\\\\n\\\\\\\\begin{center}\\\\n  \\\\\\\\includegraphics[scale=0.6]{ex2.png}\\\\n\\\\\\\\end{center}\\\\n\\\\\\\\begin{center}\\\\n  \\\\\\\\includegraphics[scale=0.6]{ex3.png}\\\\n\\\\\\\\end{center}\\\\n\\\\nYou are a C++ developer solving the above competitive\\\\nprogramming problem described above in detail.\\\\nYour final output must be a complete and self-contained\\\\nsolution written only in modern C++ (C++14 or later).\\\\nFollow these rules:\\\\nProvide the most efficient solution.\\\\nUse only C++ in both your reasoning and code.\\\\nDo not explain using other programming languages.\\\\nUse clear and expressive variable names.\\\\nInclude inline comments and/or a function-level\\\\ndescription to explain the logic.\\\\nEnsure the code is logically structured, clean, and\\\\nidiomatic for a C++ developer.\\\\nDo not output anything besides the final C++ solution.\\\\nThink and reason strictly as a C++ developer would.'"
      ]
     },
     "execution_count": 10,
     "metadata": {},
     "output_type": "execute_result"
    }
   ],
   "source": [
    "str(list(df_prompt_bs[0][\"user prompt\"])[0])"
   ]
  },
  {
   "cell_type": "code",
   "execution_count": 11,
   "id": "98740c90",
   "metadata": {},
   "outputs": [
    {
     "data": {
      "text/html": [
       "<div><style>\n",
       ".dataframe > thead > tr,\n",
       ".dataframe > tbody > tr {\n",
       "  text-align: right;\n",
       "  white-space: pre-wrap;\n",
       "}\n",
       "</style>\n",
       "<small>shape: (1, 27)</small><table border=\"1\" class=\"dataframe\"><thead><tr><th>task id</th><th>trainer id</th><th>model name</th><th>user prompt</th><th>system prompt</th><th>intervene_system_prompt</th><th>intervene prompt</th><th>ground_truth_answer</th><th>abandon_prompt</th><th>abandon_prompt_reason</th><th>abandon_prompt_explanation</th><th>initial_reasoning</th><th>response</th><th>final_answer</th><th>temperature</th><th>total_tokens</th><th>intervention rounds</th><th>CoT quality</th><th>Model performance classification</th><th>remarks</th><th>question_id</th><th>level</th><th>codeforces_submission_id</th><th>programming_language</th><th>ACC</th><th>total_latency (ms)</th><th>initial_response</th></tr><tr><td>str</td><td>i64</td><td>str</td><td>str</td><td>str</td><td>str</td><td>str</td><td>str</td><td>str</td><td>str</td><td>str</td><td>str</td><td>str</td><td>str</td><td>i64</td><td>i64</td><td>i64</td><td>str</td><td>str</td><td>str</td><td>str</td><td>str</td><td>str</td><td>str</td><td>str</td><td>i64</td><td>str</td></tr></thead><tbody><tr><td>&quot;69604&quot;</td><td>281</td><td>&quot;ep-20250531134931-xwct7&quot;</td><td>&quot;Solving the given programming …</td><td>&quot;You are an expert problem solv…</td><td>&quot;You are an expert problem solv…</td><td>&quot;You are an expert problem solv…</td><td>&quot;#include &lt;iostream&gt;\\n#include …</td><td>&quot;No&quot;</td><td>null</td><td>null</td><td>&quot;Got it, let&#x27;s start by correct…</td><td>&quot;Got it, let&#x27;s start by correct…</td><td>&quot;To solve this problem, we need…</td><td>1</td><td>1303</td><td>11</td><td>&quot;Good&quot;</td><td>&quot;Model response is incorrect bu…</td><td>&quot;{&#x27;remarks&#x27;: [{&#x27;intervene_index…</td><td>&quot;Codeforces/1713E&quot;</td><td>null</td><td>&quot;325591640&quot;</td><td>&quot;C++&quot;</td><td>&quot;0.0&quot;</td><td>-1</td><td>null</td></tr></tbody></table></div>"
      ],
      "text/plain": [
       "shape: (1, 27)\n",
       "┌─────────┬────────────┬─────────────┬────────────┬───┬────────────┬─────┬────────────┬────────────┐\n",
       "│ task id ┆ trainer id ┆ model name  ┆ user       ┆ … ┆ programmin ┆ ACC ┆ total_late ┆ initial_re │\n",
       "│ ---     ┆ ---        ┆ ---         ┆ prompt     ┆   ┆ g_language ┆ --- ┆ ncy (ms)   ┆ sponse     │\n",
       "│ str     ┆ i64        ┆ str         ┆ ---        ┆   ┆ ---        ┆ str ┆ ---        ┆ ---        │\n",
       "│         ┆            ┆             ┆ str        ┆   ┆ str        ┆     ┆ i64        ┆ str        │\n",
       "╞═════════╪════════════╪═════════════╪════════════╪═══╪════════════╪═════╪════════════╪════════════╡\n",
       "│ 69604   ┆ 281        ┆ ep-20250531 ┆ Solving    ┆ … ┆ C++        ┆ 0.0 ┆ -1         ┆ null       │\n",
       "│         ┆            ┆ 134931-xwct ┆ the given  ┆   ┆            ┆     ┆            ┆            │\n",
       "│         ┆            ┆ 7           ┆ programmin ┆   ┆            ┆     ┆            ┆            │\n",
       "│         ┆            ┆             ┆ g …        ┆   ┆            ┆     ┆            ┆            │\n",
       "└─────────┴────────────┴─────────────┴────────────┴───┴────────────┴─────┴────────────┴────────────┘"
      ]
     },
     "execution_count": 11,
     "metadata": {},
     "output_type": "execute_result"
    }
   ],
   "source": [
    "df_prompt_bs[0]"
   ]
  },
  {
   "cell_type": "code",
   "execution_count": null,
   "id": "ff021af8",
   "metadata": {},
   "outputs": [],
   "source": [
    "df_prompt_bs.write_ndjson(\"data/prompt_backslash.ndjson\")"
   ]
  },
  {
   "cell_type": "code",
   "execution_count": 35,
   "id": "5895844b",
   "metadata": {},
   "outputs": [
    {
     "data": {
      "text/plain": [
       "'\\\\\\\\\\\\\\\\\\\\\\\\\\\\\\\\\\\\\\\\\\\\\\\\\\\\\\\\\\\\\\\\'"
      ]
     },
     "execution_count": 35,
     "metadata": {},
     "output_type": "execute_result"
    }
   ],
   "source": [
    "\"\".join([r\"\\\\\"] * 8)"
   ]
  },
  {
   "cell_type": "code",
   "execution_count": 37,
   "id": "29b0fd34",
   "metadata": {},
   "outputs": [
    {
     "data": {
      "text/html": [
       "<div><style>\n",
       ".dataframe > thead > tr,\n",
       ".dataframe > tbody > tr {\n",
       "  text-align: right;\n",
       "  white-space: pre-wrap;\n",
       "}\n",
       "</style>\n",
       "<small>shape: (1_336, 27)</small><table border=\"1\" class=\"dataframe\"><thead><tr><th>task id</th><th>trainer id</th><th>model name</th><th>user prompt</th><th>system prompt</th><th>intervene_system_prompt</th><th>intervene prompt</th><th>ground_truth_answer</th><th>abandon_prompt</th><th>abandon_prompt_reason</th><th>abandon_prompt_explanation</th><th>initial_reasoning</th><th>response</th><th>final_answer</th><th>temperature</th><th>total_tokens</th><th>intervention rounds</th><th>CoT quality</th><th>Model performance classification</th><th>remarks</th><th>question_id</th><th>level</th><th>codeforces_submission_id</th><th>programming_language</th><th>ACC</th><th>total_latency (ms)</th><th>initial_response</th></tr><tr><td>str</td><td>i64</td><td>str</td><td>str</td><td>str</td><td>str</td><td>str</td><td>str</td><td>str</td><td>str</td><td>str</td><td>str</td><td>str</td><td>str</td><td>i64</td><td>i64</td><td>i64</td><td>str</td><td>str</td><td>str</td><td>str</td><td>str</td><td>str</td><td>str</td><td>str</td><td>i64</td><td>str</td></tr></thead><tbody><tr><td>&quot;69604&quot;</td><td>281</td><td>&quot;ep-20250531134931-xwct7&quot;</td><td>&quot;Solving the given programming …</td><td>&quot;You are an expert problem solv…</td><td>&quot;You are an expert problem solv…</td><td>&quot;You are an expert problem solv…</td><td>&quot;#include &lt;iostream&gt;\\n#include …</td><td>&quot;No&quot;</td><td>null</td><td>null</td><td>&quot;Got it, let&#x27;s start by correct…</td><td>&quot;Got it, let&#x27;s start by correct…</td><td>&quot;To solve this problem, we need…</td><td>1</td><td>1303</td><td>11</td><td>&quot;Good&quot;</td><td>&quot;Model response is incorrect bu…</td><td>&quot;{&#x27;remarks&#x27;: [{&#x27;intervene_index…</td><td>&quot;Codeforces/1713E&quot;</td><td>null</td><td>&quot;325591640&quot;</td><td>&quot;C++&quot;</td><td>&quot;0.0&quot;</td><td>-1</td><td>null</td></tr><tr><td>&quot;69773&quot;</td><td>518</td><td>&quot;ep-20250531134931-xwct7&quot;</td><td>&quot;Solving the given programming …</td><td>&quot;You are an expert problem solv…</td><td>&quot;You are an expert problem solv…</td><td>&quot;You are an expert problem solv…</td><td>&quot;None&quot;</td><td>&quot;No&quot;</td><td>null</td><td>null</td><td>&quot;\\\\nGot it, let&#x27;s try to solve …</td><td>&quot;Got it, let&#x27;s try to solve thi…</td><td>&quot;To solve this problem, we need…</td><td>1</td><td>1003</td><td>8</td><td>&quot;Minor Flaws&quot;</td><td>&quot;Model response is incorrect bu…</td><td>&quot;{&#x27;remarks&#x27;: [{&#x27;intervene_index…</td><td>&quot;Codeforces/1852C&quot;</td><td>&quot;0.0&quot;</td><td>&quot;325293803&quot;</td><td>&quot;C++&quot;</td><td>&quot;0.0&quot;</td><td>-1</td><td>null</td></tr><tr><td>&quot;55665&quot;</td><td>160</td><td>&quot;ep-20250418145052-bss5p&quot;</td><td>&quot;Solving the given programming …</td><td>&quot;You are an expert problem solv…</td><td>&quot;You are an expert problem solv…</td><td>&quot;None&quot;</td><td>&quot;None&quot;</td><td>&quot;No&quot;</td><td>null</td><td>null</td><td>&quot;Okay, let&#x27;s tackle this proble…</td><td>&quot;Okay, let&#x27;s tackle this proble…</td><td>&quot;To solve this problem, we need…</td><td>1</td><td>585</td><td>0</td><td>&quot;Good&quot;</td><td>&quot;Model response is correct with…</td><td>&quot;{&#x27;remarks&#x27;: []}&quot;</td><td>&quot;Codeforces/1374C&quot;</td><td>null</td><td>&quot;324071406&quot;</td><td>&quot;C++&quot;</td><td>&quot;0.0625&quot;</td><td>117053</td><td>null</td></tr><tr><td>&quot;55709&quot;</td><td>400</td><td>&quot;ep-20250531134931-xwct7&quot;</td><td>&quot;For a connected undirected wei…</td><td>&quot;You are an expert problem solv…</td><td>&quot;You are an expert problem solv…</td><td>&quot;You are an expert problem solv…</td><td>&quot;None&quot;</td><td>&quot;No&quot;</td><td>null</td><td>null</td><td>&quot;Um, let&#x27;s tackle this problem.…</td><td>&quot;Um, let&#x27;s tackle this problem.…</td><td>&quot;To address the efficiency and …</td><td>1</td><td>2091</td><td>13</td><td>&quot;Minor Flaws&quot;</td><td>&quot;Model response is incorrect bu…</td><td>&quot;{&#x27;remarks&#x27;: [{&#x27;intervene_index…</td><td>&quot;CF891C&quot;</td><td>&quot;6.0&quot;</td><td>&quot;324010622&quot;</td><td>&quot;C++&quot;</td><td>null</td><td>3527315</td><td>null</td></tr><tr><td>&quot;59839&quot;</td><td>396</td><td>&quot;ep-20250531134931-xwct7&quot;</td><td>&quot;Solving the given programming …</td><td>&quot;You are an expert problem solv…</td><td>&quot;You are an expert problem solv…</td><td>&quot;You are an expert problem solv…</td><td>&quot;```cpp\\n#include &lt;bits/stdc++.…</td><td>&quot;Yes&quot;</td><td>&quot;Exceeded local intervention co…</td><td>null</td><td>&quot;Okay, let&#x27;s try to figure out …</td><td>&quot;Okay, let&#x27;s try to figure out …</td><td>&quot;To solve this problem, we need…</td><td>1</td><td>584</td><td>6</td><td>&quot;Faulty&quot;</td><td>&quot;Model response is incorrect an…</td><td>&quot;{&#x27;remarks&#x27;: [{&#x27;intervene_index…</td><td>&quot;Codeforces/1043C&quot;</td><td>null</td><td>&quot;323860347&quot;</td><td>&quot;C++&quot;</td><td>&quot;0.0625&quot;</td><td>2230954</td><td>null</td></tr><tr><td>&hellip;</td><td>&hellip;</td><td>&hellip;</td><td>&hellip;</td><td>&hellip;</td><td>&hellip;</td><td>&hellip;</td><td>&hellip;</td><td>&hellip;</td><td>&hellip;</td><td>&hellip;</td><td>&hellip;</td><td>&hellip;</td><td>&hellip;</td><td>&hellip;</td><td>&hellip;</td><td>&hellip;</td><td>&hellip;</td><td>&hellip;</td><td>&hellip;</td><td>&hellip;</td><td>&hellip;</td><td>&hellip;</td><td>&hellip;</td><td>&hellip;</td><td>&hellip;</td><td>&hellip;</td></tr><tr><td>&quot;60181&quot;</td><td>null</td><td>&quot;ep-20250418145052-bss5p&quot;</td><td>&quot;Solving the given programming …</td><td>&quot;You are an expert problem solv…</td><td>&quot;You are an expert problem solv…</td><td>&quot;You are an expert problem solv…</td><td>null</td><td>&quot;No&quot;</td><td>null</td><td>null</td><td>null</td><td>&quot;&lt;abandon&gt;Okay, let&#x27;s tackle th…</td><td>&quot;To solve this problem, we need…</td><td>1</td><td>675</td><td>6</td><td>&quot;Good&quot;</td><td>&quot;Model response is incorrect bu…</td><td>&quot;{&#x27;remarks&#x27;: [{&#x27;intervene_index…</td><td>&quot;Codeforces/1616B&quot;</td><td>&quot;none&quot;</td><td>&quot;320743183&quot;</td><td>&quot;C++&quot;</td><td>&quot;0.125&quot;</td><td>7504410</td><td>null</td></tr><tr><td>&quot;60197&quot;</td><td>null</td><td>&quot;ep-20250418145052-bss5p&quot;</td><td>&quot;Solving the given programming …</td><td>&quot;You are an expert problem solv…</td><td>&quot;You are an expert problem solv…</td><td>null</td><td>null</td><td>&quot;No&quot;</td><td>null</td><td>null</td><td>null</td><td>&quot;Okay, let&#x27;s try to figure out …</td><td>&quot;To solve this problem, we need…</td><td>1</td><td>631</td><td>0</td><td>&quot;Good&quot;</td><td>&quot;Model response is correct with…</td><td>&quot;{&#x27;remarks&#x27;: []}&quot;</td><td>&quot;Codeforces/399B&quot;</td><td>&quot;none&quot;</td><td>&quot;320788642&quot;</td><td>&quot;C++&quot;</td><td>&quot;0.0&quot;</td><td>162953</td><td>null</td></tr><tr><td>&quot;60218&quot;</td><td>null</td><td>&quot;ep-20250418145052-bss5p&quot;</td><td>&quot;Baby Ehab has a piece of Cut a…</td><td>&quot;You are an expert problem solv…</td><td>&quot;You are an expert problem solv…</td><td>null</td><td>&quot;```cpp\\n\\n#include &lt;bits/stdc+…</td><td>&quot;No&quot;</td><td>null</td><td>null</td><td>null</td><td>&quot;Okay, let&#x27;s try to figure out …</td><td>&quot;To solve this problem, we need…</td><td>1</td><td>1319</td><td>0</td><td>&quot;Good&quot;</td><td>&quot;Model response is correct with…</td><td>&quot;{&#x27;remarks&#x27;: []}&quot;</td><td>&quot;Codeforces/1514D&quot;</td><td>&quot;none&quot;</td><td>&quot;320833280&quot;</td><td>&quot;C++&quot;</td><td>&quot;0.0625&quot;</td><td>841841</td><td>null</td></tr><tr><td>&quot;60234&quot;</td><td>null</td><td>&quot;ep-20250418145052-bss5p&quot;</td><td>&quot;Solving the given programming …</td><td>&quot;You are an expert problem solv…</td><td>&quot;You are an expert problem solv…</td><td>null</td><td>null</td><td>&quot;No&quot;</td><td>null</td><td>null</td><td>null</td><td>&quot;Okay, let&#x27;s tackle this proble…</td><td>&quot;To solve this problem, we need…</td><td>1</td><td>647</td><td>0</td><td>&quot;Good&quot;</td><td>&quot;Model response is correct with…</td><td>&quot;{&#x27;remarks&#x27;: []}&quot;</td><td>&quot;Codeforces/805A&quot;</td><td>&quot;none&quot;</td><td>&quot;320941084&quot;</td><td>&quot;C++&quot;</td><td>&quot;0.0&quot;</td><td>216597</td><td>null</td></tr><tr><td>&quot;60239&quot;</td><td>null</td><td>&quot;ep-20250418145052-bss5p&quot;</td><td>&quot;Solving the given programming …</td><td>&quot;You are an expert problem solv…</td><td>&quot;You are an expert problem solv…</td><td>&quot;You are an expert problem solv…</td><td>null</td><td>&quot;No&quot;</td><td>null</td><td>null</td><td>null</td><td>&quot;Okay, let&#x27;s tackle this proble…</td><td>&quot;To solve this problem, we need…</td><td>1</td><td>734</td><td>1</td><td>&quot;Good&quot;</td><td>&quot;Model response is incorrect bu…</td><td>&quot;{&#x27;remarks&#x27;: [{&#x27;intervene_index…</td><td>&quot;Codeforces/1742C&quot;</td><td>&quot;none&quot;</td><td>&quot;320846805&quot;</td><td>&quot;C++&quot;</td><td>&quot;0.125&quot;</td><td>266119</td><td>null</td></tr></tbody></table></div>"
      ],
      "text/plain": [
       "shape: (1_336, 27)\n",
       "┌─────────┬────────────┬────────────┬────────────┬───┬────────────┬────────┬───────────┬───────────┐\n",
       "│ task id ┆ trainer id ┆ model name ┆ user       ┆ … ┆ programmin ┆ ACC    ┆ total_lat ┆ initial_r │\n",
       "│ ---     ┆ ---        ┆ ---        ┆ prompt     ┆   ┆ g_language ┆ ---    ┆ ency (ms) ┆ esponse   │\n",
       "│ str     ┆ i64        ┆ str        ┆ ---        ┆   ┆ ---        ┆ str    ┆ ---       ┆ ---       │\n",
       "│         ┆            ┆            ┆ str        ┆   ┆ str        ┆        ┆ i64       ┆ str       │\n",
       "╞═════════╪════════════╪════════════╪════════════╪═══╪════════════╪════════╪═══════════╪═══════════╡\n",
       "│ 69604   ┆ 281        ┆ ep-2025053 ┆ Solving    ┆ … ┆ C++        ┆ 0.0    ┆ -1        ┆ null      │\n",
       "│         ┆            ┆ 1134931-xw ┆ the given  ┆   ┆            ┆        ┆           ┆           │\n",
       "│         ┆            ┆ ct7        ┆ programmin ┆   ┆            ┆        ┆           ┆           │\n",
       "│         ┆            ┆            ┆ g …        ┆   ┆            ┆        ┆           ┆           │\n",
       "│ 69773   ┆ 518        ┆ ep-2025053 ┆ Solving    ┆ … ┆ C++        ┆ 0.0    ┆ -1        ┆ null      │\n",
       "│         ┆            ┆ 1134931-xw ┆ the given  ┆   ┆            ┆        ┆           ┆           │\n",
       "│         ┆            ┆ ct7        ┆ programmin ┆   ┆            ┆        ┆           ┆           │\n",
       "│         ┆            ┆            ┆ g …        ┆   ┆            ┆        ┆           ┆           │\n",
       "│ 55665   ┆ 160        ┆ ep-2025041 ┆ Solving    ┆ … ┆ C++        ┆ 0.0625 ┆ 117053    ┆ null      │\n",
       "│         ┆            ┆ 8145052-bs ┆ the given  ┆   ┆            ┆        ┆           ┆           │\n",
       "│         ┆            ┆ s5p        ┆ programmin ┆   ┆            ┆        ┆           ┆           │\n",
       "│         ┆            ┆            ┆ g …        ┆   ┆            ┆        ┆           ┆           │\n",
       "│ 55709   ┆ 400        ┆ ep-2025053 ┆ For a      ┆ … ┆ C++        ┆ null   ┆ 3527315   ┆ null      │\n",
       "│         ┆            ┆ 1134931-xw ┆ connected  ┆   ┆            ┆        ┆           ┆           │\n",
       "│         ┆            ┆ ct7        ┆ undirected ┆   ┆            ┆        ┆           ┆           │\n",
       "│         ┆            ┆            ┆ wei…       ┆   ┆            ┆        ┆           ┆           │\n",
       "│ 59839   ┆ 396        ┆ ep-2025053 ┆ Solving    ┆ … ┆ C++        ┆ 0.0625 ┆ 2230954   ┆ null      │\n",
       "│         ┆            ┆ 1134931-xw ┆ the given  ┆   ┆            ┆        ┆           ┆           │\n",
       "│         ┆            ┆ ct7        ┆ programmin ┆   ┆            ┆        ┆           ┆           │\n",
       "│         ┆            ┆            ┆ g …        ┆   ┆            ┆        ┆           ┆           │\n",
       "│ …       ┆ …          ┆ …          ┆ …          ┆ … ┆ …          ┆ …      ┆ …         ┆ …         │\n",
       "│ 60181   ┆ null       ┆ ep-2025041 ┆ Solving    ┆ … ┆ C++        ┆ 0.125  ┆ 7504410   ┆ null      │\n",
       "│         ┆            ┆ 8145052-bs ┆ the given  ┆   ┆            ┆        ┆           ┆           │\n",
       "│         ┆            ┆ s5p        ┆ programmin ┆   ┆            ┆        ┆           ┆           │\n",
       "│         ┆            ┆            ┆ g …        ┆   ┆            ┆        ┆           ┆           │\n",
       "│ 60197   ┆ null       ┆ ep-2025041 ┆ Solving    ┆ … ┆ C++        ┆ 0.0    ┆ 162953    ┆ null      │\n",
       "│         ┆            ┆ 8145052-bs ┆ the given  ┆   ┆            ┆        ┆           ┆           │\n",
       "│         ┆            ┆ s5p        ┆ programmin ┆   ┆            ┆        ┆           ┆           │\n",
       "│         ┆            ┆            ┆ g …        ┆   ┆            ┆        ┆           ┆           │\n",
       "│ 60218   ┆ null       ┆ ep-2025041 ┆ Baby Ehab  ┆ … ┆ C++        ┆ 0.0625 ┆ 841841    ┆ null      │\n",
       "│         ┆            ┆ 8145052-bs ┆ has a      ┆   ┆            ┆        ┆           ┆           │\n",
       "│         ┆            ┆ s5p        ┆ piece of   ┆   ┆            ┆        ┆           ┆           │\n",
       "│         ┆            ┆            ┆ Cut a…     ┆   ┆            ┆        ┆           ┆           │\n",
       "│ 60234   ┆ null       ┆ ep-2025041 ┆ Solving    ┆ … ┆ C++        ┆ 0.0    ┆ 216597    ┆ null      │\n",
       "│         ┆            ┆ 8145052-bs ┆ the given  ┆   ┆            ┆        ┆           ┆           │\n",
       "│         ┆            ┆ s5p        ┆ programmin ┆   ┆            ┆        ┆           ┆           │\n",
       "│         ┆            ┆            ┆ g …        ┆   ┆            ┆        ┆           ┆           │\n",
       "│ 60239   ┆ null       ┆ ep-2025041 ┆ Solving    ┆ … ┆ C++        ┆ 0.125  ┆ 266119    ┆ null      │\n",
       "│         ┆            ┆ 8145052-bs ┆ the given  ┆   ┆            ┆        ┆           ┆           │\n",
       "│         ┆            ┆ s5p        ┆ programmin ┆   ┆            ┆        ┆           ┆           │\n",
       "│         ┆            ┆            ┆ g …        ┆   ┆            ┆        ┆           ┆           │\n",
       "└─────────┴────────────┴────────────┴────────────┴───┴────────────┴────────┴───────────┴───────────┘"
      ]
     },
     "execution_count": 37,
     "metadata": {},
     "output_type": "execute_result"
    }
   ],
   "source": [
    "df_backslash_large = df_all.filter(pl.col(\"user prompt\").str.contains(\"\".join([r\"\\\\\"] * 4)))\n",
    "df_backslash_large"
   ]
  },
  {
   "cell_type": "code",
   "execution_count": 58,
   "id": "e8590fb1",
   "metadata": {},
   "outputs": [],
   "source": [
    "df_backslash_large.write_ndjson(\"data/backslash_large.jsonl\")"
   ]
  }
 ],
 "metadata": {
  "kernelspec": {
   "display_name": ".venv",
   "language": "python",
   "name": "python3"
  },
  "language_info": {
   "codemirror_mode": {
    "name": "ipython",
    "version": 3
   },
   "file_extension": ".py",
   "mimetype": "text/x-python",
   "name": "python",
   "nbconvert_exporter": "python",
   "pygments_lexer": "ipython3",
   "version": "3.10.17"
  }
 },
 "nbformat": 4,
 "nbformat_minor": 5
}
