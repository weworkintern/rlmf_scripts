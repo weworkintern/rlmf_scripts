{
 "cells": [
  {
   "cell_type": "code",
   "execution_count": 1,
   "metadata": {},
   "outputs": [
    {
     "name": "stdout",
     "output_type": "stream",
     "text": [
      "24\n",
      "15\n"
     ]
    }
   ],
   "source": [
    "import json\n",
    "\n",
    "f1 = \"data/ABAB/Taxonomy RLMF 24062025_23_V1_39_1.json\"\n",
    "f2 = \"data/ABAB/Taxonomy RLMF 24062025_23_V1_39_2.json\"\n",
    "\n",
    "with open(f1, 'r') as f:\n",
    "    data1 = json.load(f)\n",
    "\n",
    "with open(f2, 'r') as f:\n",
    "    data2 = json.load(f)\n",
    "\n",
    "print(len(data1))\n",
    "print(len(data2))"
   ]
  },
  {
   "cell_type": "code",
   "execution_count": 2,
   "metadata": {},
   "outputs": [],
   "source": [
    "data3 = data1 + data2"
   ]
  },
  {
   "cell_type": "code",
   "execution_count": 5,
   "metadata": {},
   "outputs": [],
   "source": [
    "import json\n",
    "\n",
    "f3 = \"data/ABAB/RLMF 23062025_23_V1_39.json\"\n",
    "\n",
    "with open(f3, 'w') as f:\n",
    "    json.dump(data3, f)"
   ]
  },
  {
   "cell_type": "code",
   "execution_count": null,
   "metadata": {},
   "outputs": [],
   "source": []
  }
 ],
 "metadata": {
  "kernelspec": {
   "display_name": ".venv",
   "language": "python",
   "name": "python3"
  },
  "language_info": {
   "codemirror_mode": {
    "name": "ipython",
    "version": 3
   },
   "file_extension": ".py",
   "mimetype": "text/x-python",
   "name": "python",
   "nbconvert_exporter": "python",
   "pygments_lexer": "ipython3",
   "version": "3.10.17"
  }
 },
 "nbformat": 4,
 "nbformat_minor": 2
}
