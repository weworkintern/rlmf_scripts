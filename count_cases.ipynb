{
 "cells": [
  {
   "cell_type": "code",
   "execution_count": 21,
   "metadata": {},
   "outputs": [
    {
     "data": {
      "text/html": [
       "<div><style>\n",
       ".dataframe > thead > tr,\n",
       ".dataframe > tbody > tr {\n",
       "  text-align: right;\n",
       "  white-space: pre-wrap;\n",
       "}\n",
       "</style>\n",
       "<small>shape: (1_733, 28)</small><table border=\"1\" class=\"dataframe\"><thead><tr><th>task id</th><th>total_latency (ms)</th><th>trainer id</th><th>model name</th><th>user prompt</th><th>system prompt</th><th>intervene_system_prompt</th><th>intervene prompt</th><th>ground_truth_answer</th><th>abandon_prompt</th><th>abandon_prompt_reason</th><th>response</th><th>final_answer</th><th>temperature</th><th>total_tokens</th><th>intervention rounds</th><th>CoT quality</th><th>Model performance classification</th><th>remarks</th><th>level</th><th>codeforces_submission_id</th><th>programming_language</th><th>ACC</th><th>question_id</th><th>initial_response</th><th>initial_reasoning</th><th>abandon_prompt_explanation</th><th>human_reasoning</th></tr><tr><td>str</td><td>i64</td><td>i64</td><td>str</td><td>str</td><td>str</td><td>str</td><td>str</td><td>str</td><td>str</td><td>str</td><td>str</td><td>str</td><td>i64</td><td>i64</td><td>i64</td><td>str</td><td>str</td><td>str</td><td>str</td><td>str</td><td>str</td><td>str</td><td>str</td><td>str</td><td>str</td><td>str</td><td>str</td></tr></thead><tbody><tr><td>&quot;55369&quot;</td><td>2678526</td><td>394</td><td>&quot;ep-20250418145052-bss5p&quot;</td><td>&quot;Solving the given programming …</td><td>&quot;You are an expert problem solv…</td><td>&quot;You are an expert problem solv…</td><td>&quot;You are an expert problem solv…</td><td>null</td><td>&quot;No&quot;</td><td>null</td><td>&quot;Okay, let&#x27;s try to figure out …</td><td>&quot;To solve this problem, we need…</td><td>1</td><td>577</td><td>12</td><td>&quot;Minor Flaws&quot;</td><td>&quot;Model response is incorrect bu…</td><td>&quot;{&#x27;remarks&#x27;: [{&#x27;intervene_index…</td><td>&quot;none&quot;</td><td>&quot;321641028&quot;</td><td>&quot;C++&quot;</td><td>&quot;0.0&quot;</td><td>&quot;Codeforces/55C&quot;</td><td>&quot;To solve this problem, we need…</td><td>null</td><td>null</td><td>null</td></tr><tr><td>&quot;55455&quot;</td><td>985507</td><td>72</td><td>&quot;ep-20250418145052-bss5p&quot;</td><td>&quot;Solving the given programming …</td><td>&quot;You are an expert problem solv…</td><td>&quot;You are an expert problem solv…</td><td>null</td><td>null</td><td>&quot;No&quot;</td><td>null</td><td>&quot;Okay, let&#x27;s try to figure out …</td><td>&quot;To solve this problem, we need…</td><td>1</td><td>1151</td><td>0</td><td>&quot;Good&quot;</td><td>&quot;Model response is correct with…</td><td>&quot;{&#x27;remarks&#x27;: []}&quot;</td><td>&quot;none&quot;</td><td>&quot;321914213&quot;</td><td>&quot;C++&quot;</td><td>&quot;0.25&quot;</td><td>&quot;Codeforces/301B&quot;</td><td>&quot;To solve this problem, we need…</td><td>null</td><td>null</td><td>null</td></tr><tr><td>&quot;55460&quot;</td><td>1218643</td><td>72</td><td>&quot;ep-20250312111804-p4w5h&quot;</td><td>&quot;There is a programming languag…</td><td>&quot;You are an expert problem solv…</td><td>&quot;You are an expert problem solv…</td><td>&quot;You are an expert problem solv…</td><td>&quot;#include&lt;bits/stdc++.h&gt;\\nusing…</td><td>&quot;Yes&quot;</td><td>&quot;Exceeded local intervention co…</td><td>&quot;Um, let&#x27;s try to understand th…</td><td>&quot;To solve this problem, we need…</td><td>1</td><td>1094</td><td>12</td><td>&quot;Faulty&quot;</td><td>&quot;Model response is incorrect an…</td><td>&quot;{&#x27;remarks&#x27;: [{&#x27;intervene_index…</td><td>&quot;6.0&quot;</td><td>&quot;321702415&quot;</td><td>&quot;C++&quot;</td><td>&quot;none&quot;</td><td>&quot;CF238D&quot;</td><td>&quot;To solve this problem, we need…</td><td>null</td><td>null</td><td>null</td></tr><tr><td>&quot;55523&quot;</td><td>4798862</td><td>246</td><td>&quot;ep-20250418145052-bss5p&quot;</td><td>&quot;Solving the given programming …</td><td>&quot;You are an expert problem solv…</td><td>&quot;You are an expert problem solv…</td><td>&quot;You are an expert problem solv…</td><td>&quot;```cpp\\n#include &lt;bits/stdc++.…</td><td>&quot;Yes&quot;</td><td>&quot;Exceeded global intervention c…</td><td>&quot;Okay, let&#x27;s try to solve this …</td><td>&quot;To solve this problem, we need…</td><td>1</td><td>881</td><td>15</td><td>&quot;Faulty&quot;</td><td>&quot;Model response is incorrect an…</td><td>&quot;{&#x27;remarks&#x27;: [{&#x27;intervene_index…</td><td>&quot;none&quot;</td><td>&quot;321641737&quot;</td><td>&quot;C++&quot;</td><td>&quot;0.0&quot;</td><td>&quot;Codeforces/1686B&quot;</td><td>&quot;To solve this problem, we need…</td><td>null</td><td>null</td><td>null</td></tr><tr><td>&quot;55524&quot;</td><td>1506328</td><td>170</td><td>&quot;ep-20250312111804-p4w5h&quot;</td><td>&quot;You have a string \\\\\\\\( s \\\\\\\\…</td><td>&quot;You are an expert problem solv…</td><td>&quot;You are an expert problem solv…</td><td>&quot;You are an expert problem solv…</td><td>&quot;#include &lt;bits/stdc++.h&gt;\\nusin…</td><td>&quot;No&quot;</td><td>null</td><td>&quot;Certainly! Here&#x27;s the informat…</td><td>&quot;To solve this problem, we need…</td><td>1</td><td>912</td><td>2</td><td>&quot;Good&quot;</td><td>&quot;Model response is incorrect bu…</td><td>&quot;{&#x27;remarks&#x27;: [{&#x27;intervene_index…</td><td>&quot;3.0&quot;</td><td>&quot;320334950&quot;</td><td>&quot;C++&quot;</td><td>&quot;none&quot;</td><td>&quot;CF1624D&quot;</td><td>&quot;To solve this problem, we need…</td><td>null</td><td>null</td><td>null</td></tr><tr><td>&hellip;</td><td>&hellip;</td><td>&hellip;</td><td>&hellip;</td><td>&hellip;</td><td>&hellip;</td><td>&hellip;</td><td>&hellip;</td><td>&hellip;</td><td>&hellip;</td><td>&hellip;</td><td>&hellip;</td><td>&hellip;</td><td>&hellip;</td><td>&hellip;</td><td>&hellip;</td><td>&hellip;</td><td>&hellip;</td><td>&hellip;</td><td>&hellip;</td><td>&hellip;</td><td>&hellip;</td><td>&hellip;</td><td>&hellip;</td><td>&hellip;</td><td>&hellip;</td><td>&hellip;</td><td>&hellip;</td></tr><tr><td>&quot;70561&quot;</td><td>-1</td><td>550</td><td>&quot;ep-20250531134931-xwct7&quot;</td><td>&quot;Solving the given programming …</td><td>&quot;You are an expert problem solv…</td><td>&quot;You are an expert problem solv…</td><td>&quot;You are an expert problem solv…</td><td>null</td><td>&quot;No&quot;</td><td>null</td><td>&quot;Got it, let&#x27;s try to solve thi…</td><td>&quot;To solve this problem, we need…</td><td>1</td><td>883</td><td>5</td><td>&quot;Good&quot;</td><td>&quot;Model response is incorrect bu…</td><td>&quot;{&#x27;remarks&#x27;: [{&#x27;intervene_index…</td><td>null</td><td>&quot;328439691&quot;</td><td>&quot;C++&quot;</td><td>&quot;0.0625&quot;</td><td>&quot;Codeforces/1861D&quot;</td><td>null</td><td>&quot;Got it, let&#x27;s try to solve thi…</td><td>null</td><td>null</td></tr><tr><td>&quot;70569&quot;</td><td>-1</td><td>413</td><td>&quot;ep-20250531134931-xwct7&quot;</td><td>&quot;Mr. Kitayuta&#x27;s garden is plant…</td><td>&quot;You are an expert problem solv…</td><td>&quot;You are an expert problem solv…</td><td>&quot;You are an expert problem solv…</td><td>null</td><td>&quot;No&quot;</td><td>null</td><td>&quot;Got it, let&#x27;s try to solve thi…</td><td>&quot;To solve this problem, we need…</td><td>1</td><td>1021</td><td>13</td><td>&quot;Good&quot;</td><td>&quot;Model response is incorrect bu…</td><td>&quot;{&#x27;remarks&#x27;: [{&#x27;intervene_index…</td><td>&quot;0&quot;</td><td>&quot;327224969&quot;</td><td>&quot;C++&quot;</td><td>&quot;0.0&quot;</td><td>&quot;Codeforces/505E&quot;</td><td>null</td><td>&quot;Got it, let&#x27;s try to solve thi…</td><td>null</td><td>null</td></tr><tr><td>&quot;70650&quot;</td><td>-1</td><td>413</td><td>&quot;ep-20250531134931-xwct7&quot;</td><td>&quot;Problem Description\n",
       "\\t{zscoder…</td><td>&quot;You are an expert problem solv…</td><td>&quot;You are an expert problem solv…</td><td>null</td><td>null</td><td>&quot;No&quot;</td><td>null</td><td>&quot;Got it, let&#x27;s try to solve thi…</td><td>&quot;To solve this problem, we need…</td><td>1</td><td>840</td><td>0</td><td>&quot;Good&quot;</td><td>&quot;Model response is correct with…</td><td>&quot;{&#x27;remarks&#x27;: []}&quot;</td><td>null</td><td>&quot;327246788&quot;</td><td>&quot;C++&quot;</td><td>&quot;0.0&quot;</td><td>&quot;Codeforces/1392H&quot;</td><td>null</td><td>&quot;Got it, let&#x27;s try to solve thi…</td><td>null</td><td>null</td></tr><tr><td>&quot;70655&quot;</td><td>-1</td><td>413</td><td>&quot;ep-20250531134931-xwct7&quot;</td><td>&quot;Problem Description\n",
       "Toad Mikha…</td><td>&quot;You are an expert problem solv…</td><td>&quot;You are an expert problem solv…</td><td>&quot;You are an expert problem solv…</td><td>null</td><td>&quot;No&quot;</td><td>null</td><td>&quot;Got it, let&#x27;s try to solve thi…</td><td>&quot;To solve this problem, we need…</td><td>1</td><td>1083</td><td>7</td><td>&quot;Minor Flaws&quot;</td><td>&quot;Model response is incorrect bu…</td><td>&quot;{&#x27;remarks&#x27;: [{&#x27;intervene_index…</td><td>null</td><td>&quot;327926978&quot;</td><td>&quot;C++&quot;</td><td>&quot;0.0&quot;</td><td>&quot;Codeforces/1168E&quot;</td><td>null</td><td>&quot;Got it, let&#x27;s try to solve thi…</td><td>null</td><td>null</td></tr><tr><td>&quot;70661&quot;</td><td>-1</td><td>413</td><td>&quot;ep-20250531134931-xwct7&quot;</td><td>&quot;Today Pari gave Arya a cool gr…</td><td>&quot;You are an expert problem solv…</td><td>&quot;You are an expert problem solv…</td><td>&quot;You are an expert problem solv…</td><td>null</td><td>&quot;No&quot;</td><td>null</td><td>&quot;Got it, let&#x27;s try to figure ou…</td><td>&quot;To solve this problem, we need…</td><td>1</td><td>1485</td><td>2</td><td>&quot;Good&quot;</td><td>&quot;Model response is incorrect bu…</td><td>&quot;{&#x27;remarks&#x27;: [{&#x27;intervene_index…</td><td>null</td><td>&quot;327226157&quot;</td><td>&quot;C++&quot;</td><td>&quot;0.0&quot;</td><td>&quot;Codeforces/687E&quot;</td><td>null</td><td>&quot;Got it, let&#x27;s try to figure ou…</td><td>null</td><td>null</td></tr></tbody></table></div>"
      ],
      "text/plain": [
       "shape: (1_733, 28)\n",
       "┌─────────┬────────────┬───────────┬───────────┬───┬───────────┬───────────┬───────────┬───────────┐\n",
       "│ task id ┆ total_late ┆ trainer   ┆ model     ┆ … ┆ initial_r ┆ initial_r ┆ abandon_p ┆ human_rea │\n",
       "│ ---     ┆ ncy (ms)   ┆ id        ┆ name      ┆   ┆ esponse   ┆ easoning  ┆ rompt_exp ┆ soning    │\n",
       "│ str     ┆ ---        ┆ ---       ┆ ---       ┆   ┆ ---       ┆ ---       ┆ lanation  ┆ ---       │\n",
       "│         ┆ i64        ┆ i64       ┆ str       ┆   ┆ str       ┆ str       ┆ ---       ┆ str       │\n",
       "│         ┆            ┆           ┆           ┆   ┆           ┆           ┆ str       ┆           │\n",
       "╞═════════╪════════════╪═══════════╪═══════════╪═══╪═══════════╪═══════════╪═══════════╪═══════════╡\n",
       "│ 55369   ┆ 2678526    ┆ 394       ┆ ep-202504 ┆ … ┆ To solve  ┆ null      ┆ null      ┆ null      │\n",
       "│         ┆            ┆           ┆ 18145052- ┆   ┆ this      ┆           ┆           ┆           │\n",
       "│         ┆            ┆           ┆ bss5p     ┆   ┆ problem,  ┆           ┆           ┆           │\n",
       "│         ┆            ┆           ┆           ┆   ┆ we need…  ┆           ┆           ┆           │\n",
       "│ 55455   ┆ 985507     ┆ 72        ┆ ep-202504 ┆ … ┆ To solve  ┆ null      ┆ null      ┆ null      │\n",
       "│         ┆            ┆           ┆ 18145052- ┆   ┆ this      ┆           ┆           ┆           │\n",
       "│         ┆            ┆           ┆ bss5p     ┆   ┆ problem,  ┆           ┆           ┆           │\n",
       "│         ┆            ┆           ┆           ┆   ┆ we need…  ┆           ┆           ┆           │\n",
       "│ 55460   ┆ 1218643    ┆ 72        ┆ ep-202503 ┆ … ┆ To solve  ┆ null      ┆ null      ┆ null      │\n",
       "│         ┆            ┆           ┆ 12111804- ┆   ┆ this      ┆           ┆           ┆           │\n",
       "│         ┆            ┆           ┆ p4w5h     ┆   ┆ problem,  ┆           ┆           ┆           │\n",
       "│         ┆            ┆           ┆           ┆   ┆ we need…  ┆           ┆           ┆           │\n",
       "│ 55523   ┆ 4798862    ┆ 246       ┆ ep-202504 ┆ … ┆ To solve  ┆ null      ┆ null      ┆ null      │\n",
       "│         ┆            ┆           ┆ 18145052- ┆   ┆ this      ┆           ┆           ┆           │\n",
       "│         ┆            ┆           ┆ bss5p     ┆   ┆ problem,  ┆           ┆           ┆           │\n",
       "│         ┆            ┆           ┆           ┆   ┆ we need…  ┆           ┆           ┆           │\n",
       "│ 55524   ┆ 1506328    ┆ 170       ┆ ep-202503 ┆ … ┆ To solve  ┆ null      ┆ null      ┆ null      │\n",
       "│         ┆            ┆           ┆ 12111804- ┆   ┆ this      ┆           ┆           ┆           │\n",
       "│         ┆            ┆           ┆ p4w5h     ┆   ┆ problem,  ┆           ┆           ┆           │\n",
       "│         ┆            ┆           ┆           ┆   ┆ we need…  ┆           ┆           ┆           │\n",
       "│ …       ┆ …          ┆ …         ┆ …         ┆ … ┆ …         ┆ …         ┆ …         ┆ …         │\n",
       "│ 70561   ┆ -1         ┆ 550       ┆ ep-202505 ┆ … ┆ null      ┆ Got it,   ┆ null      ┆ null      │\n",
       "│         ┆            ┆           ┆ 31134931- ┆   ┆           ┆ let's try ┆           ┆           │\n",
       "│         ┆            ┆           ┆ xwct7     ┆   ┆           ┆ to solve  ┆           ┆           │\n",
       "│         ┆            ┆           ┆           ┆   ┆           ┆ thi…      ┆           ┆           │\n",
       "│ 70569   ┆ -1         ┆ 413       ┆ ep-202505 ┆ … ┆ null      ┆ Got it,   ┆ null      ┆ null      │\n",
       "│         ┆            ┆           ┆ 31134931- ┆   ┆           ┆ let's try ┆           ┆           │\n",
       "│         ┆            ┆           ┆ xwct7     ┆   ┆           ┆ to solve  ┆           ┆           │\n",
       "│         ┆            ┆           ┆           ┆   ┆           ┆ thi…      ┆           ┆           │\n",
       "│ 70650   ┆ -1         ┆ 413       ┆ ep-202505 ┆ … ┆ null      ┆ Got it,   ┆ null      ┆ null      │\n",
       "│         ┆            ┆           ┆ 31134931- ┆   ┆           ┆ let's try ┆           ┆           │\n",
       "│         ┆            ┆           ┆ xwct7     ┆   ┆           ┆ to solve  ┆           ┆           │\n",
       "│         ┆            ┆           ┆           ┆   ┆           ┆ thi…      ┆           ┆           │\n",
       "│ 70655   ┆ -1         ┆ 413       ┆ ep-202505 ┆ … ┆ null      ┆ Got it,   ┆ null      ┆ null      │\n",
       "│         ┆            ┆           ┆ 31134931- ┆   ┆           ┆ let's try ┆           ┆           │\n",
       "│         ┆            ┆           ┆ xwct7     ┆   ┆           ┆ to solve  ┆           ┆           │\n",
       "│         ┆            ┆           ┆           ┆   ┆           ┆ thi…      ┆           ┆           │\n",
       "│ 70661   ┆ -1         ┆ 413       ┆ ep-202505 ┆ … ┆ null      ┆ Got it,   ┆ null      ┆ null      │\n",
       "│         ┆            ┆           ┆ 31134931- ┆   ┆           ┆ let's try ┆           ┆           │\n",
       "│         ┆            ┆           ┆ xwct7     ┆   ┆           ┆ to figure ┆           ┆           │\n",
       "│         ┆            ┆           ┆           ┆   ┆           ┆ ou…       ┆           ┆           │\n",
       "└─────────┴────────────┴───────────┴───────────┴───┴───────────┴───────────┴───────────┴───────────┘"
      ]
     },
     "execution_count": 21,
     "metadata": {},
     "output_type": "execute_result"
    }
   ],
   "source": [
    "import polars as pl\n",
    "import glob\n",
    "import os\n",
    "\n",
    "DATA_DIRECTORY = './data/ALL'\n",
    "\n",
    "json_files = glob.glob(os.path.join(DATA_DIRECTORY, '**', '*.json'), recursive=True)\n",
    "\n",
    "df = pl.concat([pl.read_json(file) for file in json_files], how=\"diagonal_relaxed\")\n",
    "df"
   ]
  },
  {
   "cell_type": "code",
   "execution_count": 25,
   "metadata": {},
   "outputs": [
    {
     "data": {
      "text/html": [
       "<div><style>\n",
       ".dataframe > thead > tr,\n",
       ".dataframe > tbody > tr {\n",
       "  text-align: right;\n",
       "  white-space: pre-wrap;\n",
       "}\n",
       "</style>\n",
       "<small>shape: (715, 28)</small><table border=\"1\" class=\"dataframe\"><thead><tr><th>task id</th><th>total_latency (ms)</th><th>trainer id</th><th>model name</th><th>user prompt</th><th>system prompt</th><th>intervene_system_prompt</th><th>intervene prompt</th><th>ground_truth_answer</th><th>abandon_prompt</th><th>abandon_prompt_reason</th><th>response</th><th>final_answer</th><th>temperature</th><th>total_tokens</th><th>intervention rounds</th><th>CoT quality</th><th>Model performance classification</th><th>remarks</th><th>level</th><th>codeforces_submission_id</th><th>programming_language</th><th>ACC</th><th>question_id</th><th>initial_response</th><th>initial_reasoning</th><th>abandon_prompt_explanation</th><th>human_reasoning</th></tr><tr><td>str</td><td>i64</td><td>i64</td><td>str</td><td>str</td><td>str</td><td>str</td><td>str</td><td>str</td><td>str</td><td>str</td><td>str</td><td>str</td><td>i64</td><td>i64</td><td>i64</td><td>str</td><td>str</td><td>str</td><td>str</td><td>str</td><td>str</td><td>str</td><td>str</td><td>str</td><td>str</td><td>str</td><td>str</td></tr></thead><tbody><tr><td>&quot;66295&quot;</td><td>8651260</td><td>505</td><td>&quot;ep-20250531134931-xwct7&quot;</td><td>&quot;Solving the given programming …</td><td>&quot;You are an expert problem solv…</td><td>&quot;You are an expert problem solv…</td><td>&quot;You are an expert problem solv…</td><td>null</td><td>&quot;No&quot;</td><td>null</td><td>&quot;Um, let&#x27;s try to solve this pr…</td><td>&quot;To solve this problem, we need…</td><td>1</td><td>932</td><td>4</td><td>&quot;Good&quot;</td><td>&quot;Model response is incorrect bu…</td><td>&quot;{&#x27;remarks&#x27;: [{&#x27;intervene_index…</td><td>null</td><td>&quot;322975357&quot;</td><td>&quot;C++&quot;</td><td>&quot;0.0625&quot;</td><td>&quot;Codeforces/1954B&quot;</td><td>null</td><td>&quot;Um, let&#x27;s try to solve this pr…</td><td>null</td><td>null</td></tr><tr><td>&quot;66533&quot;</td><td>757343</td><td>305</td><td>&quot;ep-20250531134931-xwct7&quot;</td><td>&quot;Solving the given programming …</td><td>&quot;You are an expert problem solv…</td><td>&quot;You are an expert problem solv…</td><td>&quot;You are an expert problem solv…</td><td>&quot;#include &lt;iostream&gt;\n",
       "#include &lt;…</td><td>&quot;No&quot;</td><td>null</td><td>&quot;Got it, let&#x27;s see.\n",
       "The problem…</td><td>&quot;To solve this problem, we need…</td><td>1</td><td>1505</td><td>1</td><td>&quot;Minor Flaws&quot;</td><td>&quot;Model response is incorrect bu…</td><td>&quot;{&#x27;remarks&#x27;: [{&#x27;intervene_index…</td><td>null</td><td>&quot;322962942&quot;</td><td>&quot;C++&quot;</td><td>&quot;0.0&quot;</td><td>&quot;Codeforces/1042E&quot;</td><td>null</td><td>&quot;Got it, let&#x27;s see.\n",
       "The problem…</td><td>null</td><td>null</td></tr><tr><td>&quot;66283&quot;</td><td>4319831</td><td>389</td><td>&quot;ep-20250531134931-xwct7&quot;</td><td>&quot;The Narrator has an integer ar…</td><td>&quot;You are an expert problem solv…</td><td>&quot;You are an expert problem solv…</td><td>&quot;You are an expert problem solv…</td><td>null</td><td>&quot;No&quot;</td><td>null</td><td>&quot;Okay, let&#x27;s tackle this proble…</td><td>&quot;To solve this problem, we need…</td><td>1</td><td>1349</td><td>7</td><td>&quot;Good&quot;</td><td>&quot;Model response is incorrect bu…</td><td>&quot;{&#x27;remarks&#x27;: [{&#x27;intervene_index…</td><td>null</td><td>&quot;323916836&quot;</td><td>&quot;C++&quot;</td><td>&quot;0.0&quot;</td><td>&quot;Codeforces/1715D&quot;</td><td>null</td><td>&quot;Okay, let&#x27;s tackle this proble…</td><td>null</td><td>null</td></tr><tr><td>&quot;66460&quot;</td><td>5698566</td><td>375</td><td>&quot;ep-20250531134931-xwct7&quot;</td><td>&quot;Solving the given programming …</td><td>&quot;You are an expert problem solv…</td><td>&quot;You are an expert problem solv…</td><td>&quot;You are an expert problem solv…</td><td>&quot;#include &lt;bits/stdc++.h&gt;\n",
       "using…</td><td>&quot;Yes&quot;</td><td>&quot;Exceeded global intervention c…</td><td>&quot;Um, let&#x27;s tackle this problem.…</td><td>&quot;To solve this problem, we need…</td><td>1</td><td>1649</td><td>15</td><td>&quot;Good&quot;</td><td>&quot;Model response is incorrect an…</td><td>&quot;{&#x27;remarks&#x27;: [{&#x27;intervene_index…</td><td>null</td><td>&quot;323887458&quot;</td><td>&quot;C++&quot;</td><td>&quot;0.0625&quot;</td><td>&quot;Codeforces/1093F&quot;</td><td>null</td><td>&quot;Um, let&#x27;s tackle this problem.…</td><td>&quot;The model couldn&#x27;t produce the…</td><td>null</td></tr><tr><td>&quot;66516&quot;</td><td>5441699</td><td>132</td><td>&quot;ep-20250531134931-xwct7&quot;</td><td>&quot;Solving the given programming …</td><td>&quot;You are an expert problem solv…</td><td>&quot;You are an expert problem solv…</td><td>&quot;You are an expert problem solv…</td><td>&quot;#include &lt;bits/stdc++.h&gt;\n",
       "typed…</td><td>&quot;Yes&quot;</td><td>&quot;Exceeded local intervention co…</td><td>&quot;Um, let&#x27;s try to understand th…</td><td>&quot;To solve this problem, we need…</td><td>1</td><td>1768</td><td>10</td><td>&quot;Faulty&quot;</td><td>&quot;Model response is incorrect an…</td><td>&quot;{&#x27;remarks&#x27;: [{&#x27;intervene_index…</td><td>null</td><td>&quot;322908702&quot;</td><td>&quot;C++&quot;</td><td>&quot;0.0&quot;</td><td>&quot;Codeforces/773F&quot;</td><td>null</td><td>&quot;Um, let&#x27;s try to understand th…</td><td>&quot;After multiple interventionss …</td><td>null</td></tr><tr><td>&hellip;</td><td>&hellip;</td><td>&hellip;</td><td>&hellip;</td><td>&hellip;</td><td>&hellip;</td><td>&hellip;</td><td>&hellip;</td><td>&hellip;</td><td>&hellip;</td><td>&hellip;</td><td>&hellip;</td><td>&hellip;</td><td>&hellip;</td><td>&hellip;</td><td>&hellip;</td><td>&hellip;</td><td>&hellip;</td><td>&hellip;</td><td>&hellip;</td><td>&hellip;</td><td>&hellip;</td><td>&hellip;</td><td>&hellip;</td><td>&hellip;</td><td>&hellip;</td><td>&hellip;</td><td>&hellip;</td></tr><tr><td>&quot;70561&quot;</td><td>-1</td><td>550</td><td>&quot;ep-20250531134931-xwct7&quot;</td><td>&quot;Solving the given programming …</td><td>&quot;You are an expert problem solv…</td><td>&quot;You are an expert problem solv…</td><td>&quot;You are an expert problem solv…</td><td>null</td><td>&quot;No&quot;</td><td>null</td><td>&quot;Got it, let&#x27;s try to solve thi…</td><td>&quot;To solve this problem, we need…</td><td>1</td><td>883</td><td>5</td><td>&quot;Good&quot;</td><td>&quot;Model response is incorrect bu…</td><td>&quot;{&#x27;remarks&#x27;: [{&#x27;intervene_index…</td><td>null</td><td>&quot;328439691&quot;</td><td>&quot;C++&quot;</td><td>&quot;0.0625&quot;</td><td>&quot;Codeforces/1861D&quot;</td><td>null</td><td>&quot;Got it, let&#x27;s try to solve thi…</td><td>null</td><td>null</td></tr><tr><td>&quot;70569&quot;</td><td>-1</td><td>413</td><td>&quot;ep-20250531134931-xwct7&quot;</td><td>&quot;Mr. Kitayuta&#x27;s garden is plant…</td><td>&quot;You are an expert problem solv…</td><td>&quot;You are an expert problem solv…</td><td>&quot;You are an expert problem solv…</td><td>null</td><td>&quot;No&quot;</td><td>null</td><td>&quot;Got it, let&#x27;s try to solve thi…</td><td>&quot;To solve this problem, we need…</td><td>1</td><td>1021</td><td>13</td><td>&quot;Good&quot;</td><td>&quot;Model response is incorrect bu…</td><td>&quot;{&#x27;remarks&#x27;: [{&#x27;intervene_index…</td><td>&quot;0&quot;</td><td>&quot;327224969&quot;</td><td>&quot;C++&quot;</td><td>&quot;0.0&quot;</td><td>&quot;Codeforces/505E&quot;</td><td>null</td><td>&quot;Got it, let&#x27;s try to solve thi…</td><td>null</td><td>null</td></tr><tr><td>&quot;70650&quot;</td><td>-1</td><td>413</td><td>&quot;ep-20250531134931-xwct7&quot;</td><td>&quot;Problem Description\n",
       "\\t{zscoder…</td><td>&quot;You are an expert problem solv…</td><td>&quot;You are an expert problem solv…</td><td>null</td><td>null</td><td>&quot;No&quot;</td><td>null</td><td>&quot;Got it, let&#x27;s try to solve thi…</td><td>&quot;To solve this problem, we need…</td><td>1</td><td>840</td><td>0</td><td>&quot;Good&quot;</td><td>&quot;Model response is correct with…</td><td>&quot;{&#x27;remarks&#x27;: []}&quot;</td><td>null</td><td>&quot;327246788&quot;</td><td>&quot;C++&quot;</td><td>&quot;0.0&quot;</td><td>&quot;Codeforces/1392H&quot;</td><td>null</td><td>&quot;Got it, let&#x27;s try to solve thi…</td><td>null</td><td>null</td></tr><tr><td>&quot;70655&quot;</td><td>-1</td><td>413</td><td>&quot;ep-20250531134931-xwct7&quot;</td><td>&quot;Problem Description\n",
       "Toad Mikha…</td><td>&quot;You are an expert problem solv…</td><td>&quot;You are an expert problem solv…</td><td>&quot;You are an expert problem solv…</td><td>null</td><td>&quot;No&quot;</td><td>null</td><td>&quot;Got it, let&#x27;s try to solve thi…</td><td>&quot;To solve this problem, we need…</td><td>1</td><td>1083</td><td>7</td><td>&quot;Minor Flaws&quot;</td><td>&quot;Model response is incorrect bu…</td><td>&quot;{&#x27;remarks&#x27;: [{&#x27;intervene_index…</td><td>null</td><td>&quot;327926978&quot;</td><td>&quot;C++&quot;</td><td>&quot;0.0&quot;</td><td>&quot;Codeforces/1168E&quot;</td><td>null</td><td>&quot;Got it, let&#x27;s try to solve thi…</td><td>null</td><td>null</td></tr><tr><td>&quot;70661&quot;</td><td>-1</td><td>413</td><td>&quot;ep-20250531134931-xwct7&quot;</td><td>&quot;Today Pari gave Arya a cool gr…</td><td>&quot;You are an expert problem solv…</td><td>&quot;You are an expert problem solv…</td><td>&quot;You are an expert problem solv…</td><td>null</td><td>&quot;No&quot;</td><td>null</td><td>&quot;Got it, let&#x27;s try to figure ou…</td><td>&quot;To solve this problem, we need…</td><td>1</td><td>1485</td><td>2</td><td>&quot;Good&quot;</td><td>&quot;Model response is incorrect bu…</td><td>&quot;{&#x27;remarks&#x27;: [{&#x27;intervene_index…</td><td>null</td><td>&quot;327226157&quot;</td><td>&quot;C++&quot;</td><td>&quot;0.0&quot;</td><td>&quot;Codeforces/687E&quot;</td><td>null</td><td>&quot;Got it, let&#x27;s try to figure ou…</td><td>null</td><td>null</td></tr></tbody></table></div>"
      ],
      "text/plain": [
       "shape: (715, 28)\n",
       "┌─────────┬────────────┬───────────┬───────────┬───┬───────────┬───────────┬───────────┬───────────┐\n",
       "│ task id ┆ total_late ┆ trainer   ┆ model     ┆ … ┆ initial_r ┆ initial_r ┆ abandon_p ┆ human_rea │\n",
       "│ ---     ┆ ncy (ms)   ┆ id        ┆ name      ┆   ┆ esponse   ┆ easoning  ┆ rompt_exp ┆ soning    │\n",
       "│ str     ┆ ---        ┆ ---       ┆ ---       ┆   ┆ ---       ┆ ---       ┆ lanation  ┆ ---       │\n",
       "│         ┆ i64        ┆ i64       ┆ str       ┆   ┆ str       ┆ str       ┆ ---       ┆ str       │\n",
       "│         ┆            ┆           ┆           ┆   ┆           ┆           ┆ str       ┆           │\n",
       "╞═════════╪════════════╪═══════════╪═══════════╪═══╪═══════════╪═══════════╪═══════════╪═══════════╡\n",
       "│ 66295   ┆ 8651260    ┆ 505       ┆ ep-202505 ┆ … ┆ null      ┆ Um, let's ┆ null      ┆ null      │\n",
       "│         ┆            ┆           ┆ 31134931- ┆   ┆           ┆ try to    ┆           ┆           │\n",
       "│         ┆            ┆           ┆ xwct7     ┆   ┆           ┆ solve     ┆           ┆           │\n",
       "│         ┆            ┆           ┆           ┆   ┆           ┆ this pr…  ┆           ┆           │\n",
       "│ 66533   ┆ 757343     ┆ 305       ┆ ep-202505 ┆ … ┆ null      ┆ Got it,   ┆ null      ┆ null      │\n",
       "│         ┆            ┆           ┆ 31134931- ┆   ┆           ┆ let's     ┆           ┆           │\n",
       "│         ┆            ┆           ┆ xwct7     ┆   ┆           ┆ see.      ┆           ┆           │\n",
       "│         ┆            ┆           ┆           ┆   ┆           ┆ The       ┆           ┆           │\n",
       "│         ┆            ┆           ┆           ┆   ┆           ┆ problem…  ┆           ┆           │\n",
       "│ 66283   ┆ 4319831    ┆ 389       ┆ ep-202505 ┆ … ┆ null      ┆ Okay,     ┆ null      ┆ null      │\n",
       "│         ┆            ┆           ┆ 31134931- ┆   ┆           ┆ let's     ┆           ┆           │\n",
       "│         ┆            ┆           ┆ xwct7     ┆   ┆           ┆ tackle    ┆           ┆           │\n",
       "│         ┆            ┆           ┆           ┆   ┆           ┆ this      ┆           ┆           │\n",
       "│         ┆            ┆           ┆           ┆   ┆           ┆ proble…   ┆           ┆           │\n",
       "│ 66460   ┆ 5698566    ┆ 375       ┆ ep-202505 ┆ … ┆ null      ┆ Um, let's ┆ The model ┆ null      │\n",
       "│         ┆            ┆           ┆ 31134931- ┆   ┆           ┆ tackle    ┆ couldn't  ┆           │\n",
       "│         ┆            ┆           ┆ xwct7     ┆   ┆           ┆ this      ┆ produce   ┆           │\n",
       "│         ┆            ┆           ┆           ┆   ┆           ┆ problem.… ┆ the…      ┆           │\n",
       "│ 66516   ┆ 5441699    ┆ 132       ┆ ep-202505 ┆ … ┆ null      ┆ Um, let's ┆ After     ┆ null      │\n",
       "│         ┆            ┆           ┆ 31134931- ┆   ┆           ┆ try to    ┆ multiple  ┆           │\n",
       "│         ┆            ┆           ┆ xwct7     ┆   ┆           ┆ understan ┆ intervent ┆           │\n",
       "│         ┆            ┆           ┆           ┆   ┆           ┆ d th…     ┆ ionss …   ┆           │\n",
       "│ …       ┆ …          ┆ …         ┆ …         ┆ … ┆ …         ┆ …         ┆ …         ┆ …         │\n",
       "│ 70561   ┆ -1         ┆ 550       ┆ ep-202505 ┆ … ┆ null      ┆ Got it,   ┆ null      ┆ null      │\n",
       "│         ┆            ┆           ┆ 31134931- ┆   ┆           ┆ let's try ┆           ┆           │\n",
       "│         ┆            ┆           ┆ xwct7     ┆   ┆           ┆ to solve  ┆           ┆           │\n",
       "│         ┆            ┆           ┆           ┆   ┆           ┆ thi…      ┆           ┆           │\n",
       "│ 70569   ┆ -1         ┆ 413       ┆ ep-202505 ┆ … ┆ null      ┆ Got it,   ┆ null      ┆ null      │\n",
       "│         ┆            ┆           ┆ 31134931- ┆   ┆           ┆ let's try ┆           ┆           │\n",
       "│         ┆            ┆           ┆ xwct7     ┆   ┆           ┆ to solve  ┆           ┆           │\n",
       "│         ┆            ┆           ┆           ┆   ┆           ┆ thi…      ┆           ┆           │\n",
       "│ 70650   ┆ -1         ┆ 413       ┆ ep-202505 ┆ … ┆ null      ┆ Got it,   ┆ null      ┆ null      │\n",
       "│         ┆            ┆           ┆ 31134931- ┆   ┆           ┆ let's try ┆           ┆           │\n",
       "│         ┆            ┆           ┆ xwct7     ┆   ┆           ┆ to solve  ┆           ┆           │\n",
       "│         ┆            ┆           ┆           ┆   ┆           ┆ thi…      ┆           ┆           │\n",
       "│ 70655   ┆ -1         ┆ 413       ┆ ep-202505 ┆ … ┆ null      ┆ Got it,   ┆ null      ┆ null      │\n",
       "│         ┆            ┆           ┆ 31134931- ┆   ┆           ┆ let's try ┆           ┆           │\n",
       "│         ┆            ┆           ┆ xwct7     ┆   ┆           ┆ to solve  ┆           ┆           │\n",
       "│         ┆            ┆           ┆           ┆   ┆           ┆ thi…      ┆           ┆           │\n",
       "│ 70661   ┆ -1         ┆ 413       ┆ ep-202505 ┆ … ┆ null      ┆ Got it,   ┆ null      ┆ null      │\n",
       "│         ┆            ┆           ┆ 31134931- ┆   ┆           ┆ let's try ┆           ┆           │\n",
       "│         ┆            ┆           ┆ xwct7     ┆   ┆           ┆ to figure ┆           ┆           │\n",
       "│         ┆            ┆           ┆           ┆   ┆           ┆ ou…       ┆           ┆           │\n",
       "└─────────┴────────────┴───────────┴───────────┴───┴───────────┴───────────┴───────────┴───────────┘"
      ]
     },
     "execution_count": 25,
     "metadata": {},
     "output_type": "execute_result"
    }
   ],
   "source": [
    "df.filter(pl.col(\"model name\") == \"ep-20250531134931-xwct7\")"
   ]
  },
  {
   "cell_type": "code",
   "execution_count": 27,
   "metadata": {},
   "outputs": [
    {
     "name": "stderr",
     "output_type": "stream",
     "text": [
      "/var/folders/dm/8p9389wj29l4dmrq06hwzl4w0000gn/T/ipykernel_4589/3317475680.py:3: DeprecationWarning: `is_in` with a collection of the same datatype is ambiguous and deprecated.\n",
      "Please use `implode` to return to previous behavior.\n",
      "\n",
      "See https://github.com/pola-rs/polars/issues/22149 for more information.\n",
      "  df.filter(pl.col(\"task id\").is_in(dupes.get_column(\"task id\")))\n"
     ]
    },
    {
     "data": {
      "text/html": [
       "<div><style>\n",
       ".dataframe > thead > tr,\n",
       ".dataframe > tbody > tr {\n",
       "  text-align: right;\n",
       "  white-space: pre-wrap;\n",
       "}\n",
       "</style>\n",
       "<small>shape: (0, 28)</small><table border=\"1\" class=\"dataframe\"><thead><tr><th>task id</th><th>total_latency (ms)</th><th>trainer id</th><th>model name</th><th>user prompt</th><th>system prompt</th><th>intervene_system_prompt</th><th>intervene prompt</th><th>ground_truth_answer</th><th>abandon_prompt</th><th>abandon_prompt_reason</th><th>response</th><th>final_answer</th><th>temperature</th><th>total_tokens</th><th>intervention rounds</th><th>CoT quality</th><th>Model performance classification</th><th>remarks</th><th>level</th><th>codeforces_submission_id</th><th>programming_language</th><th>ACC</th><th>question_id</th><th>initial_response</th><th>initial_reasoning</th><th>abandon_prompt_explanation</th><th>human_reasoning</th></tr><tr><td>str</td><td>i64</td><td>i64</td><td>str</td><td>str</td><td>str</td><td>str</td><td>str</td><td>str</td><td>str</td><td>str</td><td>str</td><td>str</td><td>i64</td><td>i64</td><td>i64</td><td>str</td><td>str</td><td>str</td><td>str</td><td>str</td><td>str</td><td>str</td><td>str</td><td>str</td><td>str</td><td>str</td><td>str</td></tr></thead><tbody></tbody></table></div>"
      ],
      "text/plain": [
       "shape: (0, 28)\n",
       "┌─────────┬────────────┬────────────┬───────┬───┬────────────┬────────────┬────────────┬───────────┐\n",
       "│ task id ┆ total_late ┆ trainer id ┆ model ┆ … ┆ initial_re ┆ initial_re ┆ abandon_pr ┆ human_rea │\n",
       "│ ---     ┆ ncy (ms)   ┆ ---        ┆ name  ┆   ┆ sponse     ┆ asoning    ┆ ompt_expla ┆ soning    │\n",
       "│ str     ┆ ---        ┆ i64        ┆ ---   ┆   ┆ ---        ┆ ---        ┆ nation     ┆ ---       │\n",
       "│         ┆ i64        ┆            ┆ str   ┆   ┆ str        ┆ str        ┆ ---        ┆ str       │\n",
       "│         ┆            ┆            ┆       ┆   ┆            ┆            ┆ str        ┆           │\n",
       "╞═════════╪════════════╪════════════╪═══════╪═══╪════════════╪════════════╪════════════╪═══════════╡\n",
       "└─────────┴────────────┴────────────┴───────┴───┴────────────┴────────────┴────────────┴───────────┘"
      ]
     },
     "execution_count": 27,
     "metadata": {},
     "output_type": "execute_result"
    }
   ],
   "source": [
    "# Select non-unique cases\n",
    "dupes = df.filter(pl.col(\"model name\") == \"ep-20250531134931-xwct7\").select(pl.col(\"task id\")).filter(pl.col(\"task id\").is_duplicated())\n",
    "df.filter(pl.col(\"task id\").is_in(dupes.get_column(\"task id\")))"
   ]
  },
  {
   "cell_type": "code",
   "execution_count": 43,
   "metadata": {},
   "outputs": [
    {
     "data": {
      "text/html": [
       "<div><style>\n",
       ".dataframe > thead > tr,\n",
       ".dataframe > tbody > tr {\n",
       "  text-align: right;\n",
       "  white-space: pre-wrap;\n",
       "}\n",
       "</style>\n",
       "<small>shape: (1, 27)</small><table border=\"1\" class=\"dataframe\"><thead><tr><th>task id</th><th>trainer id</th><th>model name</th><th>user prompt</th><th>system prompt</th><th>intervene_system_prompt</th><th>intervene prompt</th><th>ground_truth_answer</th><th>abandon_prompt</th><th>abandon_prompt_reason</th><th>abandon_prompt_explanation</th><th>initial_reasoning</th><th>human_reasoning</th><th>response</th><th>final_answer</th><th>temperature</th><th>total_tokens</th><th>intervention rounds</th><th>CoT quality</th><th>Model performance classification</th><th>remarks</th><th>question_id</th><th>level</th><th>codeforces_submission_id</th><th>programming_language</th><th>ACC</th><th>total_latency (ms)</th></tr><tr><td>i64</td><td>i64</td><td>str</td><td>str</td><td>str</td><td>str</td><td>str</td><td>null</td><td>str</td><td>null</td><td>null</td><td>str</td><td>null</td><td>str</td><td>str</td><td>i64</td><td>i64</td><td>i64</td><td>str</td><td>str</td><td>str</td><td>str</td><td>null</td><td>i64</td><td>str</td><td>f64</td><td>i64</td></tr></thead><tbody><tr><td>70653</td><td>551</td><td>&quot;ep-20250531134931-xwct7&quot;</td><td>&quot;Solving the given programming …</td><td>&quot;You are an expert problem solv…</td><td>&quot;You are an expert problem solv…</td><td>&quot;You are an expert problem solv…</td><td>null</td><td>&quot;No&quot;</td><td>null</td><td>null</td><td>&quot;&quot;&quot;\n",
       "Got it, let&#x27;s try to solve …</td><td>null</td><td>&quot;&quot;\n",
       "Got it, let&#x27;s try to solve t…</td><td>&quot;To solve this problem, we need…</td><td>1</td><td>1048</td><td>5</td><td>&quot;Minor Flaws&quot;</td><td>&quot;Model response is incorrect bu…</td><td>&quot;{&#x27;remarks&#x27;: [{&#x27;intervene_index…</td><td>&quot;Codeforces/850F&quot;</td><td>null</td><td>327719725</td><td>&quot;C++&quot;</td><td>0.0</td><td>-1</td></tr></tbody></table></div>"
      ],
      "text/plain": [
       "shape: (1, 27)\n",
       "┌─────────┬────────────┬─────────────┬────────────┬───┬────────────┬────────────┬─────┬────────────┐\n",
       "│ task id ┆ trainer id ┆ model name  ┆ user       ┆ … ┆ codeforces ┆ programmin ┆ ACC ┆ total_late │\n",
       "│ ---     ┆ ---        ┆ ---         ┆ prompt     ┆   ┆ _submissio ┆ g_language ┆ --- ┆ ncy (ms)   │\n",
       "│ i64     ┆ i64        ┆ str         ┆ ---        ┆   ┆ n_id       ┆ ---        ┆ f64 ┆ ---        │\n",
       "│         ┆            ┆             ┆ str        ┆   ┆ ---        ┆ str        ┆     ┆ i64        │\n",
       "│         ┆            ┆             ┆            ┆   ┆ i64        ┆            ┆     ┆            │\n",
       "╞═════════╪════════════╪═════════════╪════════════╪═══╪════════════╪════════════╪═════╪════════════╡\n",
       "│ 70653   ┆ 551        ┆ ep-20250531 ┆ Solving    ┆ … ┆ 327719725  ┆ C++        ┆ 0.0 ┆ -1         │\n",
       "│         ┆            ┆ 134931-xwct ┆ the given  ┆   ┆            ┆            ┆     ┆            │\n",
       "│         ┆            ┆ 7           ┆ programmin ┆   ┆            ┆            ┆     ┆            │\n",
       "│         ┆            ┆             ┆ g …        ┆   ┆            ┆            ┆     ┆            │\n",
       "└─────────┴────────────┴─────────────┴────────────┴───┴────────────┴────────────┴─────┴────────────┘"
      ]
     },
     "execution_count": 43,
     "metadata": {},
     "output_type": "execute_result"
    }
   ],
   "source": [
    "pl.read_json(\"data/ALL/Fixed Deliveries/RLMF 07072025_28_V2_01/RLMF 07072025_28_V2_01.json\").filter(pl.col(\"response\").str.contains(r\"\\\\\\(\"))"
   ]
  },
  {
   "cell_type": "code",
   "execution_count": 28,
   "metadata": {},
   "outputs": [
    {
     "data": {
      "text/html": [
       "<div><style>\n",
       ".dataframe > thead > tr,\n",
       ".dataframe > tbody > tr {\n",
       "  text-align: right;\n",
       "  white-space: pre-wrap;\n",
       "}\n",
       "</style>\n",
       "<small>shape: (570, 1)</small><table border=\"1\" class=\"dataframe\"><thead><tr><th>task id</th></tr><tr><td>str</td></tr></thead><tbody><tr><td>&quot;69571&quot;</td></tr><tr><td>&quot;70382&quot;</td></tr><tr><td>&quot;70502&quot;</td></tr><tr><td>&quot;69630&quot;</td></tr><tr><td>&quot;69614&quot;</td></tr><tr><td>&hellip;</td></tr><tr><td>&quot;70731&quot;</td></tr><tr><td>&quot;70699&quot;</td></tr><tr><td>&quot;69820&quot;</td></tr><tr><td>&quot;58936&quot;</td></tr><tr><td>&quot;69744&quot;</td></tr></tbody></table></div>"
      ],
      "text/plain": [
       "shape: (570, 1)\n",
       "┌─────────┐\n",
       "│ task id │\n",
       "│ ---     │\n",
       "│ str     │\n",
       "╞═════════╡\n",
       "│ 69571   │\n",
       "│ 70382   │\n",
       "│ 70502   │\n",
       "│ 69630   │\n",
       "│ 69614   │\n",
       "│ …       │\n",
       "│ 70731   │\n",
       "│ 70699   │\n",
       "│ 69820   │\n",
       "│ 58936   │\n",
       "│ 69744   │\n",
       "└─────────┘"
      ]
     },
     "execution_count": 28,
     "metadata": {},
     "output_type": "execute_result"
    }
   ],
   "source": [
    "df2 = df.filter((pl.col(\"model name\") == \"ep-20250531134931-xwct7\") & (pl.col(\"abandon_prompt\") == \"No\"))\n",
    "df2.select(pl.col(\"task id\")).unique()"
   ]
  },
  {
   "cell_type": "code",
   "execution_count": 29,
   "metadata": {},
   "outputs": [
    {
     "data": {
      "text/html": [
       "<div><style>\n",
       ".dataframe > thead > tr,\n",
       ".dataframe > tbody > tr {\n",
       "  text-align: right;\n",
       "  white-space: pre-wrap;\n",
       "}\n",
       "</style>\n",
       "<small>shape: (470, 1)</small><table border=\"1\" class=\"dataframe\"><thead><tr><th>task id</th></tr><tr><td>str</td></tr></thead><tbody><tr><td>&quot;66328&quot;</td></tr><tr><td>&quot;70636&quot;</td></tr><tr><td>&quot;69413&quot;</td></tr><tr><td>&quot;70684&quot;</td></tr><tr><td>&quot;70385&quot;</td></tr><tr><td>&hellip;</td></tr><tr><td>&quot;69524&quot;</td></tr><tr><td>&quot;69659&quot;</td></tr><tr><td>&quot;69581&quot;</td></tr><tr><td>&quot;55878&quot;</td></tr><tr><td>&quot;69406&quot;</td></tr></tbody></table></div>"
      ],
      "text/plain": [
       "shape: (470, 1)\n",
       "┌─────────┐\n",
       "│ task id │\n",
       "│ ---     │\n",
       "│ str     │\n",
       "╞═════════╡\n",
       "│ 66328   │\n",
       "│ 70636   │\n",
       "│ 69413   │\n",
       "│ 70684   │\n",
       "│ 70385   │\n",
       "│ …       │\n",
       "│ 69524   │\n",
       "│ 69659   │\n",
       "│ 69581   │\n",
       "│ 55878   │\n",
       "│ 69406   │\n",
       "└─────────┘"
      ]
     },
     "execution_count": 29,
     "metadata": {},
     "output_type": "execute_result"
    }
   ],
   "source": [
    "df3 = df2.filter((pl.col(\"model name\") == \"ep-20250531134931-xwct7\") & (pl.col(\"abandon_prompt\") == \"No\") & (pl.col(\"intervention rounds\") > 0))\n",
    "df3.select(pl.col(\"task id\")).unique()"
   ]
  },
  {
   "cell_type": "code",
   "execution_count": 30,
   "metadata": {},
   "outputs": [
    {
     "data": {
      "text/html": [
       "<div><style>\n",
       ".dataframe > thead > tr,\n",
       ".dataframe > tbody > tr {\n",
       "  text-align: right;\n",
       "  white-space: pre-wrap;\n",
       "}\n",
       "</style>\n",
       "<small>shape: (470, 1)</small><table border=\"1\" class=\"dataframe\"><thead><tr><th>task id</th></tr><tr><td>str</td></tr></thead><tbody><tr><td>&quot;55709&quot;</td></tr><tr><td>&quot;69347&quot;</td></tr><tr><td>&quot;69466&quot;</td></tr><tr><td>&quot;66670&quot;</td></tr><tr><td>&quot;70596&quot;</td></tr><tr><td>&hellip;</td></tr><tr><td>&quot;70451&quot;</td></tr><tr><td>&quot;70417&quot;</td></tr><tr><td>&quot;70523&quot;</td></tr><tr><td>&quot;69788&quot;</td></tr><tr><td>&quot;70520&quot;</td></tr></tbody></table></div>"
      ],
      "text/plain": [
       "shape: (470, 1)\n",
       "┌─────────┐\n",
       "│ task id │\n",
       "│ ---     │\n",
       "│ str     │\n",
       "╞═════════╡\n",
       "│ 55709   │\n",
       "│ 69347   │\n",
       "│ 69466   │\n",
       "│ 66670   │\n",
       "│ 70596   │\n",
       "│ …       │\n",
       "│ 70451   │\n",
       "│ 70417   │\n",
       "│ 70523   │\n",
       "│ 69788   │\n",
       "│ 70520   │\n",
       "└─────────┘"
      ]
     },
     "execution_count": 30,
     "metadata": {},
     "output_type": "execute_result"
    }
   ],
   "source": [
    "# find unique based on task id\n",
    "df3.select(pl.col(\"task id\")).unique()"
   ]
  },
  {
   "cell_type": "code",
   "execution_count": null,
   "metadata": {},
   "outputs": [],
   "source": []
  }
 ],
 "metadata": {
  "kernelspec": {
   "display_name": ".venv",
   "language": "python",
   "name": "python3"
  },
  "language_info": {
   "codemirror_mode": {
    "name": "ipython",
    "version": 3
   },
   "file_extension": ".py",
   "mimetype": "text/x-python",
   "name": "python",
   "nbconvert_exporter": "python",
   "pygments_lexer": "ipython3",
   "version": "3.10.17"
  }
 },
 "nbformat": 4,
 "nbformat_minor": 2
}
