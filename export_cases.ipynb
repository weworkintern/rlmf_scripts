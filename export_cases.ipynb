{
 "cells": [
  {
   "cell_type": "markdown",
   "id": "47151bd3",
   "metadata": {},
   "source": [
    "## Abandoned Cases"
   ]
  },
  {
   "cell_type": "code",
   "execution_count": 2,
   "id": "e7f24e14",
   "metadata": {},
   "outputs": [
    {
     "data": {
      "text/plain": [
       "(1733, 28)"
      ]
     },
     "execution_count": 2,
     "metadata": {},
     "output_type": "execute_result"
    }
   ],
   "source": [
    "import polars as pl\n",
    "import glob\n",
    "import os\n",
    "\n",
    "DATA_DIRECTORY = './data/ALL'\n",
    "\n",
    "json_files = glob.glob(os.path.join(DATA_DIRECTORY, '**', '*.json'), recursive=True)\n",
    "\n",
    "df = pl.concat([pl.read_json(file) for file in json_files], how=\"diagonal_relaxed\")\n",
    "df.shape"
   ]
  },
  {
   "cell_type": "code",
   "execution_count": null,
   "id": "9c402792",
   "metadata": {},
   "outputs": [],
   "source": [
    "df_abandoned = df.filter(pl.col(\"abandon_prompt\") == \"Yes\").unique(subset=[\"task id\"])\n",
    "df_abandoned.write_ndjson(\"data/250715_abandoned_all.jsonl\")"
   ]
  },
  {
   "cell_type": "code",
   "execution_count": 15,
   "id": "ce46949c",
   "metadata": {},
   "outputs": [
    {
     "data": {
      "text/html": [
       "<div><style>\n",
       ".dataframe > thead > tr,\n",
       ".dataframe > tbody > tr {\n",
       "  text-align: right;\n",
       "  white-space: pre-wrap;\n",
       "}\n",
       "</style>\n",
       "<small>shape: (3, 1)</small><table border=\"1\" class=\"dataframe\"><thead><tr><th>model name</th></tr><tr><td>str</td></tr></thead><tbody><tr><td>&quot;ep-20250312111804-p4w5h&quot;</td></tr><tr><td>&quot;ep-20250531134931-xwct7&quot;</td></tr><tr><td>&quot;ep-20250418145052-bss5p&quot;</td></tr></tbody></table></div>"
      ],
      "text/plain": [
       "shape: (3, 1)\n",
       "┌─────────────────────────┐\n",
       "│ model name              │\n",
       "│ ---                     │\n",
       "│ str                     │\n",
       "╞═════════════════════════╡\n",
       "│ ep-20250312111804-p4w5h │\n",
       "│ ep-20250531134931-xwct7 │\n",
       "│ ep-20250418145052-bss5p │\n",
       "└─────────────────────────┘"
      ]
     },
     "execution_count": 15,
     "metadata": {},
     "output_type": "execute_result"
    }
   ],
   "source": [
    "df.select(\"model name\").unique()"
   ]
  },
  {
   "cell_type": "code",
   "execution_count": 21,
   "id": "5c225d63",
   "metadata": {},
   "outputs": [
    {
     "name": "stdout",
     "output_type": "stream",
     "text": [
      "ep-20250312111804-p4w5h: 380\n",
      "ep-20250418145052-bss5p: 92\n",
      "ep-20250531134931-xwct7: 144\n"
     ]
    }
   ],
   "source": [
    "print(\"ep-20250312111804-p4w5h: \" + str(df_abandoned.filter(pl.col(\"model name\") == \"ep-20250312111804-p4w5h\").shape[0]))\n",
    "print(\"ep-20250418145052-bss5p: \" + str(df_abandoned.filter(pl.col(\"model name\") == \"ep-20250418145052-bss5p\").shape[0]))\n",
    "print(\"ep-20250531134931-xwct7: \" + str(df_abandoned.filter(pl.col(\"model name\") == \"ep-20250531134931-xwct7\").shape[0]))\n"
   ]
  },
  {
   "cell_type": "markdown",
   "id": "298f5ef0",
   "metadata": {},
   "source": [
    "## Effective Cases"
   ]
  },
  {
   "cell_type": "code",
   "execution_count": 23,
   "id": "a7b2fa46",
   "metadata": {},
   "outputs": [
    {
     "data": {
      "text/plain": [
       "(811, 28)"
      ]
     },
     "execution_count": 23,
     "metadata": {},
     "output_type": "execute_result"
    }
   ],
   "source": [
    "df_effective = df.filter((pl.col(\"abandon_prompt\") == \"No\") & (pl.col(\"intervention rounds\") > 0))\n",
    "df_effective.shape"
   ]
  },
  {
   "cell_type": "code",
   "execution_count": 30,
   "id": "8b59deb1",
   "metadata": {},
   "outputs": [
    {
     "name": "stdout",
     "output_type": "stream",
     "text": [
      "p4w5h: 159\n",
      "bss5p: 182\n",
      "xwct7: 470\n"
     ]
    }
   ],
   "source": [
    "print(\"p4w5h: \" + str(df_effective.filter(pl.col(\"model name\") == \"ep-20250312111804-p4w5h\").shape[0]))\n",
    "print(\"bss5p: \" + str(df_effective.filter(pl.col(\"model name\") == \"ep-20250418145052-bss5p\").shape[0]))\n",
    "print(\"xwct7: \" + str(df_effective.filter(pl.col(\"model name\") == \"ep-20250531134931-xwct7\").shape[0]))"
   ]
  },
  {
   "cell_type": "code",
   "execution_count": 28,
   "id": "731e79d7",
   "metadata": {},
   "outputs": [],
   "source": [
    "df_effective.unique(subset=[\"task id\"]).write_ndjson(\"data/250715_rlmf_effective_all.jsonl\")"
   ]
  },
  {
   "cell_type": "markdown",
   "id": "921762f3",
   "metadata": {},
   "source": []
  },
  {
   "cell_type": "code",
   "execution_count": null,
   "id": "551df67d",
   "metadata": {},
   "outputs": [],
   "source": []
  }
 ],
 "metadata": {
  "kernelspec": {
   "display_name": ".venv",
   "language": "python",
   "name": "python3"
  },
  "language_info": {
   "codemirror_mode": {
    "name": "ipython",
    "version": 3
   },
   "file_extension": ".py",
   "mimetype": "text/x-python",
   "name": "python",
   "nbconvert_exporter": "python",
   "pygments_lexer": "ipython3",
   "version": "3.10.17"
  }
 },
 "nbformat": 4,
 "nbformat_minor": 5
}
