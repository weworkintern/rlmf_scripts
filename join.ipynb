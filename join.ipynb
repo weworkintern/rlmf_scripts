{
 "cells": [
  {
   "cell_type": "code",
   "execution_count": 13,
   "id": "1003109e",
   "metadata": {},
   "outputs": [],
   "source": [
    "import polars as pl\n",
    "\n",
    "b1 = pl.read_json(\"data/RLMF 25062025_24_V2_50_1.json\")\n",
    "b2 = pl.read_json(\"data/RLMF 25062025_24_V2_50_2.json\")\n",
    "\n",
    "bt = pl.concat([b1, b2], how=\"diagonal_relaxed\")\n",
    "bt.write_json(\"data/RLMF 25062025_24_V2_50.json\")\n"
   ]
  },
  {
   "cell_type": "code",
   "execution_count": null,
   "id": "742552f2",
   "metadata": {},
   "outputs": [],
   "source": []
  }
 ],
 "metadata": {
  "kernelspec": {
   "display_name": ".venv",
   "language": "python",
   "name": "python3"
  },
  "language_info": {
   "codemirror_mode": {
    "name": "ipython",
    "version": 3
   },
   "file_extension": ".py",
   "mimetype": "text/x-python",
   "name": "python",
   "nbconvert_exporter": "python",
   "pygments_lexer": "ipython3",
   "version": "3.10.17"
  }
 },
 "nbformat": 4,
 "nbformat_minor": 5
}
