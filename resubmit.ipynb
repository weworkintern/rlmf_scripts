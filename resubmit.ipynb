{
 "cells": [
  {
   "cell_type": "code",
   "execution_count": 1,
   "metadata": {},
   "outputs": [
    {
     "data": {
      "text/html": [
       "<div><style>\n",
       ".dataframe > thead > tr,\n",
       ".dataframe > tbody > tr {\n",
       "  text-align: right;\n",
       "  white-space: pre-wrap;\n",
       "}\n",
       "</style>\n",
       "<small>shape: (265, 26)</small><table border=\"1\" class=\"dataframe\"><thead><tr><th>task id</th><th>trainer id</th><th>model name</th><th>user prompt</th><th>system prompt</th><th>intervene_system_prompt</th><th>intervene prompt</th><th>ground_truth_answer</th><th>abandon_prompt</th><th>abandon_prompt_reason</th><th>abandon_prompt_explanation</th><th>initial_reasoning</th><th>response</th><th>final_answer</th><th>temperature</th><th>total_tokens</th><th>intervention rounds</th><th>CoT quality</th><th>Model performance classification</th><th>remarks</th><th>question_id</th><th>level</th><th>codeforces_submission_id</th><th>programming_language</th><th>ACC</th><th>total_latency (ms)</th></tr><tr><td>i64</td><td>i64</td><td>str</td><td>str</td><td>str</td><td>str</td><td>str</td><td>str</td><td>str</td><td>str</td><td>str</td><td>str</td><td>str</td><td>str</td><td>i64</td><td>i64</td><td>i64</td><td>str</td><td>str</td><td>str</td><td>str</td><td>str</td><td>i64</td><td>str</td><td>f64</td><td>i64</td></tr></thead><tbody><tr><td>69353</td><td>305</td><td>&quot;ep-20250531134931-xwct7&quot;</td><td>&quot;Solving the given programming …</td><td>&quot;You are an expert problem solv…</td><td>&quot;You are an expert problem solv…</td><td>&quot;You are an expert problem solv…</td><td>&quot;#include &lt;iostream&gt;\\n#include …</td><td>&quot;No&quot;</td><td>null</td><td>null</td><td>&quot;\\\\&quot;\\\\\\\\nGot it, let&#x27;s try to s…</td><td>&quot;\\\\&quot;\\\\\\\\nGot it, let&#x27;s try to s…</td><td>&quot;To solve this problem, we need…</td><td>1</td><td>1848</td><td>6</td><td>&quot;Minor Flaws&quot;</td><td>&quot;Model response is incorrect bu…</td><td>&quot;{&#x27;remarks&#x27;: [{&#x27;intervene_index…</td><td>&quot;Codeforces/859F&quot;</td><td>null</td><td>326100781</td><td>&quot;C++&quot;</td><td>null</td><td>-1</td></tr><tr><td>69447</td><td>170</td><td>&quot;ep-20250531134931-xwct7&quot;</td><td>&quot;Solving the given programming …</td><td>&quot;You are an expert problem solv…</td><td>&quot;You are an expert problem solv…</td><td>&quot;You are an expert problem solv…</td><td>&quot;#include &lt;algorithm&gt;\\n#include…</td><td>&quot;No&quot;</td><td>null</td><td>null</td><td>&quot;\\\\nGot it, let&#x27;s try to solve …</td><td>&quot;\\\\nGot it, let&#x27;s try to solve …</td><td>&quot;To solve this problem, we need…</td><td>1</td><td>2736</td><td>27</td><td>&quot;Minor Flaws&quot;</td><td>&quot;Model response is incorrect bu…</td><td>&quot;{&#x27;remarks&#x27;: [{&#x27;intervene_index…</td><td>&quot;Codeforces/1374E2&quot;</td><td>&quot;0&quot;</td><td>326083608</td><td>&quot;C++&quot;</td><td>0.0</td><td>-1</td></tr><tr><td>69517</td><td>388</td><td>&quot;ep-20250531134931-xwct7&quot;</td><td>&quot;Solving the given programming …</td><td>&quot;You are an expert problem solv…</td><td>&quot;You are an expert problem solv…</td><td>&quot;None&quot;</td><td>&quot;None&quot;</td><td>&quot;No&quot;</td><td>null</td><td>null</td><td>&quot;Got it, let&#x27;s refocus on the c…</td><td>&quot;Got it, let&#x27;s refocus on the c…</td><td>&quot;To solve this problem, we need…</td><td>1</td><td>694</td><td>0</td><td>&quot;Good&quot;</td><td>&quot;Model response is correct with…</td><td>&quot;{&#x27;remarks&#x27;: []}&quot;</td><td>&quot;Codeforces/1688C&quot;</td><td>null</td><td>326163453</td><td>&quot;C++&quot;</td><td>0.125</td><td>-1</td></tr><tr><td>69534</td><td>376</td><td>&quot;ep-20250531134931-xwct7&quot;</td><td>&quot;Solving the given programming …</td><td>&quot;You are an expert problem solv…</td><td>&quot;You are an expert problem solv…</td><td>&quot;You are an expert problem solv…</td><td>&quot;None&quot;</td><td>&quot;No&quot;</td><td>null</td><td>null</td><td>&quot;\\\\nGot it, let&#x27;s try to figure…</td><td>&quot;Got it, let&#x27;s try to figure ou…</td><td>&quot;To solve this problem, we need…</td><td>1</td><td>953</td><td>2</td><td>&quot;Good&quot;</td><td>&quot;Model response is incorrect bu…</td><td>&quot;{&#x27;remarks&#x27;: [{&#x27;intervene_index…</td><td>&quot;Codeforces/1479B2&quot;</td><td>&quot;0&quot;</td><td>326105190</td><td>&quot;C++&quot;</td><td>0.0</td><td>-1</td></tr><tr><td>69581</td><td>555</td><td>&quot;ep-20250531134931-xwct7&quot;</td><td>&quot;Solving the given programming …</td><td>&quot;You are an expert problem solv…</td><td>&quot;You are an expert problem solv…</td><td>&quot;You are an expert problem solv…</td><td>&quot;```cpp#include &lt;iostream&gt;\\n#in…</td><td>&quot;No&quot;</td><td>null</td><td>null</td><td>&quot;\\\\nGot it, let&#x27;s try to solve …</td><td>&quot;Got it, let&#x27;s try to solve thi…</td><td>&quot;To solve this problem, we need…</td><td>1</td><td>1828</td><td>3</td><td>&quot;Good&quot;</td><td>&quot;Model response is incorrect bu…</td><td>&quot;{&#x27;remarks&#x27;: [{&#x27;intervene_index…</td><td>&quot;Codeforces/1182F&quot;</td><td>&quot;0&quot;</td><td>325945459</td><td>&quot;C++&quot;</td><td>0.0</td><td>-1</td></tr><tr><td>&hellip;</td><td>&hellip;</td><td>&hellip;</td><td>&hellip;</td><td>&hellip;</td><td>&hellip;</td><td>&hellip;</td><td>&hellip;</td><td>&hellip;</td><td>&hellip;</td><td>&hellip;</td><td>&hellip;</td><td>&hellip;</td><td>&hellip;</td><td>&hellip;</td><td>&hellip;</td><td>&hellip;</td><td>&hellip;</td><td>&hellip;</td><td>&hellip;</td><td>&hellip;</td><td>&hellip;</td><td>&hellip;</td><td>&hellip;</td><td>&hellip;</td><td>&hellip;</td></tr><tr><td>70611</td><td>75</td><td>&quot;ep-20250531134931-xwct7&quot;</td><td>&quot;Solving the given programming …</td><td>&quot;You are an expert problem solv…</td><td>&quot;You are an expert problem solv…</td><td>&quot;You are an expert problem solv…</td><td>&quot;#include &lt;bits/stdc++.h&gt;\\nusin…</td><td>&quot;No&quot;</td><td>null</td><td>null</td><td>&quot;\\\\&quot;Got it, let&#x27;s try to solve …</td><td>&quot;\\\\&quot;Got it, let&#x27;s try to solve …</td><td>&quot;To solve this problem, we need…</td><td>1</td><td>1397</td><td>2</td><td>&quot;Good&quot;</td><td>&quot;Model response is incorrect bu…</td><td>&quot;{&#x27;remarks&#x27;: [{&#x27;intervene_index…</td><td>&quot;Codeforces/8D&quot;</td><td>null</td><td>326265720</td><td>&quot;C++&quot;</td><td>0.0</td><td>-1</td></tr><tr><td>70613</td><td>157</td><td>&quot;ep-20250531134931-xwct7&quot;</td><td>&quot;Solving the given programming …</td><td>&quot;You are an expert problem solv…</td><td>&quot;You are an expert problem solv…</td><td>&quot;You are an expert problem solv…</td><td>&quot;None&quot;</td><td>&quot;No&quot;</td><td>null</td><td>null</td><td>&quot;\\\\&quot;Got it, let&#x27;s try to solve …</td><td>&quot;\\\\&quot;Got it, let&#x27;s try to solve …</td><td>&quot;To solve this problem, we need…</td><td>1</td><td>1300</td><td>1</td><td>&quot;Good&quot;</td><td>&quot;Model response is incorrect bu…</td><td>&quot;{&#x27;remarks&#x27;: [{&#x27;intervene_index…</td><td>&quot;Codeforces/351C&quot;</td><td>null</td><td>326280958</td><td>&quot;C++&quot;</td><td>0.125</td><td>-1</td></tr><tr><td>70620</td><td>160</td><td>&quot;ep-20250531134931-xwct7&quot;</td><td>&quot;Solving the given programming …</td><td>&quot;You are an expert problem solv…</td><td>&quot;You are an expert problem solv…</td><td>&quot;You are an expert problem solv…</td><td>&quot;None&quot;</td><td>&quot;No&quot;</td><td>null</td><td>null</td><td>&quot;\\\\&quot;Got it, let&#x27;s try to solve …</td><td>&quot;\\\\&quot;Got it, let&#x27;s try to solve …</td><td>&quot;To solve this problem, we need…</td><td>1</td><td>1782</td><td>2</td><td>&quot;Good&quot;</td><td>&quot;Model response is incorrect bu…</td><td>&quot;{&#x27;remarks&#x27;: [{&#x27;intervene_index…</td><td>&quot;Codeforces/660F&quot;</td><td>null</td><td>326270962</td><td>&quot;C++&quot;</td><td>0.125</td><td>-1</td></tr><tr><td>70622</td><td>199</td><td>&quot;ep-20250531134931-xwct7&quot;</td><td>&quot;Solving the given programming …</td><td>&quot;You are an expert problem solv…</td><td>&quot;You are an expert problem solv…</td><td>&quot;You are an expert problem solv…</td><td>&quot;None&quot;</td><td>&quot;No&quot;</td><td>null</td><td>null</td><td>&quot;\\\\&quot;\\\\\\\\\\\\&quot;\\\\\\\\\\\\\\\\nGot it, let…</td><td>&quot;\\\\&quot;\\\\\\\\\\\\&quot;\\\\\\\\\\\\\\\\nGot it, let…</td><td>&quot;To solve this problem, we need…</td><td>1</td><td>1138</td><td>2</td><td>&quot;Good&quot;</td><td>&quot;Model response is incorrect bu…</td><td>&quot;{&#x27;remarks&#x27;: [{&#x27;intervene_index…</td><td>&quot;Codeforces/1997F&quot;</td><td>null</td><td>326280780</td><td>&quot;C++&quot;</td><td>0.0625</td><td>-1</td></tr><tr><td>70628</td><td>141</td><td>&quot;ep-20250531134931-xwct7&quot;</td><td>&quot;Solving the given programming …</td><td>&quot;You are an expert problem solv…</td><td>&quot;You are an expert problem solv…</td><td>&quot;You are an expert problem solv…</td><td>&quot;None&quot;</td><td>&quot;No&quot;</td><td>null</td><td>null</td><td>&quot;\\\\&quot;\\\\\\\\nGot it, let&#x27;s try to s…</td><td>&quot;\\\\&quot;\\\\\\\\nGot it, let&#x27;s try to s…</td><td>&quot;To solve this problem, we need…</td><td>1</td><td>864</td><td>6</td><td>&quot;Good&quot;</td><td>&quot;Model response is incorrect bu…</td><td>&quot;{&#x27;remarks&#x27;: [{&#x27;intervene_index…</td><td>&quot;Codeforces/1172A&quot;</td><td>null</td><td>326228764</td><td>&quot;C++&quot;</td><td>0.125</td><td>-1</td></tr></tbody></table></div>"
      ],
      "text/plain": [
       "shape: (265, 26)\n",
       "┌─────────┬────────────┬────────────┬────────────┬───┬────────────┬───────────┬────────┬───────────┐\n",
       "│ task id ┆ trainer id ┆ model name ┆ user       ┆ … ┆ codeforces ┆ programmi ┆ ACC    ┆ total_lat │\n",
       "│ ---     ┆ ---        ┆ ---        ┆ prompt     ┆   ┆ _submissio ┆ ng_langua ┆ ---    ┆ ency (ms) │\n",
       "│ i64     ┆ i64        ┆ str        ┆ ---        ┆   ┆ n_id       ┆ ge        ┆ f64    ┆ ---       │\n",
       "│         ┆            ┆            ┆ str        ┆   ┆ ---        ┆ ---       ┆        ┆ i64       │\n",
       "│         ┆            ┆            ┆            ┆   ┆ i64        ┆ str       ┆        ┆           │\n",
       "╞═════════╪════════════╪════════════╪════════════╪═══╪════════════╪═══════════╪════════╪═══════════╡\n",
       "│ 69353   ┆ 305        ┆ ep-2025053 ┆ Solving    ┆ … ┆ 326100781  ┆ C++       ┆ null   ┆ -1        │\n",
       "│         ┆            ┆ 1134931-xw ┆ the given  ┆   ┆            ┆           ┆        ┆           │\n",
       "│         ┆            ┆ ct7        ┆ programmin ┆   ┆            ┆           ┆        ┆           │\n",
       "│         ┆            ┆            ┆ g …        ┆   ┆            ┆           ┆        ┆           │\n",
       "│ 69447   ┆ 170        ┆ ep-2025053 ┆ Solving    ┆ … ┆ 326083608  ┆ C++       ┆ 0.0    ┆ -1        │\n",
       "│         ┆            ┆ 1134931-xw ┆ the given  ┆   ┆            ┆           ┆        ┆           │\n",
       "│         ┆            ┆ ct7        ┆ programmin ┆   ┆            ┆           ┆        ┆           │\n",
       "│         ┆            ┆            ┆ g …        ┆   ┆            ┆           ┆        ┆           │\n",
       "│ 69517   ┆ 388        ┆ ep-2025053 ┆ Solving    ┆ … ┆ 326163453  ┆ C++       ┆ 0.125  ┆ -1        │\n",
       "│         ┆            ┆ 1134931-xw ┆ the given  ┆   ┆            ┆           ┆        ┆           │\n",
       "│         ┆            ┆ ct7        ┆ programmin ┆   ┆            ┆           ┆        ┆           │\n",
       "│         ┆            ┆            ┆ g …        ┆   ┆            ┆           ┆        ┆           │\n",
       "│ 69534   ┆ 376        ┆ ep-2025053 ┆ Solving    ┆ … ┆ 326105190  ┆ C++       ┆ 0.0    ┆ -1        │\n",
       "│         ┆            ┆ 1134931-xw ┆ the given  ┆   ┆            ┆           ┆        ┆           │\n",
       "│         ┆            ┆ ct7        ┆ programmin ┆   ┆            ┆           ┆        ┆           │\n",
       "│         ┆            ┆            ┆ g …        ┆   ┆            ┆           ┆        ┆           │\n",
       "│ 69581   ┆ 555        ┆ ep-2025053 ┆ Solving    ┆ … ┆ 325945459  ┆ C++       ┆ 0.0    ┆ -1        │\n",
       "│         ┆            ┆ 1134931-xw ┆ the given  ┆   ┆            ┆           ┆        ┆           │\n",
       "│         ┆            ┆ ct7        ┆ programmin ┆   ┆            ┆           ┆        ┆           │\n",
       "│         ┆            ┆            ┆ g …        ┆   ┆            ┆           ┆        ┆           │\n",
       "│ …       ┆ …          ┆ …          ┆ …          ┆ … ┆ …          ┆ …         ┆ …      ┆ …         │\n",
       "│ 70611   ┆ 75         ┆ ep-2025053 ┆ Solving    ┆ … ┆ 326265720  ┆ C++       ┆ 0.0    ┆ -1        │\n",
       "│         ┆            ┆ 1134931-xw ┆ the given  ┆   ┆            ┆           ┆        ┆           │\n",
       "│         ┆            ┆ ct7        ┆ programmin ┆   ┆            ┆           ┆        ┆           │\n",
       "│         ┆            ┆            ┆ g …        ┆   ┆            ┆           ┆        ┆           │\n",
       "│ 70613   ┆ 157        ┆ ep-2025053 ┆ Solving    ┆ … ┆ 326280958  ┆ C++       ┆ 0.125  ┆ -1        │\n",
       "│         ┆            ┆ 1134931-xw ┆ the given  ┆   ┆            ┆           ┆        ┆           │\n",
       "│         ┆            ┆ ct7        ┆ programmin ┆   ┆            ┆           ┆        ┆           │\n",
       "│         ┆            ┆            ┆ g …        ┆   ┆            ┆           ┆        ┆           │\n",
       "│ 70620   ┆ 160        ┆ ep-2025053 ┆ Solving    ┆ … ┆ 326270962  ┆ C++       ┆ 0.125  ┆ -1        │\n",
       "│         ┆            ┆ 1134931-xw ┆ the given  ┆   ┆            ┆           ┆        ┆           │\n",
       "│         ┆            ┆ ct7        ┆ programmin ┆   ┆            ┆           ┆        ┆           │\n",
       "│         ┆            ┆            ┆ g …        ┆   ┆            ┆           ┆        ┆           │\n",
       "│ 70622   ┆ 199        ┆ ep-2025053 ┆ Solving    ┆ … ┆ 326280780  ┆ C++       ┆ 0.0625 ┆ -1        │\n",
       "│         ┆            ┆ 1134931-xw ┆ the given  ┆   ┆            ┆           ┆        ┆           │\n",
       "│         ┆            ┆ ct7        ┆ programmin ┆   ┆            ┆           ┆        ┆           │\n",
       "│         ┆            ┆            ┆ g …        ┆   ┆            ┆           ┆        ┆           │\n",
       "│ 70628   ┆ 141        ┆ ep-2025053 ┆ Solving    ┆ … ┆ 326228764  ┆ C++       ┆ 0.125  ┆ -1        │\n",
       "│         ┆            ┆ 1134931-xw ┆ the given  ┆   ┆            ┆           ┆        ┆           │\n",
       "│         ┆            ┆ ct7        ┆ programmin ┆   ┆            ┆           ┆        ┆           │\n",
       "│         ┆            ┆            ┆ g …        ┆   ┆            ┆           ┆        ┆           │\n",
       "└─────────┴────────────┴────────────┴────────────┴───┴────────────┴───────────┴────────┴───────────┘"
      ]
     },
     "execution_count": 1,
     "metadata": {},
     "output_type": "execute_result"
    }
   ],
   "source": [
    "import polars as pl\n",
    "import glob\n",
    "import os\n",
    "\n",
    "DATA_DIRECTORY = './data/ALL'\n",
    "\n",
    "json_files = glob.glob(os.path.join(DATA_DIRECTORY, '**', '*.json'), recursive=True)\n",
    "\n",
    "df = pl.concat([pl.read_json(file) for file in json_files], how=\"diagonal_relaxed\")\n",
    "df"
   ]
  },
  {
   "cell_type": "code",
   "execution_count": 2,
   "metadata": {},
   "outputs": [
    {
     "data": {
      "text/html": [
       "<div><style>\n",
       ".dataframe > thead > tr,\n",
       ".dataframe > tbody > tr {\n",
       "  text-align: right;\n",
       "  white-space: pre-wrap;\n",
       "}\n",
       "</style>\n",
       "<small>shape: (337, 26)</small><table border=\"1\" class=\"dataframe\"><thead><tr><th>task id</th><th>trainer id</th><th>model name</th><th>user prompt</th><th>system prompt</th><th>intervene_system_prompt</th><th>intervene prompt</th><th>ground_truth_answer</th><th>abandon_prompt</th><th>abandon_prompt_reason</th><th>initial_reasoning</th><th>response</th><th>final_answer</th><th>temperature</th><th>total_tokens</th><th>intervention rounds</th><th>CoT quality</th><th>Model performance classification</th><th>remarks</th><th>question_id</th><th>level</th><th>codeforces_submission_id</th><th>programming_language</th><th>ACC</th><th>total_latency (ms)</th><th>initial_response</th></tr><tr><td>str</td><td>i64</td><td>str</td><td>str</td><td>str</td><td>str</td><td>str</td><td>str</td><td>str</td><td>str</td><td>str</td><td>str</td><td>str</td><td>i64</td><td>i64</td><td>i64</td><td>str</td><td>str</td><td>str</td><td>str</td><td>str</td><td>str</td><td>str</td><td>str</td><td>i64</td><td>str</td></tr></thead><tbody><tr><td>&quot;60361&quot;</td><td>204</td><td>&quot;ep-20250312111804-p4w5h&quot;</td><td>&quot;Solving the given programming …</td><td>&quot;You are an expert problem solv…</td><td>&quot;You are an expert problem solv…</td><td>&quot;You are an expert problem solv…</td><td>&quot;```cpp\\n#include&lt;bits/stdc++.h…</td><td>&quot;Yes&quot;</td><td>&quot;Exceeded global intervention c…</td><td>&quot;Um, I need to solve this probl…</td><td>&quot;Um, I need to solve this probl…</td><td>&quot;To solve this problem, we need…</td><td>1</td><td>663</td><td>15</td><td>&quot;Faulty&quot;</td><td>&quot;Model response is incorrect an…</td><td>&quot;{&#x27;remarks&#x27;: [{&#x27;intervene_index…</td><td>&quot;Codeforces/417E&quot;</td><td>null</td><td>&quot;323736051.0&quot;</td><td>&quot;C++&quot;</td><td>&quot;0.1875&quot;</td><td>1332902</td><td>null</td></tr><tr><td>&quot;66266&quot;</td><td>246</td><td>&quot;ep-20250312111804-p4w5h&quot;</td><td>&quot;Solving the given programming …</td><td>&quot;You are an expert problem solv…</td><td>&quot;You are an expert problem solv…</td><td>&quot;You are an expert problem solv…</td><td>&quot;```cpp\\n#include &lt;bits/stdc++.…</td><td>&quot;Yes&quot;</td><td>&quot;Exceeded local intervention co…</td><td>&quot;Um, let&#x27;s try to figure out th…</td><td>&quot;Um, let&#x27;s try to figure out th…</td><td>&quot;To solve this problem, we need…</td><td>1</td><td>750</td><td>6</td><td>&quot;Faulty&quot;</td><td>&quot;Model response is incorrect an…</td><td>&quot;{&#x27;remarks&#x27;: [{&#x27;intervene_index…</td><td>&quot;Codeforces/1148F&quot;</td><td>null</td><td>&quot;323596879.0&quot;</td><td>&quot;C++&quot;</td><td>&quot;0.0&quot;</td><td>433975</td><td>null</td></tr><tr><td>&quot;66298&quot;</td><td>204</td><td>&quot;ep-20250312111804-p4w5h&quot;</td><td>&quot;Solving the given programming …</td><td>&quot;You are an expert problem solv…</td><td>&quot;You are an expert problem solv…</td><td>&quot;You are an expert problem solv…</td><td>&quot;```cpp\\n#include &lt;bits/stdc++.…</td><td>&quot;Yes&quot;</td><td>&quot;Exceeded global intervention c…</td><td>&quot;Um, let&#x27;s tackle this problem.…</td><td>&quot;Um, let&#x27;s tackle this problem.…</td><td>&quot;To solve this problem, we need…</td><td>1</td><td>695</td><td>15</td><td>&quot;Faulty&quot;</td><td>&quot;Model response is incorrect an…</td><td>&quot;{&#x27;remarks&#x27;: [{&#x27;intervene_index…</td><td>&quot;Codeforces/1003E&quot;</td><td>null</td><td>&quot;323662494.0&quot;</td><td>&quot;C++&quot;</td><td>&quot;0.1875&quot;</td><td>8881333</td><td>null</td></tr><tr><td>&quot;66366&quot;</td><td>170</td><td>&quot;ep-20250312111804-p4w5h&quot;</td><td>&quot;Problem Description\\n\\nYou are…</td><td>&quot;You are an expert problem solv…</td><td>&quot;You are an expert problem solv…</td><td>&quot;You are an expert problem solv…</td><td>&quot;#include &lt;algorithm&gt;\\n#include…</td><td>&quot;Yes&quot;</td><td>&quot;Exceeded global intervention c…</td><td>&quot;Got it, let&#x27;s try to solve thi…</td><td>&quot;Got it, let&#x27;s try to solve thi…</td><td>&quot;To solve this problem, we need…</td><td>1</td><td>1757</td><td>15</td><td>&quot;Faulty&quot;</td><td>&quot;Model response is incorrect an…</td><td>&quot;{&#x27;remarks&#x27;: [{&#x27;intervene_index…</td><td>&quot;Codeforces/1220G&quot;</td><td>null</td><td>&quot;323671339.0&quot;</td><td>&quot;C++&quot;</td><td>&quot;0.0&quot;</td><td>10251219</td><td>null</td></tr><tr><td>&quot;66376&quot;</td><td>281</td><td>&quot;ep-20250312111804-p4w5h&quot;</td><td>&quot;Solving the given programming …</td><td>&quot;You are an expert problem solv…</td><td>&quot;You are an expert problem solv…</td><td>&quot;You are an expert problem solv…</td><td>&quot;#include&lt;bits/stdc++.h&gt;\\n#defi…</td><td>&quot;Yes&quot;</td><td>&quot;Exceeded global intervention c…</td><td>&quot;Got it, let&#x27;s try to solve thi…</td><td>&quot;Got it, let&#x27;s try to solve thi…</td><td>&quot;To solve this problem, we need…</td><td>1</td><td>1177</td><td>15</td><td>&quot;Faulty&quot;</td><td>&quot;Model response is incorrect an…</td><td>&quot;{&#x27;remarks&#x27;: [{&#x27;intervene_index…</td><td>&quot;Codeforces/703C&quot;</td><td>null</td><td>&quot;324029095.0&quot;</td><td>&quot;C++&quot;</td><td>&quot;0.0625&quot;</td><td>1681211</td><td>null</td></tr><tr><td>&hellip;</td><td>&hellip;</td><td>&hellip;</td><td>&hellip;</td><td>&hellip;</td><td>&hellip;</td><td>&hellip;</td><td>&hellip;</td><td>&hellip;</td><td>&hellip;</td><td>&hellip;</td><td>&hellip;</td><td>&hellip;</td><td>&hellip;</td><td>&hellip;</td><td>&hellip;</td><td>&hellip;</td><td>&hellip;</td><td>&hellip;</td><td>&hellip;</td><td>&hellip;</td><td>&hellip;</td><td>&hellip;</td><td>&hellip;</td><td>&hellip;</td><td>&hellip;</td></tr><tr><td>&quot;59962&quot;</td><td>null</td><td>&quot;ep-20250418145052-bss5p&quot;</td><td>&quot;Solving the given programming …</td><td>&quot;You are an expert problem solv…</td><td>&quot;You are an expert problem solv…</td><td>&quot;You are an expert problem solv…</td><td>&quot;```cpp\\n#include &lt;algorithm&gt;\\n…</td><td>&quot;Yes&quot;</td><td>&quot;Exceeded global intervention c…</td><td>null</td><td>&quot;&lt;abandon&gt;Okay, let&#x27;s tackle th…</td><td>&quot;To solve this problem, we need…</td><td>1</td><td>1790</td><td>19</td><td>&quot;Good&quot;</td><td>&quot;Model response is incorrect an…</td><td>&quot;{&#x27;remarks&#x27;: [{&#x27;intervene_index…</td><td>&quot;Codeforces/452E&quot;</td><td>&quot;none&quot;</td><td>&quot;320723048&quot;</td><td>&quot;C++&quot;</td><td>&quot;0.125&quot;</td><td>14060538</td><td>null</td></tr><tr><td>&quot;59976&quot;</td><td>null</td><td>&quot;ep-20250418145052-bss5p&quot;</td><td>&quot;Solving the given programming …</td><td>&quot;You are an expert problem solv…</td><td>&quot;You are an expert problem solv…</td><td>&quot;You are an expert problem solv…</td><td>&quot;```cpp\\n#include &lt;bits/stdc++.…</td><td>&quot;Yes&quot;</td><td>&quot;Exceeded global intervention c…</td><td>null</td><td>&quot;Okay, let&#x27;s try to figure out …</td><td>&quot;To solve this problem, we need…</td><td>1</td><td>880</td><td>14</td><td>&quot;Faulty&quot;</td><td>&quot;Model response is incorrect an…</td><td>&quot;{&#x27;remarks&#x27;: [{&#x27;intervene_index…</td><td>&quot;Codeforces/1179B&quot;</td><td>&quot;none&quot;</td><td>&quot;320535009&quot;</td><td>&quot;C++&quot;</td><td>&quot;0.0&quot;</td><td>2136191</td><td>null</td></tr><tr><td>&quot;60061&quot;</td><td>null</td><td>&quot;ep-20250418145052-bss5p&quot;</td><td>&quot;Solving the given programming …</td><td>&quot;You are an expert problem solv…</td><td>&quot;You are an expert problem solv…</td><td>&quot;You are an expert problem solv…</td><td>&quot;#include&lt;bits/stdc++.h&gt;\\nusing…</td><td>&quot;Yes&quot;</td><td>&quot;Exceeded local intervention co…</td><td>null</td><td>&quot;Okay, let&#x27;s try to figure out …</td><td>&quot;To solve this problem, we need…</td><td>1</td><td>680</td><td>8</td><td>&quot;Faulty&quot;</td><td>&quot;Model response is incorrect an…</td><td>&quot;{&#x27;remarks&#x27;: [{&#x27;intervene_index…</td><td>&quot;Codeforces/1861D&quot;</td><td>&quot;none&quot;</td><td>&quot;320719669&quot;</td><td>&quot;C++&quot;</td><td>&quot;0.0625&quot;</td><td>1812291</td><td>null</td></tr><tr><td>&quot;60069&quot;</td><td>null</td><td>&quot;ep-20250418145052-bss5p&quot;</td><td>&quot;Solving the given programming …</td><td>&quot;You are an expert problem solv…</td><td>&quot;You are an expert problem solv…</td><td>&quot;You are an expert problem solv…</td><td>&quot;#include &lt;bits/stdc++.h&gt;\\nusin…</td><td>&quot;Yes&quot;</td><td>&quot;Exceeded local intervention co…</td><td>null</td><td>&quot;Okay, let&#x27;s try to figure out …</td><td>&quot;To solve this problem, we need…</td><td>1</td><td>947</td><td>6</td><td>&quot;Minor Flaws&quot;</td><td>&quot;Model response is incorrect an…</td><td>&quot;{&#x27;remarks&#x27;: [{&#x27;intervene_index…</td><td>&quot;Codeforces/1689C&quot;</td><td>&quot;none&quot;</td><td>&quot;320747477&quot;</td><td>&quot;C++&quot;</td><td>&quot;0.1875&quot;</td><td>2330668</td><td>null</td></tr><tr><td>&quot;60106&quot;</td><td>null</td><td>&quot;ep-20250418145052-bss5p&quot;</td><td>&quot;Solving the given programming …</td><td>&quot;You are an expert problem solv…</td><td>&quot;You are an expert problem solv…</td><td>&quot;You are an expert problem solv…</td><td>&quot;#include &lt;iostream&gt;\\n#include …</td><td>&quot;Yes&quot;</td><td>&quot;Exceeded local intervention co…</td><td>null</td><td>&quot;The task is to find the minima…</td><td>&quot;To solve this problem, we need…</td><td>1</td><td>1410</td><td>6</td><td>&quot;Faulty&quot;</td><td>&quot;Model response is incorrect an…</td><td>&quot;{&#x27;remarks&#x27;: [{&#x27;intervene_index…</td><td>&quot;Codeforces/440C&quot;</td><td>&quot;none&quot;</td><td>&quot;320720700&quot;</td><td>&quot;C++&quot;</td><td>&quot;0.125&quot;</td><td>1409678</td><td>null</td></tr></tbody></table></div>"
      ],
      "text/plain": [
       "shape: (337, 26)\n",
       "┌─────────┬────────────┬────────────┬────────────┬───┬────────────┬────────┬───────────┬───────────┐\n",
       "│ task id ┆ trainer id ┆ model name ┆ user       ┆ … ┆ programmin ┆ ACC    ┆ total_lat ┆ initial_r │\n",
       "│ ---     ┆ ---        ┆ ---        ┆ prompt     ┆   ┆ g_language ┆ ---    ┆ ency (ms) ┆ esponse   │\n",
       "│ str     ┆ i64        ┆ str        ┆ ---        ┆   ┆ ---        ┆ str    ┆ ---       ┆ ---       │\n",
       "│         ┆            ┆            ┆ str        ┆   ┆ str        ┆        ┆ i64       ┆ str       │\n",
       "╞═════════╪════════════╪════════════╪════════════╪═══╪════════════╪════════╪═══════════╪═══════════╡\n",
       "│ 60361   ┆ 204        ┆ ep-2025031 ┆ Solving    ┆ … ┆ C++        ┆ 0.1875 ┆ 1332902   ┆ null      │\n",
       "│         ┆            ┆ 2111804-p4 ┆ the given  ┆   ┆            ┆        ┆           ┆           │\n",
       "│         ┆            ┆ w5h        ┆ programmin ┆   ┆            ┆        ┆           ┆           │\n",
       "│         ┆            ┆            ┆ g …        ┆   ┆            ┆        ┆           ┆           │\n",
       "│ 66266   ┆ 246        ┆ ep-2025031 ┆ Solving    ┆ … ┆ C++        ┆ 0.0    ┆ 433975    ┆ null      │\n",
       "│         ┆            ┆ 2111804-p4 ┆ the given  ┆   ┆            ┆        ┆           ┆           │\n",
       "│         ┆            ┆ w5h        ┆ programmin ┆   ┆            ┆        ┆           ┆           │\n",
       "│         ┆            ┆            ┆ g …        ┆   ┆            ┆        ┆           ┆           │\n",
       "│ 66298   ┆ 204        ┆ ep-2025031 ┆ Solving    ┆ … ┆ C++        ┆ 0.1875 ┆ 8881333   ┆ null      │\n",
       "│         ┆            ┆ 2111804-p4 ┆ the given  ┆   ┆            ┆        ┆           ┆           │\n",
       "│         ┆            ┆ w5h        ┆ programmin ┆   ┆            ┆        ┆           ┆           │\n",
       "│         ┆            ┆            ┆ g …        ┆   ┆            ┆        ┆           ┆           │\n",
       "│ 66366   ┆ 170        ┆ ep-2025031 ┆ Problem    ┆ … ┆ C++        ┆ 0.0    ┆ 10251219  ┆ null      │\n",
       "│         ┆            ┆ 2111804-p4 ┆ Descriptio ┆   ┆            ┆        ┆           ┆           │\n",
       "│         ┆            ┆ w5h        ┆ n\\n\\nYou   ┆   ┆            ┆        ┆           ┆           │\n",
       "│         ┆            ┆            ┆ are…       ┆   ┆            ┆        ┆           ┆           │\n",
       "│ 66376   ┆ 281        ┆ ep-2025031 ┆ Solving    ┆ … ┆ C++        ┆ 0.0625 ┆ 1681211   ┆ null      │\n",
       "│         ┆            ┆ 2111804-p4 ┆ the given  ┆   ┆            ┆        ┆           ┆           │\n",
       "│         ┆            ┆ w5h        ┆ programmin ┆   ┆            ┆        ┆           ┆           │\n",
       "│         ┆            ┆            ┆ g …        ┆   ┆            ┆        ┆           ┆           │\n",
       "│ …       ┆ …          ┆ …          ┆ …          ┆ … ┆ …          ┆ …      ┆ …         ┆ …         │\n",
       "│ 59962   ┆ null       ┆ ep-2025041 ┆ Solving    ┆ … ┆ C++        ┆ 0.125  ┆ 14060538  ┆ null      │\n",
       "│         ┆            ┆ 8145052-bs ┆ the given  ┆   ┆            ┆        ┆           ┆           │\n",
       "│         ┆            ┆ s5p        ┆ programmin ┆   ┆            ┆        ┆           ┆           │\n",
       "│         ┆            ┆            ┆ g …        ┆   ┆            ┆        ┆           ┆           │\n",
       "│ 59976   ┆ null       ┆ ep-2025041 ┆ Solving    ┆ … ┆ C++        ┆ 0.0    ┆ 2136191   ┆ null      │\n",
       "│         ┆            ┆ 8145052-bs ┆ the given  ┆   ┆            ┆        ┆           ┆           │\n",
       "│         ┆            ┆ s5p        ┆ programmin ┆   ┆            ┆        ┆           ┆           │\n",
       "│         ┆            ┆            ┆ g …        ┆   ┆            ┆        ┆           ┆           │\n",
       "│ 60061   ┆ null       ┆ ep-2025041 ┆ Solving    ┆ … ┆ C++        ┆ 0.0625 ┆ 1812291   ┆ null      │\n",
       "│         ┆            ┆ 8145052-bs ┆ the given  ┆   ┆            ┆        ┆           ┆           │\n",
       "│         ┆            ┆ s5p        ┆ programmin ┆   ┆            ┆        ┆           ┆           │\n",
       "│         ┆            ┆            ┆ g …        ┆   ┆            ┆        ┆           ┆           │\n",
       "│ 60069   ┆ null       ┆ ep-2025041 ┆ Solving    ┆ … ┆ C++        ┆ 0.1875 ┆ 2330668   ┆ null      │\n",
       "│         ┆            ┆ 8145052-bs ┆ the given  ┆   ┆            ┆        ┆           ┆           │\n",
       "│         ┆            ┆ s5p        ┆ programmin ┆   ┆            ┆        ┆           ┆           │\n",
       "│         ┆            ┆            ┆ g …        ┆   ┆            ┆        ┆           ┆           │\n",
       "│ 60106   ┆ null       ┆ ep-2025041 ┆ Solving    ┆ … ┆ C++        ┆ 0.125  ┆ 1409678   ┆ null      │\n",
       "│         ┆            ┆ 8145052-bs ┆ the given  ┆   ┆            ┆        ┆           ┆           │\n",
       "│         ┆            ┆ s5p        ┆ programmin ┆   ┆            ┆        ┆           ┆           │\n",
       "│         ┆            ┆            ┆ g …        ┆   ┆            ┆        ┆           ┆           │\n",
       "└─────────┴────────────┴────────────┴────────────┴───┴────────────┴────────┴───────────┴───────────┘"
      ]
     },
     "execution_count": 2,
     "metadata": {},
     "output_type": "execute_result"
    }
   ],
   "source": [
    "df_abandoned = df.filter((pl.col(\"abandon_prompt\") == \"Yes\") & (pl.col(\"ACC\").cast(pl.Float64, strict=False).is_not_null()))\n",
    "df_abandoned"
   ]
  },
  {
   "cell_type": "code",
   "execution_count": 3,
   "metadata": {},
   "outputs": [
    {
     "data": {
      "text/html": [
       "<div><style>\n",
       ".dataframe > thead > tr,\n",
       ".dataframe > tbody > tr {\n",
       "  text-align: right;\n",
       "  white-space: pre-wrap;\n",
       "}\n",
       "</style>\n",
       "<small>shape: (1_446, 4)</small><table border=\"1\" class=\"dataframe\"><thead><tr><th>prompt</th><th>id</th><th>labels</th><th>acc</th></tr><tr><td>str</td><td>str</td><td>str</td><td>f64</td></tr></thead><tbody><tr><td>&quot;Solving the given programming …</td><td>&quot;Codeforces/1809C&quot;</td><td>&quot;{&quot;extra&quot;: {&quot;source&quot;: &quot;arnold_d…</td><td>0.125</td></tr><tr><td>&quot;Solving the given programming …</td><td>&quot;Codeforces/24E&quot;</td><td>&quot;{&quot;extra&quot;: {&quot;source&quot;: &quot;arnold_d…</td><td>0.1875</td></tr><tr><td>&quot;Solving the given programming …</td><td>&quot;Codeforces/1411D&quot;</td><td>&quot;{&quot;extra&quot;: {&quot;source&quot;: &quot;arnold_d…</td><td>0.125</td></tr><tr><td>&quot;Solving the given programming …</td><td>&quot;Codeforces/739B&quot;</td><td>&quot;{&quot;extra&quot;: {&quot;source&quot;: &quot;arnold_d…</td><td>0.0625</td></tr><tr><td>&quot;Solving the given programming …</td><td>&quot;Codeforces/1515E&quot;</td><td>&quot;{&quot;extra&quot;: {&quot;source&quot;: &quot;arnold_d…</td><td>0.0625</td></tr><tr><td>&hellip;</td><td>&hellip;</td><td>&hellip;</td><td>&hellip;</td></tr><tr><td>&quot;Solving the given programming …</td><td>&quot;Codeforces/235E&quot;</td><td>&quot;{&quot;extra&quot;: {&quot;source&quot;: &quot;arnold_d…</td><td>0.0625</td></tr><tr><td>&quot;Solving the given programming …</td><td>&quot;Codeforces/710E&quot;</td><td>&quot;{&quot;extra&quot;: {&quot;source&quot;: &quot;arnold_d…</td><td>0.1875</td></tr><tr><td>&quot;Solving the given programming …</td><td>&quot;Codeforces/1619E&quot;</td><td>&quot;{&quot;extra&quot;: {&quot;source&quot;: &quot;arnold_d…</td><td>0.125</td></tr><tr><td>&quot;Solving the given programming …</td><td>&quot;Codeforces/1826D&quot;</td><td>&quot;{&quot;extra&quot;: {&quot;source&quot;: &quot;arnold_d…</td><td>0.0625</td></tr><tr><td>&quot;Solving the given programming …</td><td>&quot;Codeforces/1393D&quot;</td><td>&quot;{&quot;extra&quot;: {&quot;source&quot;: &quot;arnold_d…</td><td>0.125</td></tr></tbody></table></div>"
      ],
      "text/plain": [
       "shape: (1_446, 4)\n",
       "┌─────────────────────────────────┬──────────────────┬─────────────────────────────────┬────────┐\n",
       "│ prompt                          ┆ id               ┆ labels                          ┆ acc    │\n",
       "│ ---                             ┆ ---              ┆ ---                             ┆ ---    │\n",
       "│ str                             ┆ str              ┆ str                             ┆ f64    │\n",
       "╞═════════════════════════════════╪══════════════════╪═════════════════════════════════╪════════╡\n",
       "│ Solving the given programming … ┆ Codeforces/1809C ┆ {\"extra\": {\"source\": \"arnold_d… ┆ 0.125  │\n",
       "│ Solving the given programming … ┆ Codeforces/24E   ┆ {\"extra\": {\"source\": \"arnold_d… ┆ 0.1875 │\n",
       "│ Solving the given programming … ┆ Codeforces/1411D ┆ {\"extra\": {\"source\": \"arnold_d… ┆ 0.125  │\n",
       "│ Solving the given programming … ┆ Codeforces/739B  ┆ {\"extra\": {\"source\": \"arnold_d… ┆ 0.0625 │\n",
       "│ Solving the given programming … ┆ Codeforces/1515E ┆ {\"extra\": {\"source\": \"arnold_d… ┆ 0.0625 │\n",
       "│ …                               ┆ …                ┆ …                               ┆ …      │\n",
       "│ Solving the given programming … ┆ Codeforces/235E  ┆ {\"extra\": {\"source\": \"arnold_d… ┆ 0.0625 │\n",
       "│ Solving the given programming … ┆ Codeforces/710E  ┆ {\"extra\": {\"source\": \"arnold_d… ┆ 0.1875 │\n",
       "│ Solving the given programming … ┆ Codeforces/1619E ┆ {\"extra\": {\"source\": \"arnold_d… ┆ 0.125  │\n",
       "│ Solving the given programming … ┆ Codeforces/1826D ┆ {\"extra\": {\"source\": \"arnold_d… ┆ 0.0625 │\n",
       "│ Solving the given programming … ┆ Codeforces/1393D ┆ {\"extra\": {\"source\": \"arnold_d… ┆ 0.125  │\n",
       "└─────────────────────────────────┴──────────────────┴─────────────────────────────────┴────────┘"
      ]
     },
     "execution_count": 3,
     "metadata": {},
     "output_type": "execute_result"
    }
   ],
   "source": [
    "orig = pl.read_ndjson(\"data/0515.annotation.jsonl\")\n",
    "orig"
   ]
  },
  {
   "cell_type": "code",
   "execution_count": 4,
   "metadata": {},
   "outputs": [
    {
     "data": {
      "text/html": [
       "<div><style>\n",
       ".dataframe > thead > tr,\n",
       ".dataframe > tbody > tr {\n",
       "  text-align: right;\n",
       "  white-space: pre-wrap;\n",
       "}\n",
       "</style>\n",
       "<small>shape: (969, 4)</small><table border=\"1\" class=\"dataframe\"><thead><tr><th>prompt</th><th>id</th><th>labels</th><th>acc</th></tr><tr><td>str</td><td>str</td><td>str</td><td>f64</td></tr></thead><tbody><tr><td>&quot;Solving the given programming …</td><td>&quot;Codeforces/818F&quot;</td><td>&quot;{&quot;extra&quot;: {&quot;source&quot;: &quot;arnold_d…</td><td>0.0625</td></tr><tr><td>&quot;Solving the given programming …</td><td>&quot;Codeforces/1312E&quot;</td><td>&quot;{&quot;extra&quot;: {&quot;source&quot;: &quot;arnold_d…</td><td>0.125</td></tr><tr><td>&quot;Solving the given programming …</td><td>&quot;Codeforces/587C&quot;</td><td>&quot;{&quot;extra&quot;: {&quot;source&quot;: &quot;arnold_d…</td><td>0.0625</td></tr><tr><td>&quot;Solving the given programming …</td><td>&quot;Codeforces/62E&quot;</td><td>&quot;{&quot;extra&quot;: {&quot;source&quot;: &quot;arnold_d…</td><td>0.0625</td></tr><tr><td>&quot;Solving the given programming …</td><td>&quot;Codeforces/1995C&quot;</td><td>&quot;{&quot;extra&quot;: {&quot;source&quot;: &quot;arnold_d…</td><td>0.0</td></tr><tr><td>&hellip;</td><td>&hellip;</td><td>&hellip;</td><td>&hellip;</td></tr><tr><td>&quot;Solving the given programming …</td><td>&quot;Codeforces/295D&quot;</td><td>&quot;{&quot;extra&quot;: {&quot;source&quot;: &quot;arnold_d…</td><td>0.0</td></tr><tr><td>&quot;Solving the given programming …</td><td>&quot;Codeforces/1194D&quot;</td><td>&quot;{&quot;extra&quot;: {&quot;source&quot;: &quot;arnold_d…</td><td>0.25</td></tr><tr><td>&quot;Solving the given programming …</td><td>&quot;Codeforces/671B&quot;</td><td>&quot;{&quot;extra&quot;: {&quot;source&quot;: &quot;arnold_d…</td><td>0.0625</td></tr><tr><td>&quot;Solving the given programming …</td><td>&quot;Codeforces/1370E&quot;</td><td>&quot;{&quot;extra&quot;: {&quot;source&quot;: &quot;arnold_d…</td><td>0.0625</td></tr><tr><td>&quot;Solving the given programming …</td><td>&quot;Codeforces/1088C&quot;</td><td>&quot;{&quot;extra&quot;: {&quot;source&quot;: &quot;arnold_d…</td><td>0.0625</td></tr></tbody></table></div>"
      ],
      "text/plain": [
       "shape: (969, 4)\n",
       "┌─────────────────────────────────┬──────────────────┬─────────────────────────────────┬────────┐\n",
       "│ prompt                          ┆ id               ┆ labels                          ┆ acc    │\n",
       "│ ---                             ┆ ---              ┆ ---                             ┆ ---    │\n",
       "│ str                             ┆ str              ┆ str                             ┆ f64    │\n",
       "╞═════════════════════════════════╪══════════════════╪═════════════════════════════════╪════════╡\n",
       "│ Solving the given programming … ┆ Codeforces/818F  ┆ {\"extra\": {\"source\": \"arnold_d… ┆ 0.0625 │\n",
       "│ Solving the given programming … ┆ Codeforces/1312E ┆ {\"extra\": {\"source\": \"arnold_d… ┆ 0.125  │\n",
       "│ Solving the given programming … ┆ Codeforces/587C  ┆ {\"extra\": {\"source\": \"arnold_d… ┆ 0.0625 │\n",
       "│ Solving the given programming … ┆ Codeforces/62E   ┆ {\"extra\": {\"source\": \"arnold_d… ┆ 0.0625 │\n",
       "│ Solving the given programming … ┆ Codeforces/1995C ┆ {\"extra\": {\"source\": \"arnold_d… ┆ 0.0    │\n",
       "│ …                               ┆ …                ┆ …                               ┆ …      │\n",
       "│ Solving the given programming … ┆ Codeforces/295D  ┆ {\"extra\": {\"source\": \"arnold_d… ┆ 0.0    │\n",
       "│ Solving the given programming … ┆ Codeforces/1194D ┆ {\"extra\": {\"source\": \"arnold_d… ┆ 0.25   │\n",
       "│ Solving the given programming … ┆ Codeforces/671B  ┆ {\"extra\": {\"source\": \"arnold_d… ┆ 0.0625 │\n",
       "│ Solving the given programming … ┆ Codeforces/1370E ┆ {\"extra\": {\"source\": \"arnold_d… ┆ 0.0625 │\n",
       "│ Solving the given programming … ┆ Codeforces/1088C ┆ {\"extra\": {\"source\": \"arnold_d… ┆ 0.0625 │\n",
       "└─────────────────────────────────┴──────────────────┴─────────────────────────────────┴────────┘"
      ]
     },
     "execution_count": 4,
     "metadata": {},
     "output_type": "execute_result"
    }
   ],
   "source": [
    "orig_remove_dupes = orig.unique(subset=[\"id\"])\n",
    "orig_remove_dupes"
   ]
  },
  {
   "cell_type": "code",
   "execution_count": 5,
   "metadata": {},
   "outputs": [
    {
     "data": {
      "text/html": [
       "<div><style>\n",
       ".dataframe > thead > tr,\n",
       ".dataframe > tbody > tr {\n",
       "  text-align: right;\n",
       "  white-space: pre-wrap;\n",
       "}\n",
       "</style>\n",
       "<small>shape: (474, 2)</small><table border=\"1\" class=\"dataframe\"><thead><tr><th>id</th><th>count</th></tr><tr><td>str</td><td>u32</td></tr></thead><tbody><tr><td>&quot;Codeforces/225E&quot;</td><td>3</td></tr><tr><td>&quot;Codeforces/1237F&quot;</td><td>2</td></tr><tr><td>&quot;Codeforces/1327F&quot;</td><td>2</td></tr><tr><td>&quot;Codeforces/778D&quot;</td><td>2</td></tr><tr><td>&quot;Codeforces/243C&quot;</td><td>2</td></tr><tr><td>&hellip;</td><td>&hellip;</td></tr><tr><td>&quot;Codeforces/850F&quot;</td><td>2</td></tr><tr><td>&quot;Codeforces/1310C&quot;</td><td>2</td></tr><tr><td>&quot;Codeforces/196C&quot;</td><td>2</td></tr><tr><td>&quot;Codeforces/1C&quot;</td><td>2</td></tr><tr><td>&quot;Codeforces/976D&quot;</td><td>2</td></tr></tbody></table></div>"
      ],
      "text/plain": [
       "shape: (474, 2)\n",
       "┌──────────────────┬───────┐\n",
       "│ id               ┆ count │\n",
       "│ ---              ┆ ---   │\n",
       "│ str              ┆ u32   │\n",
       "╞══════════════════╪═══════╡\n",
       "│ Codeforces/225E  ┆ 3     │\n",
       "│ Codeforces/1237F ┆ 2     │\n",
       "│ Codeforces/1327F ┆ 2     │\n",
       "│ Codeforces/778D  ┆ 2     │\n",
       "│ Codeforces/243C  ┆ 2     │\n",
       "│ …                ┆ …     │\n",
       "│ Codeforces/850F  ┆ 2     │\n",
       "│ Codeforces/1310C ┆ 2     │\n",
       "│ Codeforces/196C  ┆ 2     │\n",
       "│ Codeforces/1C    ┆ 2     │\n",
       "│ Codeforces/976D  ┆ 2     │\n",
       "└──────────────────┴───────┘"
      ]
     },
     "execution_count": 5,
     "metadata": {},
     "output_type": "execute_result"
    }
   ],
   "source": [
    "orig_duplicates = orig.group_by(\"id\").agg(pl.len().alias(\"count\")).filter(pl.col(\"count\") > 1)\n",
    "orig_duplicates"
   ]
  },
  {
   "cell_type": "code",
   "execution_count": 6,
   "metadata": {},
   "outputs": [
    {
     "name": "stdout",
     "output_type": "stream",
     "text": [
      "shape: (8, 3)\n",
      "┌──────────────────┬────────────────┬─────────────────────────────────┐\n",
      "│ id               ┆ unique_prompts ┆ prompts                         │\n",
      "│ ---              ┆ ---            ┆ ---                             │\n",
      "│ str              ┆ u32            ┆ list[str]                       │\n",
      "╞══════════════════╪════════════════╪═════════════════════════════════╡\n",
      "│ Codeforces/1738C ┆ 2              ┆ [\"Solving the given programmin… │\n",
      "│ Codeforces/49D   ┆ 2              ┆ [\"Solving the given programmin… │\n",
      "│ Codeforces/484B  ┆ 2              ┆ [\"Solving the given programmin… │\n",
      "│ Codeforces/342C  ┆ 2              ┆ [\"Solving the given programmin… │\n",
      "│ Codeforces/954H  ┆ 2              ┆ [\"Solving the given programmin… │\n",
      "│ Codeforces/1511D ┆ 2              ┆ [\"Solving the given programmin… │\n",
      "│ Codeforces/225E  ┆ 2              ┆ [\"Solving the given programmin… │\n",
      "│ Codeforces/7C    ┆ 2              ┆ [\"Solving the given programmin… │\n",
      "└──────────────────┴────────────────┴─────────────────────────────────┘\n",
      "shape: (466, 3)\n",
      "┌───────────────────┬────────────────┬─────────────────────────────────┐\n",
      "│ id                ┆ unique_prompts ┆ prompts                         │\n",
      "│ ---               ┆ ---            ┆ ---                             │\n",
      "│ str               ┆ u32            ┆ list[str]                       │\n",
      "╞═══════════════════╪════════════════╪═════════════════════════════════╡\n",
      "│ Codeforces/15E    ┆ 1              ┆ [\"Solving the given programmin… │\n",
      "│ Codeforces/1326D2 ┆ 1              ┆ [\"Solving the given programmin… │\n",
      "│ Codeforces/549C   ┆ 1              ┆ [\"Solving the given programmin… │\n",
      "│ Codeforces/98E    ┆ 1              ┆ [\"Solving the given programmin… │\n",
      "│ Codeforces/1278E  ┆ 1              ┆ [\"Solving the given programmin… │\n",
      "│ …                 ┆ …              ┆ …                               │\n",
      "│ Codeforces/1826D  ┆ 1              ┆ [\"Solving the given programmin… │\n",
      "│ Codeforces/1556H  ┆ 1              ┆ [\"Solving the given programmin… │\n",
      "│ Codeforces/58E    ┆ 1              ┆ [\"Solving the given programmin… │\n",
      "│ Codeforces/1536F  ┆ 1              ┆ [\"Solving the given programmin… │\n",
      "│ Codeforces/161E   ┆ 1              ┆ [\"Solving the given programmin… │\n",
      "└───────────────────┴────────────────┴─────────────────────────────────┘\n"
     ]
    },
    {
     "name": "stderr",
     "output_type": "stream",
     "text": [
      "/var/folders/dm/8p9389wj29l4dmrq06hwzl4w0000gn/T/ipykernel_9261/3718077665.py:7: DeprecationWarning: `is_in` with a collection of the same datatype is ambiguous and deprecated.\n",
      "Please use `implode` to return to previous behavior.\n",
      "\n",
      "See https://github.com/pola-rs/polars/issues/22149 for more information.\n",
      "  duplicate_prompts = orig.filter(pl.col(\"id\").is_in(duplicate_ids)) \\\n"
     ]
    }
   ],
   "source": [
    "# From this list of duplicate question IDs, I want to check whether the prompt is identical\n",
    "# Get the duplicate IDs from orig_duplicates\n",
    "duplicate_ids = orig_duplicates.get_column(\"id\")\n",
    "\n",
    "# Filter orig dataframe to only include rows with duplicate IDs\n",
    "# Then check if prompts are identical for each ID\n",
    "duplicate_prompts = orig.filter(pl.col(\"id\").is_in(duplicate_ids)) \\\n",
    "                       .group_by(\"id\") \\\n",
    "                       .agg([\n",
    "                           pl.col(\"prompt\").n_unique().alias(\"unique_prompts\"),\n",
    "                           pl.col(\"prompt\").alias(\"prompts\")\n",
    "                       ])\n",
    "\n",
    "# Show cases where prompts differ\n",
    "different_prompts = duplicate_prompts.filter(pl.col(\"unique_prompts\") > 1)\n",
    "print(different_prompts)\n",
    "\n",
    "same_prompts = duplicate_prompts.filter(pl.col(\"unique_prompts\") == 1)\n",
    "print(same_prompts)"
   ]
  },
  {
   "cell_type": "code",
   "execution_count": 7,
   "metadata": {},
   "outputs": [
    {
     "name": "stderr",
     "output_type": "stream",
     "text": [
      "/var/folders/dm/8p9389wj29l4dmrq06hwzl4w0000gn/T/ipykernel_9261/2222891972.py:1: DeprecationWarning: `is_in` with a collection of the same datatype is ambiguous and deprecated.\n",
      "Please use `implode` to return to previous behavior.\n",
      "\n",
      "See https://github.com/pola-rs/polars/issues/22149 for more information.\n",
      "  resubmit = orig_remove_dupes.filter(pl.col(\"id\").is_in(df_abandoned.get_column(\"question_id\")))\n"
     ]
    },
    {
     "data": {
      "text/html": [
       "<div><style>\n",
       ".dataframe > thead > tr,\n",
       ".dataframe > tbody > tr {\n",
       "  text-align: right;\n",
       "  white-space: pre-wrap;\n",
       "}\n",
       "</style>\n",
       "<small>shape: (337, 4)</small><table border=\"1\" class=\"dataframe\"><thead><tr><th>prompt</th><th>id</th><th>labels</th><th>acc</th></tr><tr><td>str</td><td>str</td><td>str</td><td>f64</td></tr></thead><tbody><tr><td>&quot;Solving the given programming …</td><td>&quot;Codeforces/1995C&quot;</td><td>&quot;{&quot;extra&quot;: {&quot;source&quot;: &quot;arnold_d…</td><td>0.0</td></tr><tr><td>&quot;Solving the given programming …</td><td>&quot;Codeforces/43D&quot;</td><td>&quot;{&quot;extra&quot;: {&quot;source&quot;: &quot;arnold_d…</td><td>0.0</td></tr><tr><td>&quot;Solving the given programming …</td><td>&quot;Codeforces/633F&quot;</td><td>&quot;{&quot;extra&quot;: {&quot;source&quot;: &quot;arnold_d…</td><td>0.0</td></tr><tr><td>&quot;Solving the given programming …</td><td>&quot;Codeforces/887E&quot;</td><td>&quot;{&quot;extra&quot;: {&quot;source&quot;: &quot;arnold_d…</td><td>0.0</td></tr><tr><td>&quot;Solving the given programming …</td><td>&quot;Codeforces/1311E&quot;</td><td>&quot;{&quot;extra&quot;: {&quot;source&quot;: &quot;arnold_d…</td><td>0.0</td></tr><tr><td>&hellip;</td><td>&hellip;</td><td>&hellip;</td><td>&hellip;</td></tr><tr><td>&quot;Solving the given programming …</td><td>&quot;Codeforces/1400G&quot;</td><td>&quot;{&quot;extra&quot;: {&quot;source&quot;: &quot;arnold_d…</td><td>0.1875</td></tr><tr><td>&quot;Solving the given programming …</td><td>&quot;Codeforces/613C&quot;</td><td>&quot;{&quot;extra&quot;: {&quot;source&quot;: &quot;arnold_d…</td><td>0.125</td></tr><tr><td>&quot;Solving the given programming …</td><td>&quot;Codeforces/917D&quot;</td><td>&quot;{&quot;extra&quot;: {&quot;source&quot;: &quot;arnold_d…</td><td>0.0625</td></tr><tr><td>&quot;Solving the given programming …</td><td>&quot;Codeforces/295D&quot;</td><td>&quot;{&quot;extra&quot;: {&quot;source&quot;: &quot;arnold_d…</td><td>0.0</td></tr><tr><td>&quot;Solving the given programming …</td><td>&quot;Codeforces/1088C&quot;</td><td>&quot;{&quot;extra&quot;: {&quot;source&quot;: &quot;arnold_d…</td><td>0.0625</td></tr></tbody></table></div>"
      ],
      "text/plain": [
       "shape: (337, 4)\n",
       "┌─────────────────────────────────┬──────────────────┬─────────────────────────────────┬────────┐\n",
       "│ prompt                          ┆ id               ┆ labels                          ┆ acc    │\n",
       "│ ---                             ┆ ---              ┆ ---                             ┆ ---    │\n",
       "│ str                             ┆ str              ┆ str                             ┆ f64    │\n",
       "╞═════════════════════════════════╪══════════════════╪═════════════════════════════════╪════════╡\n",
       "│ Solving the given programming … ┆ Codeforces/1995C ┆ {\"extra\": {\"source\": \"arnold_d… ┆ 0.0    │\n",
       "│ Solving the given programming … ┆ Codeforces/43D   ┆ {\"extra\": {\"source\": \"arnold_d… ┆ 0.0    │\n",
       "│ Solving the given programming … ┆ Codeforces/633F  ┆ {\"extra\": {\"source\": \"arnold_d… ┆ 0.0    │\n",
       "│ Solving the given programming … ┆ Codeforces/887E  ┆ {\"extra\": {\"source\": \"arnold_d… ┆ 0.0    │\n",
       "│ Solving the given programming … ┆ Codeforces/1311E ┆ {\"extra\": {\"source\": \"arnold_d… ┆ 0.0    │\n",
       "│ …                               ┆ …                ┆ …                               ┆ …      │\n",
       "│ Solving the given programming … ┆ Codeforces/1400G ┆ {\"extra\": {\"source\": \"arnold_d… ┆ 0.1875 │\n",
       "│ Solving the given programming … ┆ Codeforces/613C  ┆ {\"extra\": {\"source\": \"arnold_d… ┆ 0.125  │\n",
       "│ Solving the given programming … ┆ Codeforces/917D  ┆ {\"extra\": {\"source\": \"arnold_d… ┆ 0.0625 │\n",
       "│ Solving the given programming … ┆ Codeforces/295D  ┆ {\"extra\": {\"source\": \"arnold_d… ┆ 0.0    │\n",
       "│ Solving the given programming … ┆ Codeforces/1088C ┆ {\"extra\": {\"source\": \"arnold_d… ┆ 0.0625 │\n",
       "└─────────────────────────────────┴──────────────────┴─────────────────────────────────┴────────┘"
      ]
     },
     "execution_count": 7,
     "metadata": {},
     "output_type": "execute_result"
    }
   ],
   "source": [
    "resubmit = orig_remove_dupes.filter(pl.col(\"id\").is_in(df_abandoned.get_column(\"question_id\")))\n",
    "resubmit"
   ]
  },
  {
   "cell_type": "code",
   "execution_count": 12,
   "metadata": {},
   "outputs": [],
   "source": [
    "resubmit.head(200).write_ndjson(\"data/resubmit_200.jsonl\")"
   ]
  },
  {
   "cell_type": "code",
   "execution_count": 13,
   "metadata": {},
   "outputs": [],
   "source": [
    "resubmit.write_ndjson(\"data/resubmit.jsonl\")"
   ]
  },
  {
   "cell_type": "code",
   "execution_count": null,
   "metadata": {},
   "outputs": [],
   "source": []
  }
 ],
 "metadata": {
  "kernelspec": {
   "display_name": ".venv",
   "language": "python",
   "name": "python3"
  },
  "language_info": {
   "codemirror_mode": {
    "name": "ipython",
    "version": 3
   },
   "file_extension": ".py",
   "mimetype": "text/x-python",
   "name": "python",
   "nbconvert_exporter": "python",
   "pygments_lexer": "ipython3",
   "version": "3.10.17"
  }
 },
 "nbformat": 4,
 "nbformat_minor": 2
}
