{
 "cells": [
  {
   "cell_type": "code",
   "execution_count": 14,
   "metadata": {},
   "outputs": [
    {
     "data": {
      "text/html": [
       "<div><style>\n",
       ".dataframe > thead > tr,\n",
       ".dataframe > tbody > tr {\n",
       "  text-align: right;\n",
       "  white-space: pre-wrap;\n",
       "}\n",
       "</style>\n",
       "<small>shape: (630, 26)</small><table border=\"1\" class=\"dataframe\"><thead><tr><th>task id</th><th>trainer id</th><th>model name</th><th>user prompt</th><th>system prompt</th><th>intervene_system_prompt</th><th>intervene prompt</th><th>ground_truth_answer</th><th>abandon_prompt</th><th>abandon_prompt_reason</th><th>abandon_prompt_explanation</th><th>initial_reasoning</th><th>response</th><th>final_answer</th><th>temperature</th><th>total_tokens</th><th>intervention rounds</th><th>CoT quality</th><th>Model performance classification</th><th>remarks</th><th>question_id</th><th>level</th><th>codeforces_submission_id</th><th>programming_language</th><th>ACC</th><th>total_latency (ms)</th></tr><tr><td>i64</td><td>i64</td><td>str</td><td>str</td><td>str</td><td>str</td><td>str</td><td>str</td><td>str</td><td>str</td><td>str</td><td>str</td><td>str</td><td>str</td><td>i64</td><td>i64</td><td>i64</td><td>str</td><td>str</td><td>str</td><td>str</td><td>str</td><td>f64</td><td>str</td><td>f64</td><td>i64</td></tr></thead><tbody><tr><td>69604</td><td>281</td><td>&quot;ep-20250531134931-xwct7&quot;</td><td>&quot;Solving the given programming …</td><td>&quot;You are an expert problem solv…</td><td>&quot;You are an expert problem solv…</td><td>&quot;You are an expert problem solv…</td><td>&quot;#include &lt;iostream&gt;\\n#include …</td><td>&quot;No&quot;</td><td>null</td><td>null</td><td>&quot;Got it, let&#x27;s start by correct…</td><td>&quot;Got it, let&#x27;s start by correct…</td><td>&quot;To solve this problem, we need…</td><td>1</td><td>1303</td><td>11</td><td>&quot;Good&quot;</td><td>&quot;Model response is incorrect bu…</td><td>&quot;{&#x27;remarks&#x27;: [{&#x27;intervene_index…</td><td>&quot;Codeforces/1713E&quot;</td><td>null</td><td>3.2559164e8</td><td>&quot;C++&quot;</td><td>0.0</td><td>-1</td></tr><tr><td>69773</td><td>518</td><td>&quot;ep-20250531134931-xwct7&quot;</td><td>&quot;Solving the given programming …</td><td>&quot;You are an expert problem solv…</td><td>&quot;You are an expert problem solv…</td><td>&quot;You are an expert problem solv…</td><td>&quot;None&quot;</td><td>&quot;No&quot;</td><td>null</td><td>null</td><td>&quot;\\\\nGot it, let&#x27;s try to solve …</td><td>&quot;Got it, let&#x27;s try to solve thi…</td><td>&quot;To solve this problem, we need…</td><td>1</td><td>1003</td><td>8</td><td>&quot;Minor Flaws&quot;</td><td>&quot;Model response is incorrect bu…</td><td>&quot;{&#x27;remarks&#x27;: [{&#x27;intervene_index…</td><td>&quot;Codeforces/1852C&quot;</td><td>&quot;0.0&quot;</td><td>3.25293803e8</td><td>&quot;C++&quot;</td><td>0.0</td><td>-1</td></tr><tr><td>55732</td><td>282</td><td>&quot;ep-20250531134931-xwct7&quot;</td><td>&quot;You are a C++14 expert.&nbsp;&nbsp;\\nAlw…</td><td>&quot;You are an expert problem solv…</td><td>&quot;You are an expert problem solv…</td><td>&quot;You are an expert problem solv…</td><td>&quot;#include &lt;iostream&gt;\\n#include …</td><td>&quot;Yes&quot;</td><td>&quot;Exceeded global intervention c…</td><td>null</td><td>&quot;Got it, let&#x27;s try to solve thi…</td><td>&quot;&lt;abandon&gt;Got it, let&#x27;s try to …</td><td>&quot;To solve this problem, we need…</td><td>1</td><td>969</td><td>15</td><td>&quot;Faulty&quot;</td><td>&quot;Model response is incorrect an…</td><td>&quot;{&#x27;remarks&#x27;: [{&#x27;intervene_index…</td><td>&quot;Codeforces/367E&quot;</td><td>null</td><td>3.24745144e8</td><td>&quot;C++&quot;</td><td>0.0</td><td>31305837</td></tr><tr><td>60257</td><td>248</td><td>&quot;ep-20250531134931-xwct7&quot;</td><td>&quot;You&#x27;ve got a non-decreasing se…</td><td>&quot;You are an expert problem solv…</td><td>&quot;You are an expert problem solv…</td><td>&quot;You are an expert problem solv…</td><td>&quot;#include &lt;bits/stdc++.h&gt;\\n#def…</td><td>&quot;Yes&quot;</td><td>&quot;Exceeded local intervention co…</td><td>null</td><td>&quot;Okay, let&#x27;s try to solve this …</td><td>&quot;Okay, let&#x27;s try to solve this …</td><td>&quot;To solve this problem, we need…</td><td>1</td><td>1588</td><td>6</td><td>&quot;Faulty&quot;</td><td>&quot;Model response is incorrect an…</td><td>&quot;{&#x27;remarks&#x27;: [{&#x27;intervene_index…</td><td>&quot;CF280E&quot;</td><td>&quot;7.0&quot;</td><td>3.24715555e8</td><td>&quot;C++&quot;</td><td>null</td><td>1794085</td></tr><tr><td>60264</td><td>270</td><td>&quot;ep-20250531134931-xwct7&quot;</td><td>&quot;Solving the given programming …</td><td>&quot;You are an expert problem solv…</td><td>&quot;You are an expert problem solv…</td><td>&quot;You are an expert problem solv…</td><td>&quot;#include &lt;iostream&gt;\\n#include …</td><td>&quot;Yes&quot;</td><td>&quot;Exceeded local intervention co…</td><td>null</td><td>&quot;Got it, let&#x27;s tackle this prob…</td><td>&quot;Got it, let&#x27;s tackle this prob…</td><td>&quot;To solve this problem, we need…</td><td>1</td><td>821</td><td>5</td><td>&quot;Faulty&quot;</td><td>&quot;Model response is incorrect an…</td><td>&quot;{&#x27;remarks&#x27;: [{&#x27;intervene_index…</td><td>&quot;Codeforces/724D&quot;</td><td>&quot;0&quot;</td><td>3.24622328e8</td><td>&quot;C++&quot;</td><td>0.0</td><td>13168981</td></tr><tr><td>&hellip;</td><td>&hellip;</td><td>&hellip;</td><td>&hellip;</td><td>&hellip;</td><td>&hellip;</td><td>&hellip;</td><td>&hellip;</td><td>&hellip;</td><td>&hellip;</td><td>&hellip;</td><td>&hellip;</td><td>&hellip;</td><td>&hellip;</td><td>&hellip;</td><td>&hellip;</td><td>&hellip;</td><td>&hellip;</td><td>&hellip;</td><td>&hellip;</td><td>&hellip;</td><td>&hellip;</td><td>&hellip;</td><td>&hellip;</td><td>&hellip;</td><td>&hellip;</td></tr><tr><td>69720</td><td>400</td><td>&quot;ep-20250531134931-xwct7&quot;</td><td>&quot;Solving the given programming …</td><td>&quot;You are an expert problem solv…</td><td>&quot;You are an expert problem solv…</td><td>&quot;None&quot;</td><td>&quot;None&quot;</td><td>&quot;No&quot;</td><td>null</td><td>null</td><td>&quot;\\\\nGot it, let&#x27;s try to solve …</td><td>&quot;\\\\nGot it, let&#x27;s try to solve …</td><td>&quot;To solve this problem, we need…</td><td>1</td><td>1833</td><td>0</td><td>&quot;Good&quot;</td><td>&quot;Model response is correct with…</td><td>&quot;{&#x27;remarks&#x27;: []}&quot;</td><td>&quot;Codeforces/1980G&quot;</td><td>null</td><td>3.24994772e8</td><td>&quot;C++&quot;</td><td>0.0</td><td>-1</td></tr><tr><td>69755</td><td>136</td><td>&quot;ep-20250531134931-xwct7&quot;</td><td>&quot;Solving the given programming …</td><td>&quot;You are an expert problem solv…</td><td>&quot;You are an expert problem solv…</td><td>&quot;You are an expert problem solv…</td><td>&quot;#include &lt;bits/stdc++.h&gt;\\nusin…</td><td>&quot;Yes&quot;</td><td>&quot;Exceeded local intervention co…</td><td>null</td><td>&quot;\\\\nGot it, let&#x27;s try to solve …</td><td>&quot;&lt;abandon&gt;Got it, let&#x27;s try to …</td><td>&quot;To solve this problem, we need…</td><td>1</td><td>2494</td><td>6</td><td>&quot;Faulty&quot;</td><td>&quot;Model response is incorrect an…</td><td>&quot;{&#x27;remarks&#x27;: [{&#x27;intervene_index…</td><td>&quot;Codeforces/494C&quot;</td><td>&quot;0&quot;</td><td>3.24759469e8</td><td>&quot;C++&quot;</td><td>0.0</td><td>-1</td></tr><tr><td>69757</td><td>136</td><td>&quot;ep-20250531134931-xwct7&quot;</td><td>&quot;Solving the given programming …</td><td>&quot;You are an expert problem solv…</td><td>&quot;You are an expert problem solv…</td><td>&quot;You are an expert problem solv…</td><td>&quot;#include &lt;bits/stdc++.h&gt;\\nusin…</td><td>&quot;Yes&quot;</td><td>&quot;Exceeded local intervention co…</td><td>null</td><td>&quot;\\\\nGot it, let&#x27;s try to solve …</td><td>&quot;\\\\nGot it, let&#x27;s try to solve …</td><td>&quot;To solve this problem, we need…</td><td>1</td><td>1429</td><td>10</td><td>&quot;Minor Flaws&quot;</td><td>&quot;Model response is incorrect an…</td><td>&quot;{&#x27;remarks&#x27;: [{&#x27;intervene_index…</td><td>&quot;Codeforces/1784D&quot;</td><td>&quot;0&quot;</td><td>3.24985827e8</td><td>&quot;C++&quot;</td><td>0.0</td><td>-1</td></tr><tr><td>69838</td><td>126</td><td>&quot;ep-20250531134931-xwct7&quot;</td><td>&quot;Solving the given programming …</td><td>&quot;You are an expert problem solv…</td><td>&quot;You are an expert problem solv…</td><td>&quot;You are an expert problem solv…</td><td>&quot;#include &lt;iostream&gt;\\n#include …</td><td>&quot;Yes&quot;</td><td>&quot;Exceeded local intervention co…</td><td>null</td><td>&quot;\\\\nGot it, let&#x27;s try to solve …</td><td>&quot;\\\\nGot it, let&#x27;s try to solve …</td><td>&quot;To solve this problem, we need…</td><td>1</td><td>1140</td><td>6</td><td>&quot;Faulty&quot;</td><td>&quot;Model response is incorrect an…</td><td>&quot;{&#x27;remarks&#x27;: [{&#x27;intervene_index…</td><td>&quot;Codeforces/986C&quot;</td><td>&quot;0&quot;</td><td>3.24758193e8</td><td>&quot;C++&quot;</td><td>0.0</td><td>-1</td></tr><tr><td>69847</td><td>505</td><td>&quot;ep-20250531134931-xwct7&quot;</td><td>&quot;Solving the given programming …</td><td>&quot;You are an expert problem solv…</td><td>&quot;You are an expert problem solv…</td><td>&quot;None&quot;</td><td>&quot;None&quot;</td><td>&quot;No&quot;</td><td>null</td><td>null</td><td>&quot;Got it, let&#x27;s tackle this prob…</td><td>&quot;Got it, let&#x27;s tackle this prob…</td><td>&quot;To solve this problem, we need…</td><td>1</td><td>762</td><td>0</td><td>&quot;Good&quot;</td><td>&quot;Model response is correct with…</td><td>&quot;{&#x27;remarks&#x27;: []}&quot;</td><td>&quot;Codeforces/312A&quot;</td><td>&quot;0&quot;</td><td>3.24993681e8</td><td>&quot;C++&quot;</td><td>0.0</td><td>-1</td></tr></tbody></table></div>"
      ],
      "text/plain": [
       "shape: (630, 26)\n",
       "┌─────────┬────────────┬────────────┬────────────┬───┬────────────┬────────────┬──────┬────────────┐\n",
       "│ task id ┆ trainer id ┆ model name ┆ user       ┆ … ┆ codeforces ┆ programmin ┆ ACC  ┆ total_late │\n",
       "│ ---     ┆ ---        ┆ ---        ┆ prompt     ┆   ┆ _submissio ┆ g_language ┆ ---  ┆ ncy (ms)   │\n",
       "│ i64     ┆ i64        ┆ str        ┆ ---        ┆   ┆ n_id       ┆ ---        ┆ f64  ┆ ---        │\n",
       "│         ┆            ┆            ┆ str        ┆   ┆ ---        ┆ str        ┆      ┆ i64        │\n",
       "│         ┆            ┆            ┆            ┆   ┆ f64        ┆            ┆      ┆            │\n",
       "╞═════════╪════════════╪════════════╪════════════╪═══╪════════════╪════════════╪══════╪════════════╡\n",
       "│ 69604   ┆ 281        ┆ ep-2025053 ┆ Solving    ┆ … ┆ 3.2559164e ┆ C++        ┆ 0.0  ┆ -1         │\n",
       "│         ┆            ┆ 1134931-xw ┆ the given  ┆   ┆ 8          ┆            ┆      ┆            │\n",
       "│         ┆            ┆ ct7        ┆ programmin ┆   ┆            ┆            ┆      ┆            │\n",
       "│         ┆            ┆            ┆ g …        ┆   ┆            ┆            ┆      ┆            │\n",
       "│ 69773   ┆ 518        ┆ ep-2025053 ┆ Solving    ┆ … ┆ 3.25293803 ┆ C++        ┆ 0.0  ┆ -1         │\n",
       "│         ┆            ┆ 1134931-xw ┆ the given  ┆   ┆ e8         ┆            ┆      ┆            │\n",
       "│         ┆            ┆ ct7        ┆ programmin ┆   ┆            ┆            ┆      ┆            │\n",
       "│         ┆            ┆            ┆ g …        ┆   ┆            ┆            ┆      ┆            │\n",
       "│ 55732   ┆ 282        ┆ ep-2025053 ┆ You are a  ┆ … ┆ 3.24745144 ┆ C++        ┆ 0.0  ┆ 31305837   │\n",
       "│         ┆            ┆ 1134931-xw ┆ C++14      ┆   ┆ e8         ┆            ┆      ┆            │\n",
       "│         ┆            ┆ ct7        ┆ expert.    ┆   ┆            ┆            ┆      ┆            │\n",
       "│         ┆            ┆            ┆ \\nAlw…     ┆   ┆            ┆            ┆      ┆            │\n",
       "│ 60257   ┆ 248        ┆ ep-2025053 ┆ You've got ┆ … ┆ 3.24715555 ┆ C++        ┆ null ┆ 1794085    │\n",
       "│         ┆            ┆ 1134931-xw ┆ a non-decr ┆   ┆ e8         ┆            ┆      ┆            │\n",
       "│         ┆            ┆ ct7        ┆ easing se… ┆   ┆            ┆            ┆      ┆            │\n",
       "│ 60264   ┆ 270        ┆ ep-2025053 ┆ Solving    ┆ … ┆ 3.24622328 ┆ C++        ┆ 0.0  ┆ 13168981   │\n",
       "│         ┆            ┆ 1134931-xw ┆ the given  ┆   ┆ e8         ┆            ┆      ┆            │\n",
       "│         ┆            ┆ ct7        ┆ programmin ┆   ┆            ┆            ┆      ┆            │\n",
       "│         ┆            ┆            ┆ g …        ┆   ┆            ┆            ┆      ┆            │\n",
       "│ …       ┆ …          ┆ …          ┆ …          ┆ … ┆ …          ┆ …          ┆ …    ┆ …          │\n",
       "│ 69720   ┆ 400        ┆ ep-2025053 ┆ Solving    ┆ … ┆ 3.24994772 ┆ C++        ┆ 0.0  ┆ -1         │\n",
       "│         ┆            ┆ 1134931-xw ┆ the given  ┆   ┆ e8         ┆            ┆      ┆            │\n",
       "│         ┆            ┆ ct7        ┆ programmin ┆   ┆            ┆            ┆      ┆            │\n",
       "│         ┆            ┆            ┆ g …        ┆   ┆            ┆            ┆      ┆            │\n",
       "│ 69755   ┆ 136        ┆ ep-2025053 ┆ Solving    ┆ … ┆ 3.24759469 ┆ C++        ┆ 0.0  ┆ -1         │\n",
       "│         ┆            ┆ 1134931-xw ┆ the given  ┆   ┆ e8         ┆            ┆      ┆            │\n",
       "│         ┆            ┆ ct7        ┆ programmin ┆   ┆            ┆            ┆      ┆            │\n",
       "│         ┆            ┆            ┆ g …        ┆   ┆            ┆            ┆      ┆            │\n",
       "│ 69757   ┆ 136        ┆ ep-2025053 ┆ Solving    ┆ … ┆ 3.24985827 ┆ C++        ┆ 0.0  ┆ -1         │\n",
       "│         ┆            ┆ 1134931-xw ┆ the given  ┆   ┆ e8         ┆            ┆      ┆            │\n",
       "│         ┆            ┆ ct7        ┆ programmin ┆   ┆            ┆            ┆      ┆            │\n",
       "│         ┆            ┆            ┆ g …        ┆   ┆            ┆            ┆      ┆            │\n",
       "│ 69838   ┆ 126        ┆ ep-2025053 ┆ Solving    ┆ … ┆ 3.24758193 ┆ C++        ┆ 0.0  ┆ -1         │\n",
       "│         ┆            ┆ 1134931-xw ┆ the given  ┆   ┆ e8         ┆            ┆      ┆            │\n",
       "│         ┆            ┆ ct7        ┆ programmin ┆   ┆            ┆            ┆      ┆            │\n",
       "│         ┆            ┆            ┆ g …        ┆   ┆            ┆            ┆      ┆            │\n",
       "│ 69847   ┆ 505        ┆ ep-2025053 ┆ Solving    ┆ … ┆ 3.24993681 ┆ C++        ┆ 0.0  ┆ -1         │\n",
       "│         ┆            ┆ 1134931-xw ┆ the given  ┆   ┆ e8         ┆            ┆      ┆            │\n",
       "│         ┆            ┆ ct7        ┆ programmin ┆   ┆            ┆            ┆      ┆            │\n",
       "│         ┆            ┆            ┆ g …        ┆   ┆            ┆            ┆      ┆            │\n",
       "└─────────┴────────────┴────────────┴────────────┴───┴────────────┴────────────┴──────┴────────────┘"
      ]
     },
     "execution_count": 14,
     "metadata": {},
     "output_type": "execute_result"
    }
   ],
   "source": [
    "import polars as pl\n",
    "import glob\n",
    "import os\n",
    "\n",
    "DATA_DIRECTORY = './data/ALL'\n",
    "\n",
    "json_files = glob.glob(os.path.join(DATA_DIRECTORY, '**', '*.json'), recursive=True)\n",
    "\n",
    "df = pl.concat([pl.read_json(file) for file in json_files], how=\"diagonal_relaxed\")\n",
    "df"
   ]
  },
  {
   "cell_type": "code",
   "execution_count": 20,
   "metadata": {},
   "outputs": [
    {
     "data": {
      "text/html": [
       "<div><style>\n",
       ".dataframe > thead > tr,\n",
       ".dataframe > tbody > tr {\n",
       "  text-align: right;\n",
       "  white-space: pre-wrap;\n",
       "}\n",
       "</style>\n",
       "<small>shape: (556, 26)</small><table border=\"1\" class=\"dataframe\"><thead><tr><th>task id</th><th>trainer id</th><th>model name</th><th>user prompt</th><th>system prompt</th><th>intervene_system_prompt</th><th>intervene prompt</th><th>ground_truth_answer</th><th>abandon_prompt</th><th>abandon_prompt_reason</th><th>abandon_prompt_explanation</th><th>initial_reasoning</th><th>response</th><th>final_answer</th><th>temperature</th><th>total_tokens</th><th>intervention rounds</th><th>CoT quality</th><th>Model performance classification</th><th>remarks</th><th>question_id</th><th>level</th><th>codeforces_submission_id</th><th>programming_language</th><th>ACC</th><th>total_latency (ms)</th></tr><tr><td>i64</td><td>i64</td><td>str</td><td>str</td><td>str</td><td>str</td><td>str</td><td>str</td><td>str</td><td>str</td><td>str</td><td>str</td><td>str</td><td>str</td><td>i64</td><td>i64</td><td>i64</td><td>str</td><td>str</td><td>str</td><td>str</td><td>str</td><td>f64</td><td>str</td><td>f64</td><td>i64</td></tr></thead><tbody><tr><td>69604</td><td>281</td><td>&quot;ep-20250531134931-xwct7&quot;</td><td>&quot;Solving the given programming …</td><td>&quot;You are an expert problem solv…</td><td>&quot;You are an expert problem solv…</td><td>&quot;You are an expert problem solv…</td><td>&quot;#include &lt;iostream&gt;\\n#include …</td><td>&quot;No&quot;</td><td>null</td><td>null</td><td>&quot;Got it, let&#x27;s start by correct…</td><td>&quot;Got it, let&#x27;s start by correct…</td><td>&quot;To solve this problem, we need…</td><td>1</td><td>1303</td><td>11</td><td>&quot;Good&quot;</td><td>&quot;Model response is incorrect bu…</td><td>&quot;{&#x27;remarks&#x27;: [{&#x27;intervene_index…</td><td>&quot;Codeforces/1713E&quot;</td><td>null</td><td>3.2559164e8</td><td>&quot;C++&quot;</td><td>0.0</td><td>-1</td></tr><tr><td>69773</td><td>518</td><td>&quot;ep-20250531134931-xwct7&quot;</td><td>&quot;Solving the given programming …</td><td>&quot;You are an expert problem solv…</td><td>&quot;You are an expert problem solv…</td><td>&quot;You are an expert problem solv…</td><td>&quot;None&quot;</td><td>&quot;No&quot;</td><td>null</td><td>null</td><td>&quot;\\\\nGot it, let&#x27;s try to solve …</td><td>&quot;Got it, let&#x27;s try to solve thi…</td><td>&quot;To solve this problem, we need…</td><td>1</td><td>1003</td><td>8</td><td>&quot;Minor Flaws&quot;</td><td>&quot;Model response is incorrect bu…</td><td>&quot;{&#x27;remarks&#x27;: [{&#x27;intervene_index…</td><td>&quot;Codeforces/1852C&quot;</td><td>&quot;0.0&quot;</td><td>3.25293803e8</td><td>&quot;C++&quot;</td><td>0.0</td><td>-1</td></tr><tr><td>55732</td><td>282</td><td>&quot;ep-20250531134931-xwct7&quot;</td><td>&quot;You are a C++14 expert.&nbsp;&nbsp;\\nAlw…</td><td>&quot;You are an expert problem solv…</td><td>&quot;You are an expert problem solv…</td><td>&quot;You are an expert problem solv…</td><td>&quot;#include &lt;iostream&gt;\\n#include …</td><td>&quot;Yes&quot;</td><td>&quot;Exceeded global intervention c…</td><td>null</td><td>&quot;Got it, let&#x27;s try to solve thi…</td><td>&quot;&lt;abandon&gt;Got it, let&#x27;s try to …</td><td>&quot;To solve this problem, we need…</td><td>1</td><td>969</td><td>15</td><td>&quot;Faulty&quot;</td><td>&quot;Model response is incorrect an…</td><td>&quot;{&#x27;remarks&#x27;: [{&#x27;intervene_index…</td><td>&quot;Codeforces/367E&quot;</td><td>null</td><td>3.24745144e8</td><td>&quot;C++&quot;</td><td>0.0</td><td>31305837</td></tr><tr><td>60257</td><td>248</td><td>&quot;ep-20250531134931-xwct7&quot;</td><td>&quot;You&#x27;ve got a non-decreasing se…</td><td>&quot;You are an expert problem solv…</td><td>&quot;You are an expert problem solv…</td><td>&quot;You are an expert problem solv…</td><td>&quot;#include &lt;bits/stdc++.h&gt;\\n#def…</td><td>&quot;Yes&quot;</td><td>&quot;Exceeded local intervention co…</td><td>null</td><td>&quot;Okay, let&#x27;s try to solve this …</td><td>&quot;Okay, let&#x27;s try to solve this …</td><td>&quot;To solve this problem, we need…</td><td>1</td><td>1588</td><td>6</td><td>&quot;Faulty&quot;</td><td>&quot;Model response is incorrect an…</td><td>&quot;{&#x27;remarks&#x27;: [{&#x27;intervene_index…</td><td>&quot;CF280E&quot;</td><td>&quot;7.0&quot;</td><td>3.24715555e8</td><td>&quot;C++&quot;</td><td>null</td><td>1794085</td></tr><tr><td>60264</td><td>270</td><td>&quot;ep-20250531134931-xwct7&quot;</td><td>&quot;Solving the given programming …</td><td>&quot;You are an expert problem solv…</td><td>&quot;You are an expert problem solv…</td><td>&quot;You are an expert problem solv…</td><td>&quot;#include &lt;iostream&gt;\\n#include …</td><td>&quot;Yes&quot;</td><td>&quot;Exceeded local intervention co…</td><td>null</td><td>&quot;Got it, let&#x27;s tackle this prob…</td><td>&quot;Got it, let&#x27;s tackle this prob…</td><td>&quot;To solve this problem, we need…</td><td>1</td><td>821</td><td>5</td><td>&quot;Faulty&quot;</td><td>&quot;Model response is incorrect an…</td><td>&quot;{&#x27;remarks&#x27;: [{&#x27;intervene_index…</td><td>&quot;Codeforces/724D&quot;</td><td>&quot;0&quot;</td><td>3.24622328e8</td><td>&quot;C++&quot;</td><td>0.0</td><td>13168981</td></tr><tr><td>&hellip;</td><td>&hellip;</td><td>&hellip;</td><td>&hellip;</td><td>&hellip;</td><td>&hellip;</td><td>&hellip;</td><td>&hellip;</td><td>&hellip;</td><td>&hellip;</td><td>&hellip;</td><td>&hellip;</td><td>&hellip;</td><td>&hellip;</td><td>&hellip;</td><td>&hellip;</td><td>&hellip;</td><td>&hellip;</td><td>&hellip;</td><td>&hellip;</td><td>&hellip;</td><td>&hellip;</td><td>&hellip;</td><td>&hellip;</td><td>&hellip;</td><td>&hellip;</td></tr><tr><td>69720</td><td>400</td><td>&quot;ep-20250531134931-xwct7&quot;</td><td>&quot;Solving the given programming …</td><td>&quot;You are an expert problem solv…</td><td>&quot;You are an expert problem solv…</td><td>&quot;None&quot;</td><td>&quot;None&quot;</td><td>&quot;No&quot;</td><td>null</td><td>null</td><td>&quot;\\\\nGot it, let&#x27;s try to solve …</td><td>&quot;\\\\nGot it, let&#x27;s try to solve …</td><td>&quot;To solve this problem, we need…</td><td>1</td><td>1833</td><td>0</td><td>&quot;Good&quot;</td><td>&quot;Model response is correct with…</td><td>&quot;{&#x27;remarks&#x27;: []}&quot;</td><td>&quot;Codeforces/1980G&quot;</td><td>null</td><td>3.24994772e8</td><td>&quot;C++&quot;</td><td>0.0</td><td>-1</td></tr><tr><td>69755</td><td>136</td><td>&quot;ep-20250531134931-xwct7&quot;</td><td>&quot;Solving the given programming …</td><td>&quot;You are an expert problem solv…</td><td>&quot;You are an expert problem solv…</td><td>&quot;You are an expert problem solv…</td><td>&quot;#include &lt;bits/stdc++.h&gt;\\nusin…</td><td>&quot;Yes&quot;</td><td>&quot;Exceeded local intervention co…</td><td>null</td><td>&quot;\\\\nGot it, let&#x27;s try to solve …</td><td>&quot;&lt;abandon&gt;Got it, let&#x27;s try to …</td><td>&quot;To solve this problem, we need…</td><td>1</td><td>2494</td><td>6</td><td>&quot;Faulty&quot;</td><td>&quot;Model response is incorrect an…</td><td>&quot;{&#x27;remarks&#x27;: [{&#x27;intervene_index…</td><td>&quot;Codeforces/494C&quot;</td><td>&quot;0&quot;</td><td>3.24759469e8</td><td>&quot;C++&quot;</td><td>0.0</td><td>-1</td></tr><tr><td>69757</td><td>136</td><td>&quot;ep-20250531134931-xwct7&quot;</td><td>&quot;Solving the given programming …</td><td>&quot;You are an expert problem solv…</td><td>&quot;You are an expert problem solv…</td><td>&quot;You are an expert problem solv…</td><td>&quot;#include &lt;bits/stdc++.h&gt;\\nusin…</td><td>&quot;Yes&quot;</td><td>&quot;Exceeded local intervention co…</td><td>null</td><td>&quot;\\\\nGot it, let&#x27;s try to solve …</td><td>&quot;\\\\nGot it, let&#x27;s try to solve …</td><td>&quot;To solve this problem, we need…</td><td>1</td><td>1429</td><td>10</td><td>&quot;Minor Flaws&quot;</td><td>&quot;Model response is incorrect an…</td><td>&quot;{&#x27;remarks&#x27;: [{&#x27;intervene_index…</td><td>&quot;Codeforces/1784D&quot;</td><td>&quot;0&quot;</td><td>3.24985827e8</td><td>&quot;C++&quot;</td><td>0.0</td><td>-1</td></tr><tr><td>69838</td><td>126</td><td>&quot;ep-20250531134931-xwct7&quot;</td><td>&quot;Solving the given programming …</td><td>&quot;You are an expert problem solv…</td><td>&quot;You are an expert problem solv…</td><td>&quot;You are an expert problem solv…</td><td>&quot;#include &lt;iostream&gt;\\n#include …</td><td>&quot;Yes&quot;</td><td>&quot;Exceeded local intervention co…</td><td>null</td><td>&quot;\\\\nGot it, let&#x27;s try to solve …</td><td>&quot;\\\\nGot it, let&#x27;s try to solve …</td><td>&quot;To solve this problem, we need…</td><td>1</td><td>1140</td><td>6</td><td>&quot;Faulty&quot;</td><td>&quot;Model response is incorrect an…</td><td>&quot;{&#x27;remarks&#x27;: [{&#x27;intervene_index…</td><td>&quot;Codeforces/986C&quot;</td><td>&quot;0&quot;</td><td>3.24758193e8</td><td>&quot;C++&quot;</td><td>0.0</td><td>-1</td></tr><tr><td>69847</td><td>505</td><td>&quot;ep-20250531134931-xwct7&quot;</td><td>&quot;Solving the given programming …</td><td>&quot;You are an expert problem solv…</td><td>&quot;You are an expert problem solv…</td><td>&quot;None&quot;</td><td>&quot;None&quot;</td><td>&quot;No&quot;</td><td>null</td><td>null</td><td>&quot;Got it, let&#x27;s tackle this prob…</td><td>&quot;Got it, let&#x27;s tackle this prob…</td><td>&quot;To solve this problem, we need…</td><td>1</td><td>762</td><td>0</td><td>&quot;Good&quot;</td><td>&quot;Model response is correct with…</td><td>&quot;{&#x27;remarks&#x27;: []}&quot;</td><td>&quot;Codeforces/312A&quot;</td><td>&quot;0&quot;</td><td>3.24993681e8</td><td>&quot;C++&quot;</td><td>0.0</td><td>-1</td></tr></tbody></table></div>"
      ],
      "text/plain": [
       "shape: (556, 26)\n",
       "┌─────────┬────────────┬────────────┬────────────┬───┬────────────┬────────────┬──────┬────────────┐\n",
       "│ task id ┆ trainer id ┆ model name ┆ user       ┆ … ┆ codeforces ┆ programmin ┆ ACC  ┆ total_late │\n",
       "│ ---     ┆ ---        ┆ ---        ┆ prompt     ┆   ┆ _submissio ┆ g_language ┆ ---  ┆ ncy (ms)   │\n",
       "│ i64     ┆ i64        ┆ str        ┆ ---        ┆   ┆ n_id       ┆ ---        ┆ f64  ┆ ---        │\n",
       "│         ┆            ┆            ┆ str        ┆   ┆ ---        ┆ str        ┆      ┆ i64        │\n",
       "│         ┆            ┆            ┆            ┆   ┆ f64        ┆            ┆      ┆            │\n",
       "╞═════════╪════════════╪════════════╪════════════╪═══╪════════════╪════════════╪══════╪════════════╡\n",
       "│ 69604   ┆ 281        ┆ ep-2025053 ┆ Solving    ┆ … ┆ 3.2559164e ┆ C++        ┆ 0.0  ┆ -1         │\n",
       "│         ┆            ┆ 1134931-xw ┆ the given  ┆   ┆ 8          ┆            ┆      ┆            │\n",
       "│         ┆            ┆ ct7        ┆ programmin ┆   ┆            ┆            ┆      ┆            │\n",
       "│         ┆            ┆            ┆ g …        ┆   ┆            ┆            ┆      ┆            │\n",
       "│ 69773   ┆ 518        ┆ ep-2025053 ┆ Solving    ┆ … ┆ 3.25293803 ┆ C++        ┆ 0.0  ┆ -1         │\n",
       "│         ┆            ┆ 1134931-xw ┆ the given  ┆   ┆ e8         ┆            ┆      ┆            │\n",
       "│         ┆            ┆ ct7        ┆ programmin ┆   ┆            ┆            ┆      ┆            │\n",
       "│         ┆            ┆            ┆ g …        ┆   ┆            ┆            ┆      ┆            │\n",
       "│ 55732   ┆ 282        ┆ ep-2025053 ┆ You are a  ┆ … ┆ 3.24745144 ┆ C++        ┆ 0.0  ┆ 31305837   │\n",
       "│         ┆            ┆ 1134931-xw ┆ C++14      ┆   ┆ e8         ┆            ┆      ┆            │\n",
       "│         ┆            ┆ ct7        ┆ expert.    ┆   ┆            ┆            ┆      ┆            │\n",
       "│         ┆            ┆            ┆ \\nAlw…     ┆   ┆            ┆            ┆      ┆            │\n",
       "│ 60257   ┆ 248        ┆ ep-2025053 ┆ You've got ┆ … ┆ 3.24715555 ┆ C++        ┆ null ┆ 1794085    │\n",
       "│         ┆            ┆ 1134931-xw ┆ a non-decr ┆   ┆ e8         ┆            ┆      ┆            │\n",
       "│         ┆            ┆ ct7        ┆ easing se… ┆   ┆            ┆            ┆      ┆            │\n",
       "│ 60264   ┆ 270        ┆ ep-2025053 ┆ Solving    ┆ … ┆ 3.24622328 ┆ C++        ┆ 0.0  ┆ 13168981   │\n",
       "│         ┆            ┆ 1134931-xw ┆ the given  ┆   ┆ e8         ┆            ┆      ┆            │\n",
       "│         ┆            ┆ ct7        ┆ programmin ┆   ┆            ┆            ┆      ┆            │\n",
       "│         ┆            ┆            ┆ g …        ┆   ┆            ┆            ┆      ┆            │\n",
       "│ …       ┆ …          ┆ …          ┆ …          ┆ … ┆ …          ┆ …          ┆ …    ┆ …          │\n",
       "│ 69720   ┆ 400        ┆ ep-2025053 ┆ Solving    ┆ … ┆ 3.24994772 ┆ C++        ┆ 0.0  ┆ -1         │\n",
       "│         ┆            ┆ 1134931-xw ┆ the given  ┆   ┆ e8         ┆            ┆      ┆            │\n",
       "│         ┆            ┆ ct7        ┆ programmin ┆   ┆            ┆            ┆      ┆            │\n",
       "│         ┆            ┆            ┆ g …        ┆   ┆            ┆            ┆      ┆            │\n",
       "│ 69755   ┆ 136        ┆ ep-2025053 ┆ Solving    ┆ … ┆ 3.24759469 ┆ C++        ┆ 0.0  ┆ -1         │\n",
       "│         ┆            ┆ 1134931-xw ┆ the given  ┆   ┆ e8         ┆            ┆      ┆            │\n",
       "│         ┆            ┆ ct7        ┆ programmin ┆   ┆            ┆            ┆      ┆            │\n",
       "│         ┆            ┆            ┆ g …        ┆   ┆            ┆            ┆      ┆            │\n",
       "│ 69757   ┆ 136        ┆ ep-2025053 ┆ Solving    ┆ … ┆ 3.24985827 ┆ C++        ┆ 0.0  ┆ -1         │\n",
       "│         ┆            ┆ 1134931-xw ┆ the given  ┆   ┆ e8         ┆            ┆      ┆            │\n",
       "│         ┆            ┆ ct7        ┆ programmin ┆   ┆            ┆            ┆      ┆            │\n",
       "│         ┆            ┆            ┆ g …        ┆   ┆            ┆            ┆      ┆            │\n",
       "│ 69838   ┆ 126        ┆ ep-2025053 ┆ Solving    ┆ … ┆ 3.24758193 ┆ C++        ┆ 0.0  ┆ -1         │\n",
       "│         ┆            ┆ 1134931-xw ┆ the given  ┆   ┆ e8         ┆            ┆      ┆            │\n",
       "│         ┆            ┆ ct7        ┆ programmin ┆   ┆            ┆            ┆      ┆            │\n",
       "│         ┆            ┆            ┆ g …        ┆   ┆            ┆            ┆      ┆            │\n",
       "│ 69847   ┆ 505        ┆ ep-2025053 ┆ Solving    ┆ … ┆ 3.24993681 ┆ C++        ┆ 0.0  ┆ -1         │\n",
       "│         ┆            ┆ 1134931-xw ┆ the given  ┆   ┆ e8         ┆            ┆      ┆            │\n",
       "│         ┆            ┆ ct7        ┆ programmin ┆   ┆            ┆            ┆      ┆            │\n",
       "│         ┆            ┆            ┆ g …        ┆   ┆            ┆            ┆      ┆            │\n",
       "└─────────┴────────────┴────────────┴────────────┴───┴────────────┴────────────┴──────┴────────────┘"
      ]
     },
     "execution_count": 20,
     "metadata": {},
     "output_type": "execute_result"
    }
   ],
   "source": [
    "df.filter(pl.col(\"model name\") == \"ep-20250531134931-xwct7\")"
   ]
  },
  {
   "cell_type": "code",
   "execution_count": 15,
   "metadata": {},
   "outputs": [
    {
     "data": {
      "text/html": [
       "<div><style>\n",
       ".dataframe > thead > tr,\n",
       ".dataframe > tbody > tr {\n",
       "  text-align: right;\n",
       "  white-space: pre-wrap;\n",
       "}\n",
       "</style>\n",
       "<small>shape: (433, 26)</small><table border=\"1\" class=\"dataframe\"><thead><tr><th>task id</th><th>trainer id</th><th>model name</th><th>user prompt</th><th>system prompt</th><th>intervene_system_prompt</th><th>intervene prompt</th><th>ground_truth_answer</th><th>abandon_prompt</th><th>abandon_prompt_reason</th><th>abandon_prompt_explanation</th><th>initial_reasoning</th><th>response</th><th>final_answer</th><th>temperature</th><th>total_tokens</th><th>intervention rounds</th><th>CoT quality</th><th>Model performance classification</th><th>remarks</th><th>question_id</th><th>level</th><th>codeforces_submission_id</th><th>programming_language</th><th>ACC</th><th>total_latency (ms)</th></tr><tr><td>i64</td><td>i64</td><td>str</td><td>str</td><td>str</td><td>str</td><td>str</td><td>str</td><td>str</td><td>str</td><td>str</td><td>str</td><td>str</td><td>str</td><td>i64</td><td>i64</td><td>i64</td><td>str</td><td>str</td><td>str</td><td>str</td><td>str</td><td>f64</td><td>str</td><td>f64</td><td>i64</td></tr></thead><tbody><tr><td>69604</td><td>281</td><td>&quot;ep-20250531134931-xwct7&quot;</td><td>&quot;Solving the given programming …</td><td>&quot;You are an expert problem solv…</td><td>&quot;You are an expert problem solv…</td><td>&quot;You are an expert problem solv…</td><td>&quot;#include &lt;iostream&gt;\\n#include …</td><td>&quot;No&quot;</td><td>null</td><td>null</td><td>&quot;Got it, let&#x27;s start by correct…</td><td>&quot;Got it, let&#x27;s start by correct…</td><td>&quot;To solve this problem, we need…</td><td>1</td><td>1303</td><td>11</td><td>&quot;Good&quot;</td><td>&quot;Model response is incorrect bu…</td><td>&quot;{&#x27;remarks&#x27;: [{&#x27;intervene_index…</td><td>&quot;Codeforces/1713E&quot;</td><td>null</td><td>3.2559164e8</td><td>&quot;C++&quot;</td><td>0.0</td><td>-1</td></tr><tr><td>69773</td><td>518</td><td>&quot;ep-20250531134931-xwct7&quot;</td><td>&quot;Solving the given programming …</td><td>&quot;You are an expert problem solv…</td><td>&quot;You are an expert problem solv…</td><td>&quot;You are an expert problem solv…</td><td>&quot;None&quot;</td><td>&quot;No&quot;</td><td>null</td><td>null</td><td>&quot;\\\\nGot it, let&#x27;s try to solve …</td><td>&quot;Got it, let&#x27;s try to solve thi…</td><td>&quot;To solve this problem, we need…</td><td>1</td><td>1003</td><td>8</td><td>&quot;Minor Flaws&quot;</td><td>&quot;Model response is incorrect bu…</td><td>&quot;{&#x27;remarks&#x27;: [{&#x27;intervene_index…</td><td>&quot;Codeforces/1852C&quot;</td><td>&quot;0.0&quot;</td><td>3.25293803e8</td><td>&quot;C++&quot;</td><td>0.0</td><td>-1</td></tr><tr><td>66477</td><td>521</td><td>&quot;ep-20250531134931-xwct7&quot;</td><td>&quot;You are given an undirected gr…</td><td>&quot;You are an expert problem solv…</td><td>&quot;You are an expert problem solv…</td><td>&quot;You are an expert problem solv…</td><td>&quot;None&quot;</td><td>&quot;No&quot;</td><td>null</td><td>null</td><td>&quot;Um, let&#x27;s see.\\n\\nThe problem …</td><td>&quot;Um, let&#x27;s see.\\nThe problem is…</td><td>&quot;To solve this problem, we need…</td><td>1</td><td>1733</td><td>11</td><td>&quot;Good&quot;</td><td>&quot;Model response is incorrect bu…</td><td>&quot;{&#x27;remarks&#x27;: [{&#x27;intervene_index…</td><td>&quot;Codeforces/1221G&quot;</td><td>null</td><td>3.24098272e8</td><td>&quot;C++&quot;</td><td>0.1875</td><td>1626554</td></tr><tr><td>66676</td><td>376</td><td>&quot;ep-20250531134931-xwct7&quot;</td><td>&quot;Solving the given programming …</td><td>&quot;You are an expert problem solv…</td><td>&quot;You are an expert problem solv…</td><td>&quot;You are an expert problem solv…</td><td>&quot;None&quot;</td><td>&quot;No&quot;</td><td>null</td><td>null</td><td>&quot;So the strategy could be:\\n\\n-…</td><td>&quot;Um, let&#x27;s tackle this problem.…</td><td>&quot;To solve this problem, we need…</td><td>1</td><td>1472</td><td>1</td><td>&quot;Good&quot;</td><td>&quot;Model response is incorrect bu…</td><td>&quot;{&#x27;remarks&#x27;: [{&#x27;intervene_index…</td><td>&quot;Codeforces/453B&quot;</td><td>null</td><td>3.24661165e8</td><td>&quot;C++&quot;</td><td>0.0</td><td>916470</td></tr><tr><td>69343</td><td>526</td><td>&quot;ep-20250531134931-xwct7&quot;</td><td>&quot;Famil Door\\u2019s City map loo…</td><td>&quot;You are an expert problem solv…</td><td>&quot;You are an expert problem solv…</td><td>&quot;None&quot;</td><td>&quot;None&quot;</td><td>&quot;No&quot;</td><td>null</td><td>null</td><td>&quot;\\\\nGot it, let&#x27;s try to solve …</td><td>&quot;\\\\nGot it, let&#x27;s try to solve …</td><td>&quot;To solve this problem, we need…</td><td>1</td><td>2094</td><td>0</td><td>&quot;Good&quot;</td><td>&quot;Model response is correct with…</td><td>&quot;{&#x27;remarks&#x27;: []}&quot;</td><td>&quot;CF629E&quot;</td><td>&quot;5.0&quot;</td><td>3.24648091e8</td><td>&quot;C++&quot;</td><td>null</td><td>-1</td></tr><tr><td>&hellip;</td><td>&hellip;</td><td>&hellip;</td><td>&hellip;</td><td>&hellip;</td><td>&hellip;</td><td>&hellip;</td><td>&hellip;</td><td>&hellip;</td><td>&hellip;</td><td>&hellip;</td><td>&hellip;</td><td>&hellip;</td><td>&hellip;</td><td>&hellip;</td><td>&hellip;</td><td>&hellip;</td><td>&hellip;</td><td>&hellip;</td><td>&hellip;</td><td>&hellip;</td><td>&hellip;</td><td>&hellip;</td><td>&hellip;</td><td>&hellip;</td><td>&hellip;</td></tr><tr><td>69669</td><td>282</td><td>&quot;ep-20250531134931-xwct7&quot;</td><td>&quot;Solving the given programming …</td><td>&quot;You are an expert problem solv…</td><td>&quot;You are an expert problem solv…</td><td>&quot;You are an expert problem solv…</td><td>&quot;None&quot;</td><td>&quot;No&quot;</td><td>null</td><td>null</td><td>&quot;\\\\nGot it, let&#x27;s try to solve …</td><td>&quot;\\\\nGot it, let&#x27;s try to solve …</td><td>&quot;To address the core issue of d…</td><td>1</td><td>1785</td><td>1</td><td>&quot;Good&quot;</td><td>&quot;Model response is incorrect bu…</td><td>&quot;{&#x27;remarks&#x27;: [{&#x27;intervene_index…</td><td>&quot;Codeforces/163E&quot;</td><td>null</td><td>3.24941857e8</td><td>&quot;C++&quot;</td><td>0.125</td><td>-1</td></tr><tr><td>69677</td><td>282</td><td>&quot;ep-20250531134931-xwct7&quot;</td><td>&quot;Solving the given programming …</td><td>&quot;You are an expert problem solv…</td><td>&quot;You are an expert problem solv…</td><td>&quot;None&quot;</td><td>&quot;None&quot;</td><td>&quot;No&quot;</td><td>null</td><td>null</td><td>&quot;\\\\nGot it, let&#x27;s try to solve …</td><td>&quot;\\\\nGot it, let&#x27;s try to solve …</td><td>&quot;To solve this problem, we need…</td><td>1</td><td>1408</td><td>0</td><td>&quot;Good&quot;</td><td>&quot;Model response is correct with…</td><td>&quot;{&#x27;remarks&#x27;: []}&quot;</td><td>&quot;Codeforces/796C&quot;</td><td>null</td><td>3.24772998e8</td><td>&quot;C++&quot;</td><td>0.125</td><td>-1</td></tr><tr><td>69712</td><td>385</td><td>&quot;ep-20250531134931-xwct7&quot;</td><td>&quot;Solving the given programming …</td><td>&quot;You are an expert problem solv…</td><td>&quot;You are an expert problem solv…</td><td>&quot;None&quot;</td><td>&quot;None&quot;</td><td>&quot;No&quot;</td><td>null</td><td>null</td><td>&quot;\\\\nGot it, let&#x27;s tackle this p…</td><td>&quot;\\\\nGot it, let&#x27;s tackle this p…</td><td>&quot;To solve this problem, we need…</td><td>1</td><td>1640</td><td>0</td><td>&quot;Good&quot;</td><td>&quot;Model response is correct with…</td><td>&quot;{&#x27;remarks&#x27;: []}&quot;</td><td>&quot;Codeforces/342E&quot;</td><td>&quot;0&quot;</td><td>3.24992128e8</td><td>&quot;C++&quot;</td><td>0.0</td><td>-1</td></tr><tr><td>69720</td><td>400</td><td>&quot;ep-20250531134931-xwct7&quot;</td><td>&quot;Solving the given programming …</td><td>&quot;You are an expert problem solv…</td><td>&quot;You are an expert problem solv…</td><td>&quot;None&quot;</td><td>&quot;None&quot;</td><td>&quot;No&quot;</td><td>null</td><td>null</td><td>&quot;\\\\nGot it, let&#x27;s try to solve …</td><td>&quot;\\\\nGot it, let&#x27;s try to solve …</td><td>&quot;To solve this problem, we need…</td><td>1</td><td>1833</td><td>0</td><td>&quot;Good&quot;</td><td>&quot;Model response is correct with…</td><td>&quot;{&#x27;remarks&#x27;: []}&quot;</td><td>&quot;Codeforces/1980G&quot;</td><td>null</td><td>3.24994772e8</td><td>&quot;C++&quot;</td><td>0.0</td><td>-1</td></tr><tr><td>69847</td><td>505</td><td>&quot;ep-20250531134931-xwct7&quot;</td><td>&quot;Solving the given programming …</td><td>&quot;You are an expert problem solv…</td><td>&quot;You are an expert problem solv…</td><td>&quot;None&quot;</td><td>&quot;None&quot;</td><td>&quot;No&quot;</td><td>null</td><td>null</td><td>&quot;Got it, let&#x27;s tackle this prob…</td><td>&quot;Got it, let&#x27;s tackle this prob…</td><td>&quot;To solve this problem, we need…</td><td>1</td><td>762</td><td>0</td><td>&quot;Good&quot;</td><td>&quot;Model response is correct with…</td><td>&quot;{&#x27;remarks&#x27;: []}&quot;</td><td>&quot;Codeforces/312A&quot;</td><td>&quot;0&quot;</td><td>3.24993681e8</td><td>&quot;C++&quot;</td><td>0.0</td><td>-1</td></tr></tbody></table></div>"
      ],
      "text/plain": [
       "shape: (433, 26)\n",
       "┌─────────┬────────────┬────────────┬────────────┬───┬────────────┬───────────┬────────┬───────────┐\n",
       "│ task id ┆ trainer id ┆ model name ┆ user       ┆ … ┆ codeforces ┆ programmi ┆ ACC    ┆ total_lat │\n",
       "│ ---     ┆ ---        ┆ ---        ┆ prompt     ┆   ┆ _submissio ┆ ng_langua ┆ ---    ┆ ency (ms) │\n",
       "│ i64     ┆ i64        ┆ str        ┆ ---        ┆   ┆ n_id       ┆ ge        ┆ f64    ┆ ---       │\n",
       "│         ┆            ┆            ┆ str        ┆   ┆ ---        ┆ ---       ┆        ┆ i64       │\n",
       "│         ┆            ┆            ┆            ┆   ┆ f64        ┆ str       ┆        ┆           │\n",
       "╞═════════╪════════════╪════════════╪════════════╪═══╪════════════╪═══════════╪════════╪═══════════╡\n",
       "│ 69604   ┆ 281        ┆ ep-2025053 ┆ Solving    ┆ … ┆ 3.2559164e ┆ C++       ┆ 0.0    ┆ -1        │\n",
       "│         ┆            ┆ 1134931-xw ┆ the given  ┆   ┆ 8          ┆           ┆        ┆           │\n",
       "│         ┆            ┆ ct7        ┆ programmin ┆   ┆            ┆           ┆        ┆           │\n",
       "│         ┆            ┆            ┆ g …        ┆   ┆            ┆           ┆        ┆           │\n",
       "│ 69773   ┆ 518        ┆ ep-2025053 ┆ Solving    ┆ … ┆ 3.25293803 ┆ C++       ┆ 0.0    ┆ -1        │\n",
       "│         ┆            ┆ 1134931-xw ┆ the given  ┆   ┆ e8         ┆           ┆        ┆           │\n",
       "│         ┆            ┆ ct7        ┆ programmin ┆   ┆            ┆           ┆        ┆           │\n",
       "│         ┆            ┆            ┆ g …        ┆   ┆            ┆           ┆        ┆           │\n",
       "│ 66477   ┆ 521        ┆ ep-2025053 ┆ You are    ┆ … ┆ 3.24098272 ┆ C++       ┆ 0.1875 ┆ 1626554   │\n",
       "│         ┆            ┆ 1134931-xw ┆ given an   ┆   ┆ e8         ┆           ┆        ┆           │\n",
       "│         ┆            ┆ ct7        ┆ undirected ┆   ┆            ┆           ┆        ┆           │\n",
       "│         ┆            ┆            ┆ gr…        ┆   ┆            ┆           ┆        ┆           │\n",
       "│ 66676   ┆ 376        ┆ ep-2025053 ┆ Solving    ┆ … ┆ 3.24661165 ┆ C++       ┆ 0.0    ┆ 916470    │\n",
       "│         ┆            ┆ 1134931-xw ┆ the given  ┆   ┆ e8         ┆           ┆        ┆           │\n",
       "│         ┆            ┆ ct7        ┆ programmin ┆   ┆            ┆           ┆        ┆           │\n",
       "│         ┆            ┆            ┆ g …        ┆   ┆            ┆           ┆        ┆           │\n",
       "│ 69343   ┆ 526        ┆ ep-2025053 ┆ Famil Door ┆ … ┆ 3.24648091 ┆ C++       ┆ null   ┆ -1        │\n",
       "│         ┆            ┆ 1134931-xw ┆ \\u2019s    ┆   ┆ e8         ┆           ┆        ┆           │\n",
       "│         ┆            ┆ ct7        ┆ City map   ┆   ┆            ┆           ┆        ┆           │\n",
       "│         ┆            ┆            ┆ loo…       ┆   ┆            ┆           ┆        ┆           │\n",
       "│ …       ┆ …          ┆ …          ┆ …          ┆ … ┆ …          ┆ …         ┆ …      ┆ …         │\n",
       "│ 69669   ┆ 282        ┆ ep-2025053 ┆ Solving    ┆ … ┆ 3.24941857 ┆ C++       ┆ 0.125  ┆ -1        │\n",
       "│         ┆            ┆ 1134931-xw ┆ the given  ┆   ┆ e8         ┆           ┆        ┆           │\n",
       "│         ┆            ┆ ct7        ┆ programmin ┆   ┆            ┆           ┆        ┆           │\n",
       "│         ┆            ┆            ┆ g …        ┆   ┆            ┆           ┆        ┆           │\n",
       "│ 69677   ┆ 282        ┆ ep-2025053 ┆ Solving    ┆ … ┆ 3.24772998 ┆ C++       ┆ 0.125  ┆ -1        │\n",
       "│         ┆            ┆ 1134931-xw ┆ the given  ┆   ┆ e8         ┆           ┆        ┆           │\n",
       "│         ┆            ┆ ct7        ┆ programmin ┆   ┆            ┆           ┆        ┆           │\n",
       "│         ┆            ┆            ┆ g …        ┆   ┆            ┆           ┆        ┆           │\n",
       "│ 69712   ┆ 385        ┆ ep-2025053 ┆ Solving    ┆ … ┆ 3.24992128 ┆ C++       ┆ 0.0    ┆ -1        │\n",
       "│         ┆            ┆ 1134931-xw ┆ the given  ┆   ┆ e8         ┆           ┆        ┆           │\n",
       "│         ┆            ┆ ct7        ┆ programmin ┆   ┆            ┆           ┆        ┆           │\n",
       "│         ┆            ┆            ┆ g …        ┆   ┆            ┆           ┆        ┆           │\n",
       "│ 69720   ┆ 400        ┆ ep-2025053 ┆ Solving    ┆ … ┆ 3.24994772 ┆ C++       ┆ 0.0    ┆ -1        │\n",
       "│         ┆            ┆ 1134931-xw ┆ the given  ┆   ┆ e8         ┆           ┆        ┆           │\n",
       "│         ┆            ┆ ct7        ┆ programmin ┆   ┆            ┆           ┆        ┆           │\n",
       "│         ┆            ┆            ┆ g …        ┆   ┆            ┆           ┆        ┆           │\n",
       "│ 69847   ┆ 505        ┆ ep-2025053 ┆ Solving    ┆ … ┆ 3.24993681 ┆ C++       ┆ 0.0    ┆ -1        │\n",
       "│         ┆            ┆ 1134931-xw ┆ the given  ┆   ┆ e8         ┆           ┆        ┆           │\n",
       "│         ┆            ┆ ct7        ┆ programmin ┆   ┆            ┆           ┆        ┆           │\n",
       "│         ┆            ┆            ┆ g …        ┆   ┆            ┆           ┆        ┆           │\n",
       "└─────────┴────────────┴────────────┴────────────┴───┴────────────┴───────────┴────────┴───────────┘"
      ]
     },
     "execution_count": 15,
     "metadata": {},
     "output_type": "execute_result"
    }
   ],
   "source": [
    "df2 = df.filter((pl.col(\"model name\") == \"ep-20250531134931-xwct7\") & (pl.col(\"abandon_prompt\") == \"No\"))\n",
    "df2"
   ]
  },
  {
   "cell_type": "code",
   "execution_count": 18,
   "metadata": {},
   "outputs": [
    {
     "data": {
      "text/html": [
       "<div><style>\n",
       ".dataframe > thead > tr,\n",
       ".dataframe > tbody > tr {\n",
       "  text-align: right;\n",
       "  white-space: pre-wrap;\n",
       "}\n",
       "</style>\n",
       "<small>shape: (351, 26)</small><table border=\"1\" class=\"dataframe\"><thead><tr><th>task id</th><th>trainer id</th><th>model name</th><th>user prompt</th><th>system prompt</th><th>intervene_system_prompt</th><th>intervene prompt</th><th>ground_truth_answer</th><th>abandon_prompt</th><th>abandon_prompt_reason</th><th>abandon_prompt_explanation</th><th>initial_reasoning</th><th>response</th><th>final_answer</th><th>temperature</th><th>total_tokens</th><th>intervention rounds</th><th>CoT quality</th><th>Model performance classification</th><th>remarks</th><th>question_id</th><th>level</th><th>codeforces_submission_id</th><th>programming_language</th><th>ACC</th><th>total_latency (ms)</th></tr><tr><td>i64</td><td>i64</td><td>str</td><td>str</td><td>str</td><td>str</td><td>str</td><td>str</td><td>str</td><td>str</td><td>str</td><td>str</td><td>str</td><td>str</td><td>i64</td><td>i64</td><td>i64</td><td>str</td><td>str</td><td>str</td><td>str</td><td>str</td><td>f64</td><td>str</td><td>f64</td><td>i64</td></tr></thead><tbody><tr><td>69604</td><td>281</td><td>&quot;ep-20250531134931-xwct7&quot;</td><td>&quot;Solving the given programming …</td><td>&quot;You are an expert problem solv…</td><td>&quot;You are an expert problem solv…</td><td>&quot;You are an expert problem solv…</td><td>&quot;#include &lt;iostream&gt;\\n#include …</td><td>&quot;No&quot;</td><td>null</td><td>null</td><td>&quot;Got it, let&#x27;s start by correct…</td><td>&quot;Got it, let&#x27;s start by correct…</td><td>&quot;To solve this problem, we need…</td><td>1</td><td>1303</td><td>11</td><td>&quot;Good&quot;</td><td>&quot;Model response is incorrect bu…</td><td>&quot;{&#x27;remarks&#x27;: [{&#x27;intervene_index…</td><td>&quot;Codeforces/1713E&quot;</td><td>null</td><td>3.2559164e8</td><td>&quot;C++&quot;</td><td>0.0</td><td>-1</td></tr><tr><td>69773</td><td>518</td><td>&quot;ep-20250531134931-xwct7&quot;</td><td>&quot;Solving the given programming …</td><td>&quot;You are an expert problem solv…</td><td>&quot;You are an expert problem solv…</td><td>&quot;You are an expert problem solv…</td><td>&quot;None&quot;</td><td>&quot;No&quot;</td><td>null</td><td>null</td><td>&quot;\\\\nGot it, let&#x27;s try to solve …</td><td>&quot;Got it, let&#x27;s try to solve thi…</td><td>&quot;To solve this problem, we need…</td><td>1</td><td>1003</td><td>8</td><td>&quot;Minor Flaws&quot;</td><td>&quot;Model response is incorrect bu…</td><td>&quot;{&#x27;remarks&#x27;: [{&#x27;intervene_index…</td><td>&quot;Codeforces/1852C&quot;</td><td>&quot;0.0&quot;</td><td>3.25293803e8</td><td>&quot;C++&quot;</td><td>0.0</td><td>-1</td></tr><tr><td>66477</td><td>521</td><td>&quot;ep-20250531134931-xwct7&quot;</td><td>&quot;You are given an undirected gr…</td><td>&quot;You are an expert problem solv…</td><td>&quot;You are an expert problem solv…</td><td>&quot;You are an expert problem solv…</td><td>&quot;None&quot;</td><td>&quot;No&quot;</td><td>null</td><td>null</td><td>&quot;Um, let&#x27;s see.\\n\\nThe problem …</td><td>&quot;Um, let&#x27;s see.\\nThe problem is…</td><td>&quot;To solve this problem, we need…</td><td>1</td><td>1733</td><td>11</td><td>&quot;Good&quot;</td><td>&quot;Model response is incorrect bu…</td><td>&quot;{&#x27;remarks&#x27;: [{&#x27;intervene_index…</td><td>&quot;Codeforces/1221G&quot;</td><td>null</td><td>3.24098272e8</td><td>&quot;C++&quot;</td><td>0.1875</td><td>1626554</td></tr><tr><td>66676</td><td>376</td><td>&quot;ep-20250531134931-xwct7&quot;</td><td>&quot;Solving the given programming …</td><td>&quot;You are an expert problem solv…</td><td>&quot;You are an expert problem solv…</td><td>&quot;You are an expert problem solv…</td><td>&quot;None&quot;</td><td>&quot;No&quot;</td><td>null</td><td>null</td><td>&quot;So the strategy could be:\\n\\n-…</td><td>&quot;Um, let&#x27;s tackle this problem.…</td><td>&quot;To solve this problem, we need…</td><td>1</td><td>1472</td><td>1</td><td>&quot;Good&quot;</td><td>&quot;Model response is incorrect bu…</td><td>&quot;{&#x27;remarks&#x27;: [{&#x27;intervene_index…</td><td>&quot;Codeforces/453B&quot;</td><td>null</td><td>3.24661165e8</td><td>&quot;C++&quot;</td><td>0.0</td><td>916470</td></tr><tr><td>69354</td><td>505</td><td>&quot;ep-20250531134931-xwct7&quot;</td><td>&quot;Solving the given programming …</td><td>&quot;You are an expert problem solv…</td><td>&quot;You are an expert problem solv…</td><td>&quot;You are an expert problem solv…</td><td>&quot;None&quot;</td><td>&quot;No&quot;</td><td>null</td><td>null</td><td>&quot;\\\\nGot it, let&#x27;s try to solve …</td><td>&quot;\\\\nGot it, let&#x27;s try to solve …</td><td>&quot;To solve this problem, we need…</td><td>1</td><td>832</td><td>1</td><td>&quot;Minor Flaws&quot;</td><td>&quot;Model response is incorrect bu…</td><td>&quot;{&#x27;remarks&#x27;: [{&#x27;intervene_index…</td><td>&quot;Codeforces/1852A&quot;</td><td>null</td><td>3.24732553e8</td><td>&quot;C++&quot;</td><td>0.125</td><td>-1</td></tr><tr><td>&hellip;</td><td>&hellip;</td><td>&hellip;</td><td>&hellip;</td><td>&hellip;</td><td>&hellip;</td><td>&hellip;</td><td>&hellip;</td><td>&hellip;</td><td>&hellip;</td><td>&hellip;</td><td>&hellip;</td><td>&hellip;</td><td>&hellip;</td><td>&hellip;</td><td>&hellip;</td><td>&hellip;</td><td>&hellip;</td><td>&hellip;</td><td>&hellip;</td><td>&hellip;</td><td>&hellip;</td><td>&hellip;</td><td>&hellip;</td><td>&hellip;</td><td>&hellip;</td></tr><tr><td>69628</td><td>557</td><td>&quot;ep-20250531134931-xwct7&quot;</td><td>&quot;Solving the given programming …</td><td>&quot;You are an expert problem solv…</td><td>&quot;You are an expert problem solv…</td><td>&quot;You are an expert problem solv…</td><td>&quot;None&quot;</td><td>&quot;No&quot;</td><td>null</td><td>null</td><td>&quot;\\\\nGot it, let&#x27;s try to figure…</td><td>&quot;\\\\nGot it, let&#x27;s try to figure…</td><td>&quot;To solve this problem, we need…</td><td>1</td><td>881</td><td>4</td><td>&quot;Minor Flaws&quot;</td><td>&quot;Model response is incorrect bu…</td><td>&quot;{&#x27;remarks&#x27;: [{&#x27;intervene_index…</td><td>&quot;Codeforces/1898E&quot;</td><td>null</td><td>3.24983844e8</td><td>&quot;C++&quot;</td><td>0.125</td><td>-1</td></tr><tr><td>69641</td><td>125</td><td>&quot;ep-20250531134931-xwct7&quot;</td><td>&quot;Solving the given programming …</td><td>&quot;You are an expert problem solv…</td><td>&quot;You are an expert problem solv…</td><td>&quot;You are an expert problem solv…</td><td>&quot;None&quot;</td><td>&quot;No&quot;</td><td>null</td><td>null</td><td>&quot;\\\\nGot it, let&#x27;s try to solve …</td><td>&quot;\\\\nGot it, let&#x27;s try to solve …</td><td>&quot;To solve this problem, we need…</td><td>1</td><td>917</td><td>1</td><td>&quot;Good&quot;</td><td>&quot;Model response is incorrect bu…</td><td>&quot;{&#x27;remarks&#x27;: [{&#x27;intervene_index…</td><td>&quot;Codeforces/1061D&quot;</td><td>null</td><td>3.24757409e8</td><td>&quot;C++&quot;</td><td>0.125</td><td>-1</td></tr><tr><td>69653</td><td>159</td><td>&quot;ep-20250531134931-xwct7&quot;</td><td>&quot;Solving the given programming …</td><td>&quot;You are an expert problem solv…</td><td>&quot;You are an expert problem solv…</td><td>&quot;You are an expert problem solv…</td><td>&quot;None&quot;</td><td>&quot;No&quot;</td><td>null</td><td>null</td><td>&quot;\\\\nGot it, let&#x27;s try to solve …</td><td>&quot;\\\\nGot it, let&#x27;s try to solve …</td><td>&quot;To resolve the parameter mix-u…</td><td>1</td><td>2789</td><td>1</td><td>&quot;Good&quot;</td><td>&quot;Model response is incorrect bu…</td><td>&quot;{&#x27;remarks&#x27;: [{&#x27;intervene_index…</td><td>&quot;Codeforces/1181E1&quot;</td><td>null</td><td>3.24761937e8</td><td>&quot;C++&quot;</td><td>0.25</td><td>-1</td></tr><tr><td>69655</td><td>131</td><td>&quot;ep-20250531134931-xwct7&quot;</td><td>&quot;Solving the given programming …</td><td>&quot;You are an expert problem solv…</td><td>&quot;You are an expert problem solv…</td><td>&quot;You are an expert problem solv…</td><td>&quot;None&quot;</td><td>&quot;No&quot;</td><td>null</td><td>null</td><td>&quot;\\\\nGot it, let&#x27;s try to solve …</td><td>&quot;\\\\nGot it, let&#x27;s try to solve …</td><td>&quot;None&quot;</td><td>1</td><td>1</td><td>3</td><td>&quot;Good&quot;</td><td>&quot;Model response is incorrect bu…</td><td>&quot;{&#x27;remarks&#x27;: [{&#x27;intervene_index…</td><td>&quot;Codeforces/1979E&quot;</td><td>null</td><td>3.24977374e8</td><td>&quot;C++&quot;</td><td>0.125</td><td>-1</td></tr><tr><td>69669</td><td>282</td><td>&quot;ep-20250531134931-xwct7&quot;</td><td>&quot;Solving the given programming …</td><td>&quot;You are an expert problem solv…</td><td>&quot;You are an expert problem solv…</td><td>&quot;You are an expert problem solv…</td><td>&quot;None&quot;</td><td>&quot;No&quot;</td><td>null</td><td>null</td><td>&quot;\\\\nGot it, let&#x27;s try to solve …</td><td>&quot;\\\\nGot it, let&#x27;s try to solve …</td><td>&quot;To address the core issue of d…</td><td>1</td><td>1785</td><td>1</td><td>&quot;Good&quot;</td><td>&quot;Model response is incorrect bu…</td><td>&quot;{&#x27;remarks&#x27;: [{&#x27;intervene_index…</td><td>&quot;Codeforces/163E&quot;</td><td>null</td><td>3.24941857e8</td><td>&quot;C++&quot;</td><td>0.125</td><td>-1</td></tr></tbody></table></div>"
      ],
      "text/plain": [
       "shape: (351, 26)\n",
       "┌─────────┬────────────┬────────────┬────────────┬───┬────────────┬───────────┬────────┬───────────┐\n",
       "│ task id ┆ trainer id ┆ model name ┆ user       ┆ … ┆ codeforces ┆ programmi ┆ ACC    ┆ total_lat │\n",
       "│ ---     ┆ ---        ┆ ---        ┆ prompt     ┆   ┆ _submissio ┆ ng_langua ┆ ---    ┆ ency (ms) │\n",
       "│ i64     ┆ i64        ┆ str        ┆ ---        ┆   ┆ n_id       ┆ ge        ┆ f64    ┆ ---       │\n",
       "│         ┆            ┆            ┆ str        ┆   ┆ ---        ┆ ---       ┆        ┆ i64       │\n",
       "│         ┆            ┆            ┆            ┆   ┆ f64        ┆ str       ┆        ┆           │\n",
       "╞═════════╪════════════╪════════════╪════════════╪═══╪════════════╪═══════════╪════════╪═══════════╡\n",
       "│ 69604   ┆ 281        ┆ ep-2025053 ┆ Solving    ┆ … ┆ 3.2559164e ┆ C++       ┆ 0.0    ┆ -1        │\n",
       "│         ┆            ┆ 1134931-xw ┆ the given  ┆   ┆ 8          ┆           ┆        ┆           │\n",
       "│         ┆            ┆ ct7        ┆ programmin ┆   ┆            ┆           ┆        ┆           │\n",
       "│         ┆            ┆            ┆ g …        ┆   ┆            ┆           ┆        ┆           │\n",
       "│ 69773   ┆ 518        ┆ ep-2025053 ┆ Solving    ┆ … ┆ 3.25293803 ┆ C++       ┆ 0.0    ┆ -1        │\n",
       "│         ┆            ┆ 1134931-xw ┆ the given  ┆   ┆ e8         ┆           ┆        ┆           │\n",
       "│         ┆            ┆ ct7        ┆ programmin ┆   ┆            ┆           ┆        ┆           │\n",
       "│         ┆            ┆            ┆ g …        ┆   ┆            ┆           ┆        ┆           │\n",
       "│ 66477   ┆ 521        ┆ ep-2025053 ┆ You are    ┆ … ┆ 3.24098272 ┆ C++       ┆ 0.1875 ┆ 1626554   │\n",
       "│         ┆            ┆ 1134931-xw ┆ given an   ┆   ┆ e8         ┆           ┆        ┆           │\n",
       "│         ┆            ┆ ct7        ┆ undirected ┆   ┆            ┆           ┆        ┆           │\n",
       "│         ┆            ┆            ┆ gr…        ┆   ┆            ┆           ┆        ┆           │\n",
       "│ 66676   ┆ 376        ┆ ep-2025053 ┆ Solving    ┆ … ┆ 3.24661165 ┆ C++       ┆ 0.0    ┆ 916470    │\n",
       "│         ┆            ┆ 1134931-xw ┆ the given  ┆   ┆ e8         ┆           ┆        ┆           │\n",
       "│         ┆            ┆ ct7        ┆ programmin ┆   ┆            ┆           ┆        ┆           │\n",
       "│         ┆            ┆            ┆ g …        ┆   ┆            ┆           ┆        ┆           │\n",
       "│ 69354   ┆ 505        ┆ ep-2025053 ┆ Solving    ┆ … ┆ 3.24732553 ┆ C++       ┆ 0.125  ┆ -1        │\n",
       "│         ┆            ┆ 1134931-xw ┆ the given  ┆   ┆ e8         ┆           ┆        ┆           │\n",
       "│         ┆            ┆ ct7        ┆ programmin ┆   ┆            ┆           ┆        ┆           │\n",
       "│         ┆            ┆            ┆ g …        ┆   ┆            ┆           ┆        ┆           │\n",
       "│ …       ┆ …          ┆ …          ┆ …          ┆ … ┆ …          ┆ …         ┆ …      ┆ …         │\n",
       "│ 69628   ┆ 557        ┆ ep-2025053 ┆ Solving    ┆ … ┆ 3.24983844 ┆ C++       ┆ 0.125  ┆ -1        │\n",
       "│         ┆            ┆ 1134931-xw ┆ the given  ┆   ┆ e8         ┆           ┆        ┆           │\n",
       "│         ┆            ┆ ct7        ┆ programmin ┆   ┆            ┆           ┆        ┆           │\n",
       "│         ┆            ┆            ┆ g …        ┆   ┆            ┆           ┆        ┆           │\n",
       "│ 69641   ┆ 125        ┆ ep-2025053 ┆ Solving    ┆ … ┆ 3.24757409 ┆ C++       ┆ 0.125  ┆ -1        │\n",
       "│         ┆            ┆ 1134931-xw ┆ the given  ┆   ┆ e8         ┆           ┆        ┆           │\n",
       "│         ┆            ┆ ct7        ┆ programmin ┆   ┆            ┆           ┆        ┆           │\n",
       "│         ┆            ┆            ┆ g …        ┆   ┆            ┆           ┆        ┆           │\n",
       "│ 69653   ┆ 159        ┆ ep-2025053 ┆ Solving    ┆ … ┆ 3.24761937 ┆ C++       ┆ 0.25   ┆ -1        │\n",
       "│         ┆            ┆ 1134931-xw ┆ the given  ┆   ┆ e8         ┆           ┆        ┆           │\n",
       "│         ┆            ┆ ct7        ┆ programmin ┆   ┆            ┆           ┆        ┆           │\n",
       "│         ┆            ┆            ┆ g …        ┆   ┆            ┆           ┆        ┆           │\n",
       "│ 69655   ┆ 131        ┆ ep-2025053 ┆ Solving    ┆ … ┆ 3.24977374 ┆ C++       ┆ 0.125  ┆ -1        │\n",
       "│         ┆            ┆ 1134931-xw ┆ the given  ┆   ┆ e8         ┆           ┆        ┆           │\n",
       "│         ┆            ┆ ct7        ┆ programmin ┆   ┆            ┆           ┆        ┆           │\n",
       "│         ┆            ┆            ┆ g …        ┆   ┆            ┆           ┆        ┆           │\n",
       "│ 69669   ┆ 282        ┆ ep-2025053 ┆ Solving    ┆ … ┆ 3.24941857 ┆ C++       ┆ 0.125  ┆ -1        │\n",
       "│         ┆            ┆ 1134931-xw ┆ the given  ┆   ┆ e8         ┆           ┆        ┆           │\n",
       "│         ┆            ┆ ct7        ┆ programmin ┆   ┆            ┆           ┆        ┆           │\n",
       "│         ┆            ┆            ┆ g …        ┆   ┆            ┆           ┆        ┆           │\n",
       "└─────────┴────────────┴────────────┴────────────┴───┴────────────┴───────────┴────────┴───────────┘"
      ]
     },
     "execution_count": 18,
     "metadata": {},
     "output_type": "execute_result"
    }
   ],
   "source": [
    "df3 = df2.filter((pl.col(\"model name\") == \"ep-20250531134931-xwct7\") & (pl.col(\"abandon_prompt\") == \"No\") & (pl.col(\"intervention rounds\") > 0))\n",
    "df3"
   ]
  },
  {
   "cell_type": "code",
   "execution_count": 19,
   "metadata": {},
   "outputs": [
    {
     "data": {
      "text/html": [
       "<div><style>\n",
       ".dataframe > thead > tr,\n",
       ".dataframe > tbody > tr {\n",
       "  text-align: right;\n",
       "  white-space: pre-wrap;\n",
       "}\n",
       "</style>\n",
       "<small>shape: (349, 1)</small><table border=\"1\" class=\"dataframe\"><thead><tr><th>task id</th></tr><tr><td>i64</td></tr></thead><tbody><tr><td>69643</td></tr><tr><td>70556</td></tr><tr><td>70419</td></tr><tr><td>69566</td></tr><tr><td>70504</td></tr><tr><td>&hellip;</td></tr><tr><td>70426</td></tr><tr><td>70524</td></tr><tr><td>58856</td></tr><tr><td>69849</td></tr><tr><td>70448</td></tr></tbody></table></div>"
      ],
      "text/plain": [
       "shape: (349, 1)\n",
       "┌─────────┐\n",
       "│ task id │\n",
       "│ ---     │\n",
       "│ i64     │\n",
       "╞═════════╡\n",
       "│ 69643   │\n",
       "│ 70556   │\n",
       "│ 70419   │\n",
       "│ 69566   │\n",
       "│ 70504   │\n",
       "│ …       │\n",
       "│ 70426   │\n",
       "│ 70524   │\n",
       "│ 58856   │\n",
       "│ 69849   │\n",
       "│ 70448   │\n",
       "└─────────┘"
      ]
     },
     "execution_count": 19,
     "metadata": {},
     "output_type": "execute_result"
    }
   ],
   "source": [
    "# find unique based on task id\n",
    "df3.select(pl.col(\"task id\")).unique()"
   ]
  },
  {
   "cell_type": "code",
   "execution_count": null,
   "metadata": {},
   "outputs": [],
   "source": []
  }
 ],
 "metadata": {
  "kernelspec": {
   "display_name": ".venv",
   "language": "python",
   "name": "python3"
  },
  "language_info": {
   "codemirror_mode": {
    "name": "ipython",
    "version": 3
   },
   "file_extension": ".py",
   "mimetype": "text/x-python",
   "name": "python",
   "nbconvert_exporter": "python",
   "pygments_lexer": "ipython3",
   "version": "3.10.17"
  }
 },
 "nbformat": 4,
 "nbformat_minor": 2
}
